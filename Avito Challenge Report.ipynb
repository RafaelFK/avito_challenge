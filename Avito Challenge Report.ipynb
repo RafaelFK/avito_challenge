{
 "cells": [
  {
   "cell_type": "markdown",
   "metadata": {},
   "source": [
    "## Bibliotecas utilizadas"
   ]
  },
  {
   "cell_type": "code",
   "execution_count": 90,
   "metadata": {},
   "outputs": [],
   "source": [
    "import numpy as np\n",
    "import pandas as pd\n",
    "import matplotlib.pyplot as plt\n",
    "\n",
    "from sklearn.base import BaseEstimator, TransformerMixin # Para definição de transformadores personalizados\n",
    "from sklearn.preprocessing import OneHotEncoder, Imputer, FunctionTransformer, StandardScaler\n",
    "# from category_encoders import OrdinalEncoder\n",
    "from future_encoders import OrdinalEncoder\n",
    "from sklearn.pipeline import Pipeline, FeatureUnion\n",
    "from sklearn.feature_extraction.text import CountVectorizer, TfidfVectorizer\n",
    "from sklearn.decomposition import TruncatedSVD\n",
    "\n",
    "from sklearn.tree import DecisionTreeRegressor\n",
    "from sklearn.svm import SVR\n",
    "from sklearn.ensemble import RandomForestRegressor\n",
    "\n",
    "from sklearn.metrics import mean_squared_error\n",
    "from sklearn.model_selection import cross_val_score, GridSearchCV\n",
    "import time\n",
    "from IPython.display import display\n",
    "\n",
    "from sklearn.externals import joblib\n",
    "import os"
   ]
  },
  {
   "cell_type": "markdown",
   "metadata": {},
   "source": [
    "# 1. Introdução"
   ]
  },
  {
   "cell_type": "markdown",
   "metadata": {},
   "source": [
    "Avito é a maior página russa de classificados de produtos e serviços, aos moldes do Craigslist. Desde de 2015, a companhia lança desafios anuais no Kaggle, uma plataforma que promove competições envolvendo análise de dados. Nesses desafíos, a Avito disponibiliza parte de seus dados para que competidores extraiam conclusões e construam modelos capazes de aprimorar a plataforma."
   ]
  },
  {
   "cell_type": "markdown",
   "metadata": {},
   "source": [
    "No desafio desse ano, o objetivo proposto é desenvolver um modelo capaz de predizer quão efetivo um anúncio qualquer no site será. Para tal, são disponibilizados em formato tabular, uma série de dados pertinentes aos seus anúncios:"
   ]
  },
  {
   "cell_type": "markdown",
   "metadata": {},
   "source": [
    "- `item_id`: \n",
    "   <br>Identificação do anúncio;<br><br>\n",
    "- `user_id`: \n",
    "   <br>Identificação do vendedor;<br><br>\n",
    "- `region`: \n",
    "   <br>Região em que o produto é oferecido;<br><br>\n",
    "- `city`: \n",
    "   <br>Cidade em que o produto é oferecido;<br><br>\n",
    "- `parent_category_name`: \n",
    "   <br>Categoria do anúncio;<br><br>\n",
    "- `category_name`: \n",
    "   <br>Categoria detalhada do anúncio;<br><br>\n",
    "- `param_1`: \n",
    "   <br>Parâmetro opcional de categorização do anúncio;<br><br>\n",
    "- `param_2`:\n",
    "   <br>Parâmetro opcional de categorização do anúncio;<br><br>\n",
    "- `param_3`: \n",
    "   <br>Parâmetro opcional de categorização do anúncio;<br><br>\n",
    "- `title`:\n",
    "   <br>Título do anúncio;<br><br>\n",
    "- `description`:\n",
    "   <br>Descrição do anúncio;<br><br>\n",
    "- `price`: \n",
    "   <br>Preço do produto;<br><br>\n",
    "- `item_seq_number`: \n",
    "   <br>Número sequencial de anúncio para o usuário;<br><br>\n",
    "- `activation_date`: \n",
    "   <br>Data em que o anúncio foi anunciado;<br><br>\n",
    "- `user_type`:\n",
    "   <br>Tipo de vendedor;<br><br>\n",
    "- `image`:\n",
    "   <br>Identificador da imagem no anúncio;<br><br>\n",
    "- `image_top_1`:\n",
    "   <br>Classificação da imagem;<br><br>\n",
    "- `deal_probability`:\n",
    "   <br>Variável alvo. Essa é a probabilidade que um anúncio tenha vendido algo. Não é binário, pois a empresa não é capaz de verificar todas as vendas.\n"
   ]
  },
  {
   "cell_type": "markdown",
   "metadata": {},
   "source": [
    "Além desses dados, também são disponibilizados dados tabulares adicionais e imagens, mas nós iremos nos focar apenas nos atributos descritos previamente."
   ]
  },
  {
   "cell_type": "markdown",
   "metadata": {},
   "source": [
    "Vamos começar carregando os dados:"
   ]
  },
  {
   "cell_type": "code",
   "execution_count": 5,
   "metadata": {},
   "outputs": [],
   "source": [
    "# Algumas categorias dos atributos param_X são númericos, mas não queremos que sejam interpretados como tal.\n",
    "# Para convertê-los para strings, mas não converter indevidamentes NaNs,  usamos um mapa de conversão\n",
    "converters = {key: lambda x: np.nan if not x else str(x) for key in ('param_1', 'param_2', 'param_3')}\n",
    "\n",
    "df_train = pd.read_csv(\n",
    "    './data/train.csv',\n",
    "    parse_dates=['activation_date'],\n",
    "    converters=converters                  \n",
    ")"
   ]
  },
  {
   "cell_type": "code",
   "execution_count": 3,
   "metadata": {},
   "outputs": [],
   "source": [
    "X_test = pd.read_csv(\n",
    "    './data/test.csv',\n",
    "    parse_dates=['activation_date'],\n",
    "    converters=converters                  \n",
    ")"
   ]
  },
  {
   "cell_type": "code",
   "execution_count": 6,
   "metadata": {
    "scrolled": false
   },
   "outputs": [
    {
     "data": {
      "text/html": [
       "<div>\n",
       "<style scoped>\n",
       "    .dataframe tbody tr th:only-of-type {\n",
       "        vertical-align: middle;\n",
       "    }\n",
       "\n",
       "    .dataframe tbody tr th {\n",
       "        vertical-align: top;\n",
       "    }\n",
       "\n",
       "    .dataframe thead th {\n",
       "        text-align: right;\n",
       "    }\n",
       "</style>\n",
       "<table border=\"1\" class=\"dataframe\">\n",
       "  <thead>\n",
       "    <tr style=\"text-align: right;\">\n",
       "      <th></th>\n",
       "      <th>item_id</th>\n",
       "      <th>user_id</th>\n",
       "      <th>region</th>\n",
       "      <th>city</th>\n",
       "      <th>parent_category_name</th>\n",
       "      <th>category_name</th>\n",
       "      <th>param_1</th>\n",
       "      <th>param_2</th>\n",
       "      <th>param_3</th>\n",
       "      <th>title</th>\n",
       "      <th>description</th>\n",
       "      <th>price</th>\n",
       "      <th>item_seq_number</th>\n",
       "      <th>activation_date</th>\n",
       "      <th>user_type</th>\n",
       "      <th>image</th>\n",
       "      <th>image_top_1</th>\n",
       "      <th>deal_probability</th>\n",
       "    </tr>\n",
       "  </thead>\n",
       "  <tbody>\n",
       "    <tr>\n",
       "      <th>0</th>\n",
       "      <td>b912c3c6a6ad</td>\n",
       "      <td>e00f8ff2eaf9</td>\n",
       "      <td>Свердловская область</td>\n",
       "      <td>Екатеринбург</td>\n",
       "      <td>Личные вещи</td>\n",
       "      <td>Товары для детей и игрушки</td>\n",
       "      <td>Постельные принадлежности</td>\n",
       "      <td>NaN</td>\n",
       "      <td>NaN</td>\n",
       "      <td>Кокоби(кокон для сна)</td>\n",
       "      <td>Кокон для сна малыша,пользовались меньше месяц...</td>\n",
       "      <td>400.0</td>\n",
       "      <td>2</td>\n",
       "      <td>2017-03-28</td>\n",
       "      <td>Private</td>\n",
       "      <td>d10c7e016e03247a3bf2d13348fe959fe6f436c1caf64c...</td>\n",
       "      <td>1008.0</td>\n",
       "      <td>0.12789</td>\n",
       "    </tr>\n",
       "    <tr>\n",
       "      <th>1</th>\n",
       "      <td>2dac0150717d</td>\n",
       "      <td>39aeb48f0017</td>\n",
       "      <td>Самарская область</td>\n",
       "      <td>Самара</td>\n",
       "      <td>Для дома и дачи</td>\n",
       "      <td>Мебель и интерьер</td>\n",
       "      <td>Другое</td>\n",
       "      <td>NaN</td>\n",
       "      <td>NaN</td>\n",
       "      <td>Стойка для Одежды</td>\n",
       "      <td>Стойка для одежды, под вешалки. С бутика.</td>\n",
       "      <td>3000.0</td>\n",
       "      <td>19</td>\n",
       "      <td>2017-03-26</td>\n",
       "      <td>Private</td>\n",
       "      <td>79c9392cc51a9c81c6eb91eceb8e552171db39d7142700...</td>\n",
       "      <td>692.0</td>\n",
       "      <td>0.00000</td>\n",
       "    </tr>\n",
       "    <tr>\n",
       "      <th>2</th>\n",
       "      <td>ba83aefab5dc</td>\n",
       "      <td>91e2f88dd6e3</td>\n",
       "      <td>Ростовская область</td>\n",
       "      <td>Ростов-на-Дону</td>\n",
       "      <td>Бытовая электроника</td>\n",
       "      <td>Аудио и видео</td>\n",
       "      <td>Видео, DVD и Blu-ray плееры</td>\n",
       "      <td>NaN</td>\n",
       "      <td>NaN</td>\n",
       "      <td>Philips bluray</td>\n",
       "      <td>В хорошем состоянии, домашний кинотеатр с blu ...</td>\n",
       "      <td>4000.0</td>\n",
       "      <td>9</td>\n",
       "      <td>2017-03-20</td>\n",
       "      <td>Private</td>\n",
       "      <td>b7f250ee3f39e1fedd77c141f273703f4a9be59db4b48a...</td>\n",
       "      <td>3032.0</td>\n",
       "      <td>0.43177</td>\n",
       "    </tr>\n",
       "    <tr>\n",
       "      <th>3</th>\n",
       "      <td>02996f1dd2ea</td>\n",
       "      <td>bf5cccea572d</td>\n",
       "      <td>Татарстан</td>\n",
       "      <td>Набережные Челны</td>\n",
       "      <td>Личные вещи</td>\n",
       "      <td>Товары для детей и игрушки</td>\n",
       "      <td>Автомобильные кресла</td>\n",
       "      <td>NaN</td>\n",
       "      <td>NaN</td>\n",
       "      <td>Автокресло</td>\n",
       "      <td>Продам кресло от0-25кг</td>\n",
       "      <td>2200.0</td>\n",
       "      <td>286</td>\n",
       "      <td>2017-03-25</td>\n",
       "      <td>Company</td>\n",
       "      <td>e6ef97e0725637ea84e3d203e82dadb43ed3cc0a1c8413...</td>\n",
       "      <td>796.0</td>\n",
       "      <td>0.80323</td>\n",
       "    </tr>\n",
       "    <tr>\n",
       "      <th>4</th>\n",
       "      <td>7c90be56d2ab</td>\n",
       "      <td>ef50846afc0b</td>\n",
       "      <td>Волгоградская область</td>\n",
       "      <td>Волгоград</td>\n",
       "      <td>Транспорт</td>\n",
       "      <td>Автомобили</td>\n",
       "      <td>С пробегом</td>\n",
       "      <td>ВАЗ (LADA)</td>\n",
       "      <td>2110</td>\n",
       "      <td>ВАЗ 2110, 2003</td>\n",
       "      <td>Все вопросы по телефону.</td>\n",
       "      <td>40000.0</td>\n",
       "      <td>3</td>\n",
       "      <td>2017-03-16</td>\n",
       "      <td>Private</td>\n",
       "      <td>54a687a3a0fc1d68aed99bdaaf551c5c70b761b16fd0a2...</td>\n",
       "      <td>2264.0</td>\n",
       "      <td>0.20797</td>\n",
       "    </tr>\n",
       "    <tr>\n",
       "      <th>5</th>\n",
       "      <td>51e0962387f7</td>\n",
       "      <td>bbfad0b1ad0a</td>\n",
       "      <td>Татарстан</td>\n",
       "      <td>Чистополь</td>\n",
       "      <td>Личные вещи</td>\n",
       "      <td>Товары для детей и игрушки</td>\n",
       "      <td>Автомобильные кресла</td>\n",
       "      <td>NaN</td>\n",
       "      <td>NaN</td>\n",
       "      <td>Авто люлька</td>\n",
       "      <td>В хорошем состоянии</td>\n",
       "      <td>1300.0</td>\n",
       "      <td>9</td>\n",
       "      <td>2017-03-28</td>\n",
       "      <td>Private</td>\n",
       "      <td>eb6ad1231c59d3dc7e4020e724ffe8e4d302023ddcbb99...</td>\n",
       "      <td>796.0</td>\n",
       "      <td>0.80323</td>\n",
       "    </tr>\n",
       "    <tr>\n",
       "      <th>6</th>\n",
       "      <td>c4f260a2b48a</td>\n",
       "      <td>08f469d2e6f7</td>\n",
       "      <td>Нижегородская область</td>\n",
       "      <td>Нижний Новгород</td>\n",
       "      <td>Для дома и дачи</td>\n",
       "      <td>Ремонт и строительство</td>\n",
       "      <td>Сантехника и сауна</td>\n",
       "      <td>NaN</td>\n",
       "      <td>NaN</td>\n",
       "      <td>Водонагреватель 100 литров нержавейка плоский</td>\n",
       "      <td>Электро водонагреватель накопительный на 100 л...</td>\n",
       "      <td>11000.0</td>\n",
       "      <td>125</td>\n",
       "      <td>2017-03-23</td>\n",
       "      <td>Private</td>\n",
       "      <td>0330f6ac561f5db1fa8226dd5e7e127b5671d44d075a98...</td>\n",
       "      <td>2823.0</td>\n",
       "      <td>0.00000</td>\n",
       "    </tr>\n",
       "    <tr>\n",
       "      <th>7</th>\n",
       "      <td>6b71309d6a8a</td>\n",
       "      <td>fef86baa002c</td>\n",
       "      <td>Пермский край</td>\n",
       "      <td>Пермь</td>\n",
       "      <td>Личные вещи</td>\n",
       "      <td>Одежда, обувь, аксессуары</td>\n",
       "      <td>Женская одежда</td>\n",
       "      <td>Джинсы</td>\n",
       "      <td>26</td>\n",
       "      <td>Бойфренды colins</td>\n",
       "      <td>Бойфренды в хорошем состоянии.</td>\n",
       "      <td>500.0</td>\n",
       "      <td>61</td>\n",
       "      <td>2017-03-25</td>\n",
       "      <td>Private</td>\n",
       "      <td>9bab29a519e81c14f4582024adfebd4f11a4ac71d323a6...</td>\n",
       "      <td>567.0</td>\n",
       "      <td>0.80323</td>\n",
       "    </tr>\n",
       "    <tr>\n",
       "      <th>8</th>\n",
       "      <td>c5b969cb63a2</td>\n",
       "      <td>055825270190</td>\n",
       "      <td>Оренбургская область</td>\n",
       "      <td>Оренбург</td>\n",
       "      <td>Личные вещи</td>\n",
       "      <td>Одежда, обувь, аксессуары</td>\n",
       "      <td>Женская одежда</td>\n",
       "      <td>Платья и юбки</td>\n",
       "      <td>&gt; 50 (XXL)</td>\n",
       "      <td>Платье</td>\n",
       "      <td>54 раз мер очень удобное</td>\n",
       "      <td>500.0</td>\n",
       "      <td>85</td>\n",
       "      <td>2017-03-17</td>\n",
       "      <td>Private</td>\n",
       "      <td>75ce06d1f939a31dfb2af8ac55f08fa998fa336d13ee05...</td>\n",
       "      <td>415.0</td>\n",
       "      <td>0.00000</td>\n",
       "    </tr>\n",
       "    <tr>\n",
       "      <th>9</th>\n",
       "      <td>b1570962e68c</td>\n",
       "      <td>f9e8f831d94c</td>\n",
       "      <td>Нижегородская область</td>\n",
       "      <td>Нижний Новгород</td>\n",
       "      <td>Личные вещи</td>\n",
       "      <td>Детская одежда и обувь</td>\n",
       "      <td>Для девочек</td>\n",
       "      <td>Обувь</td>\n",
       "      <td>25</td>\n",
       "      <td>Полу ботиночки замш натур.Бамбини</td>\n",
       "      <td>По стельке 15.5см мерить приокский район. Цвет...</td>\n",
       "      <td>400.0</td>\n",
       "      <td>136</td>\n",
       "      <td>2017-03-22</td>\n",
       "      <td>Company</td>\n",
       "      <td>54fb8521135fda77a860bfd2fac6bf46867ab7c06796e3...</td>\n",
       "      <td>46.0</td>\n",
       "      <td>0.00000</td>\n",
       "    </tr>\n",
       "  </tbody>\n",
       "</table>\n",
       "</div>"
      ],
      "text/plain": [
       "        item_id       user_id                 region              city  \\\n",
       "0  b912c3c6a6ad  e00f8ff2eaf9   Свердловская область      Екатеринбург   \n",
       "1  2dac0150717d  39aeb48f0017      Самарская область            Самара   \n",
       "2  ba83aefab5dc  91e2f88dd6e3     Ростовская область    Ростов-на-Дону   \n",
       "3  02996f1dd2ea  bf5cccea572d              Татарстан  Набережные Челны   \n",
       "4  7c90be56d2ab  ef50846afc0b  Волгоградская область         Волгоград   \n",
       "5  51e0962387f7  bbfad0b1ad0a              Татарстан         Чистополь   \n",
       "6  c4f260a2b48a  08f469d2e6f7  Нижегородская область   Нижний Новгород   \n",
       "7  6b71309d6a8a  fef86baa002c          Пермский край             Пермь   \n",
       "8  c5b969cb63a2  055825270190   Оренбургская область          Оренбург   \n",
       "9  b1570962e68c  f9e8f831d94c  Нижегородская область   Нижний Новгород   \n",
       "\n",
       "  parent_category_name               category_name  \\\n",
       "0          Личные вещи  Товары для детей и игрушки   \n",
       "1      Для дома и дачи           Мебель и интерьер   \n",
       "2  Бытовая электроника               Аудио и видео   \n",
       "3          Личные вещи  Товары для детей и игрушки   \n",
       "4            Транспорт                  Автомобили   \n",
       "5          Личные вещи  Товары для детей и игрушки   \n",
       "6      Для дома и дачи      Ремонт и строительство   \n",
       "7          Личные вещи   Одежда, обувь, аксессуары   \n",
       "8          Личные вещи   Одежда, обувь, аксессуары   \n",
       "9          Личные вещи      Детская одежда и обувь   \n",
       "\n",
       "                       param_1        param_2     param_3  \\\n",
       "0    Постельные принадлежности            NaN         NaN   \n",
       "1                       Другое            NaN         NaN   \n",
       "2  Видео, DVD и Blu-ray плееры            NaN         NaN   \n",
       "3         Автомобильные кресла            NaN         NaN   \n",
       "4                   С пробегом     ВАЗ (LADA)        2110   \n",
       "5         Автомобильные кресла            NaN         NaN   \n",
       "6           Сантехника и сауна            NaN         NaN   \n",
       "7               Женская одежда         Джинсы          26   \n",
       "8               Женская одежда  Платья и юбки  > 50 (XXL)   \n",
       "9                  Для девочек          Обувь          25   \n",
       "\n",
       "                                           title  \\\n",
       "0                          Кокоби(кокон для сна)   \n",
       "1                              Стойка для Одежды   \n",
       "2                                 Philips bluray   \n",
       "3                                     Автокресло   \n",
       "4                                 ВАЗ 2110, 2003   \n",
       "5                                    Авто люлька   \n",
       "6  Водонагреватель 100 литров нержавейка плоский   \n",
       "7                               Бойфренды colins   \n",
       "8                                         Платье   \n",
       "9              Полу ботиночки замш натур.Бамбини   \n",
       "\n",
       "                                         description    price  \\\n",
       "0  Кокон для сна малыша,пользовались меньше месяц...    400.0   \n",
       "1          Стойка для одежды, под вешалки. С бутика.   3000.0   \n",
       "2  В хорошем состоянии, домашний кинотеатр с blu ...   4000.0   \n",
       "3                             Продам кресло от0-25кг   2200.0   \n",
       "4                           Все вопросы по телефону.  40000.0   \n",
       "5                                В хорошем состоянии   1300.0   \n",
       "6  Электро водонагреватель накопительный на 100 л...  11000.0   \n",
       "7                     Бойфренды в хорошем состоянии.    500.0   \n",
       "8                           54 раз мер очень удобное    500.0   \n",
       "9  По стельке 15.5см мерить приокский район. Цвет...    400.0   \n",
       "\n",
       "   item_seq_number activation_date user_type  \\\n",
       "0                2      2017-03-28   Private   \n",
       "1               19      2017-03-26   Private   \n",
       "2                9      2017-03-20   Private   \n",
       "3              286      2017-03-25   Company   \n",
       "4                3      2017-03-16   Private   \n",
       "5                9      2017-03-28   Private   \n",
       "6              125      2017-03-23   Private   \n",
       "7               61      2017-03-25   Private   \n",
       "8               85      2017-03-17   Private   \n",
       "9              136      2017-03-22   Company   \n",
       "\n",
       "                                               image  image_top_1  \\\n",
       "0  d10c7e016e03247a3bf2d13348fe959fe6f436c1caf64c...       1008.0   \n",
       "1  79c9392cc51a9c81c6eb91eceb8e552171db39d7142700...        692.0   \n",
       "2  b7f250ee3f39e1fedd77c141f273703f4a9be59db4b48a...       3032.0   \n",
       "3  e6ef97e0725637ea84e3d203e82dadb43ed3cc0a1c8413...        796.0   \n",
       "4  54a687a3a0fc1d68aed99bdaaf551c5c70b761b16fd0a2...       2264.0   \n",
       "5  eb6ad1231c59d3dc7e4020e724ffe8e4d302023ddcbb99...        796.0   \n",
       "6  0330f6ac561f5db1fa8226dd5e7e127b5671d44d075a98...       2823.0   \n",
       "7  9bab29a519e81c14f4582024adfebd4f11a4ac71d323a6...        567.0   \n",
       "8  75ce06d1f939a31dfb2af8ac55f08fa998fa336d13ee05...        415.0   \n",
       "9  54fb8521135fda77a860bfd2fac6bf46867ab7c06796e3...         46.0   \n",
       "\n",
       "   deal_probability  \n",
       "0           0.12789  \n",
       "1           0.00000  \n",
       "2           0.43177  \n",
       "3           0.80323  \n",
       "4           0.20797  \n",
       "5           0.80323  \n",
       "6           0.00000  \n",
       "7           0.80323  \n",
       "8           0.00000  \n",
       "9           0.00000  "
      ]
     },
     "execution_count": 6,
     "metadata": {},
     "output_type": "execute_result"
    }
   ],
   "source": [
    "df_train.head(10)"
   ]
  },
  {
   "cell_type": "markdown",
   "metadata": {},
   "source": [
    "Repartindo o dataset em um DataFrame de treino e um vetor da função alvo:"
   ]
  },
  {
   "cell_type": "code",
   "execution_count": 7,
   "metadata": {},
   "outputs": [],
   "source": [
    "X_train, y_train = df_train[df_train.columns.difference(['deal_probability'])].copy(), df_train[['deal_probability']].copy()"
   ]
  },
  {
   "cell_type": "markdown",
   "metadata": {},
   "source": [
    "# 2. Processando dados"
   ]
  },
  {
   "cell_type": "markdown",
   "metadata": {},
   "source": [
    "Com base nessa primeira observação dos dados, podemos ver que algumas transformações terão de ser aplicadas antes de desenvolver qualquer modelo. Alguns atributos não parecem ter grande valor para nosso objetivo, como `user_id`. Além disso, várias entradas têm dados faltantes, o que exigirá uma série de imputações. Ainda, temos uma mistura de dados categóricos e textuais que exigirão diferentes transformações de codificação."
   ]
  },
  {
   "cell_type": "markdown",
   "metadata": {},
   "source": [
    "Iremos fazer uso de Pipelines do Scikit Learn para criar objetos que encadeiam todas as nossas trasformações e podem ser reutilizados mais facilmente nos dados de validação. Inicialmente, vamos definir transformadores auxiliares para selecionar atributos de um DataFrame e construir DataFrames, a serem utilizados pelos transformadores subsequentes:"
   ]
  },
  {
   "cell_type": "code",
   "execution_count": 8,
   "metadata": {},
   "outputs": [],
   "source": [
    "class DataFrameSelector(BaseEstimator, TransformerMixin):\n",
    "    def __init__(self, attribute_names, as_ndarray=False):\n",
    "        self.attribute_names = attribute_names\n",
    "        self.as_ndarray = as_ndarray\n",
    "        \n",
    "    def fit(self, X, y=None):\n",
    "        return self\n",
    "    \n",
    "    def transform(self, X):\n",
    "        return X[self.attribute_names] if not self.as_ndarray else X[self.attribute_names].values\n",
    "    \n",
    "class ToDataFrameTransformer(BaseEstimator, TransformerMixin):\n",
    "    def __init__(self, columns=None):\n",
    "        self.columns = columns\n",
    "        \n",
    "    def fit(self, X, y=None):\n",
    "        return self\n",
    "    \n",
    "    def transform(self, X):\n",
    "        return pd.DataFrame(X, columns=self.columns)"
   ]
  },
  {
   "cell_type": "markdown",
   "metadata": {},
   "source": [
    "## 2.1. Removendo atributos"
   ]
  },
  {
   "cell_type": "markdown",
   "metadata": {},
   "source": [
    "O dataset tem alguns atributos que não são exatamente úteis para nossa modelagem, como `item_id` e `user_id` Ainda, não faremos qualquer processamento de imagens. então, o atributo de identificadores de imagens, `image` não nos tem serventia.Vamos declarar um seletor inicial, responsável por produzir um DataFrame sem esses atributos. Esse DataFrame servirá de base para nossas transfomações posteriores:"
   ]
  },
  {
   "cell_type": "code",
   "execution_count": 9,
   "metadata": {},
   "outputs": [],
   "source": [
    "features_selector = DataFrameSelector(X_train.columns.difference(['item_id', 'user_id', 'image']))"
   ]
  },
  {
   "cell_type": "markdown",
   "metadata": {},
   "source": [
    "Quando aplicado ao dataset, temos:"
   ]
  },
  {
   "cell_type": "code",
   "execution_count": 10,
   "metadata": {},
   "outputs": [],
   "source": [
    "X_transf = features_selector.transform(X_train)"
   ]
  },
  {
   "cell_type": "code",
   "execution_count": 11,
   "metadata": {},
   "outputs": [
    {
     "data": {
      "text/html": [
       "<div>\n",
       "<style scoped>\n",
       "    .dataframe tbody tr th:only-of-type {\n",
       "        vertical-align: middle;\n",
       "    }\n",
       "\n",
       "    .dataframe tbody tr th {\n",
       "        vertical-align: top;\n",
       "    }\n",
       "\n",
       "    .dataframe thead th {\n",
       "        text-align: right;\n",
       "    }\n",
       "</style>\n",
       "<table border=\"1\" class=\"dataframe\">\n",
       "  <thead>\n",
       "    <tr style=\"text-align: right;\">\n",
       "      <th></th>\n",
       "      <th>activation_date</th>\n",
       "      <th>category_name</th>\n",
       "      <th>city</th>\n",
       "      <th>description</th>\n",
       "      <th>image_top_1</th>\n",
       "      <th>item_seq_number</th>\n",
       "      <th>param_1</th>\n",
       "      <th>param_2</th>\n",
       "      <th>param_3</th>\n",
       "      <th>parent_category_name</th>\n",
       "      <th>price</th>\n",
       "      <th>region</th>\n",
       "      <th>title</th>\n",
       "      <th>user_type</th>\n",
       "    </tr>\n",
       "  </thead>\n",
       "  <tbody>\n",
       "    <tr>\n",
       "      <th>0</th>\n",
       "      <td>2017-03-28</td>\n",
       "      <td>Товары для детей и игрушки</td>\n",
       "      <td>Екатеринбург</td>\n",
       "      <td>Кокон для сна малыша,пользовались меньше месяц...</td>\n",
       "      <td>1008.0</td>\n",
       "      <td>2</td>\n",
       "      <td>Постельные принадлежности</td>\n",
       "      <td>NaN</td>\n",
       "      <td>NaN</td>\n",
       "      <td>Личные вещи</td>\n",
       "      <td>400.0</td>\n",
       "      <td>Свердловская область</td>\n",
       "      <td>Кокоби(кокон для сна)</td>\n",
       "      <td>Private</td>\n",
       "    </tr>\n",
       "    <tr>\n",
       "      <th>1</th>\n",
       "      <td>2017-03-26</td>\n",
       "      <td>Мебель и интерьер</td>\n",
       "      <td>Самара</td>\n",
       "      <td>Стойка для одежды, под вешалки. С бутика.</td>\n",
       "      <td>692.0</td>\n",
       "      <td>19</td>\n",
       "      <td>Другое</td>\n",
       "      <td>NaN</td>\n",
       "      <td>NaN</td>\n",
       "      <td>Для дома и дачи</td>\n",
       "      <td>3000.0</td>\n",
       "      <td>Самарская область</td>\n",
       "      <td>Стойка для Одежды</td>\n",
       "      <td>Private</td>\n",
       "    </tr>\n",
       "    <tr>\n",
       "      <th>2</th>\n",
       "      <td>2017-03-20</td>\n",
       "      <td>Аудио и видео</td>\n",
       "      <td>Ростов-на-Дону</td>\n",
       "      <td>В хорошем состоянии, домашний кинотеатр с blu ...</td>\n",
       "      <td>3032.0</td>\n",
       "      <td>9</td>\n",
       "      <td>Видео, DVD и Blu-ray плееры</td>\n",
       "      <td>NaN</td>\n",
       "      <td>NaN</td>\n",
       "      <td>Бытовая электроника</td>\n",
       "      <td>4000.0</td>\n",
       "      <td>Ростовская область</td>\n",
       "      <td>Philips bluray</td>\n",
       "      <td>Private</td>\n",
       "    </tr>\n",
       "    <tr>\n",
       "      <th>3</th>\n",
       "      <td>2017-03-25</td>\n",
       "      <td>Товары для детей и игрушки</td>\n",
       "      <td>Набережные Челны</td>\n",
       "      <td>Продам кресло от0-25кг</td>\n",
       "      <td>796.0</td>\n",
       "      <td>286</td>\n",
       "      <td>Автомобильные кресла</td>\n",
       "      <td>NaN</td>\n",
       "      <td>NaN</td>\n",
       "      <td>Личные вещи</td>\n",
       "      <td>2200.0</td>\n",
       "      <td>Татарстан</td>\n",
       "      <td>Автокресло</td>\n",
       "      <td>Company</td>\n",
       "    </tr>\n",
       "    <tr>\n",
       "      <th>4</th>\n",
       "      <td>2017-03-16</td>\n",
       "      <td>Автомобили</td>\n",
       "      <td>Волгоград</td>\n",
       "      <td>Все вопросы по телефону.</td>\n",
       "      <td>2264.0</td>\n",
       "      <td>3</td>\n",
       "      <td>С пробегом</td>\n",
       "      <td>ВАЗ (LADA)</td>\n",
       "      <td>2110</td>\n",
       "      <td>Транспорт</td>\n",
       "      <td>40000.0</td>\n",
       "      <td>Волгоградская область</td>\n",
       "      <td>ВАЗ 2110, 2003</td>\n",
       "      <td>Private</td>\n",
       "    </tr>\n",
       "  </tbody>\n",
       "</table>\n",
       "</div>"
      ],
      "text/plain": [
       "  activation_date               category_name              city  \\\n",
       "0      2017-03-28  Товары для детей и игрушки      Екатеринбург   \n",
       "1      2017-03-26           Мебель и интерьер            Самара   \n",
       "2      2017-03-20               Аудио и видео    Ростов-на-Дону   \n",
       "3      2017-03-25  Товары для детей и игрушки  Набережные Челны   \n",
       "4      2017-03-16                  Автомобили         Волгоград   \n",
       "\n",
       "                                         description  image_top_1  \\\n",
       "0  Кокон для сна малыша,пользовались меньше месяц...       1008.0   \n",
       "1          Стойка для одежды, под вешалки. С бутика.        692.0   \n",
       "2  В хорошем состоянии, домашний кинотеатр с blu ...       3032.0   \n",
       "3                             Продам кресло от0-25кг        796.0   \n",
       "4                           Все вопросы по телефону.       2264.0   \n",
       "\n",
       "   item_seq_number                      param_1     param_2 param_3  \\\n",
       "0                2    Постельные принадлежности         NaN     NaN   \n",
       "1               19                       Другое         NaN     NaN   \n",
       "2                9  Видео, DVD и Blu-ray плееры         NaN     NaN   \n",
       "3              286         Автомобильные кресла         NaN     NaN   \n",
       "4                3                   С пробегом  ВАЗ (LADA)    2110   \n",
       "\n",
       "  parent_category_name    price                 region                  title  \\\n",
       "0          Личные вещи    400.0   Свердловская область  Кокоби(кокон для сна)   \n",
       "1      Для дома и дачи   3000.0      Самарская область      Стойка для Одежды   \n",
       "2  Бытовая электроника   4000.0     Ростовская область         Philips bluray   \n",
       "3          Личные вещи   2200.0              Татарстан             Автокресло   \n",
       "4            Транспорт  40000.0  Волгоградская область         ВАЗ 2110, 2003   \n",
       "\n",
       "  user_type  \n",
       "0   Private  \n",
       "1   Private  \n",
       "2   Private  \n",
       "3   Company  \n",
       "4   Private  "
      ]
     },
     "execution_count": 11,
     "metadata": {},
     "output_type": "execute_result"
    }
   ],
   "source": [
    "X_transf.head()"
   ]
  },
  {
   "cell_type": "markdown",
   "metadata": {},
   "source": [
    "## 2.2. Tratando datas"
   ]
  },
  {
   "cell_type": "markdown",
   "metadata": {},
   "source": [
    "O atributo `activation_date`, em sua forma atual, não é muito útil. Identificar variações na probabilidade de sucesso de venda em relação à uma data específica dificilmente irá ser muito aplicável a dados desconhecidos. Por outro lado, se repartirmos esse atributo em vertentes mais gerais, possivelmente consiguiremos incorporar conhecimento mais geral em nossos modelos. Com isso em mente, criaremos três novos atributos a partir de `activation_date`: `month`, `day` e `weekday`:  "
   ]
  },
  {
   "cell_type": "code",
   "execution_count": 12,
   "metadata": {},
   "outputs": [],
   "source": [
    "# Essa transformação espera uma única série de timestamps e retorna um DataFrame\n",
    "class TimestampTransformer(BaseEstimator, TransformerMixin):\n",
    "    def fit(self, X, y=None):\n",
    "        return self\n",
    "    \n",
    "    def transform(self, X):\n",
    "        return pd.DataFrame(\n",
    "            np.c_[\n",
    "                X.dt.month,\n",
    "                X.dt.day,\n",
    "                X.dt.weekday\n",
    "            ],\n",
    "            columns=['month', 'day', 'weekday']\n",
    "        )"
   ]
  },
  {
   "cell_type": "markdown",
   "metadata": {},
   "source": [
    "Quando aplicamos esse transformador ao dataset, obtemos:"
   ]
  },
  {
   "cell_type": "code",
   "execution_count": 13,
   "metadata": {},
   "outputs": [],
   "source": [
    "process_date = Pipeline([\n",
    "    ('date_series_selector', DataFrameSelector('activation_date')),\n",
    "    ('date_features_transformer', TimestampTransformer())\n",
    "])\n",
    "\n",
    "X_test = process_date.transform(X_train)"
   ]
  },
  {
   "cell_type": "code",
   "execution_count": 14,
   "metadata": {},
   "outputs": [
    {
     "data": {
      "text/html": [
       "<div>\n",
       "<style scoped>\n",
       "    .dataframe tbody tr th:only-of-type {\n",
       "        vertical-align: middle;\n",
       "    }\n",
       "\n",
       "    .dataframe tbody tr th {\n",
       "        vertical-align: top;\n",
       "    }\n",
       "\n",
       "    .dataframe thead th {\n",
       "        text-align: right;\n",
       "    }\n",
       "</style>\n",
       "<table border=\"1\" class=\"dataframe\">\n",
       "  <thead>\n",
       "    <tr style=\"text-align: right;\">\n",
       "      <th></th>\n",
       "      <th>month</th>\n",
       "      <th>day</th>\n",
       "      <th>weekday</th>\n",
       "    </tr>\n",
       "  </thead>\n",
       "  <tbody>\n",
       "    <tr>\n",
       "      <th>0</th>\n",
       "      <td>3</td>\n",
       "      <td>28</td>\n",
       "      <td>1</td>\n",
       "    </tr>\n",
       "    <tr>\n",
       "      <th>1</th>\n",
       "      <td>3</td>\n",
       "      <td>26</td>\n",
       "      <td>6</td>\n",
       "    </tr>\n",
       "    <tr>\n",
       "      <th>2</th>\n",
       "      <td>3</td>\n",
       "      <td>20</td>\n",
       "      <td>0</td>\n",
       "    </tr>\n",
       "    <tr>\n",
       "      <th>3</th>\n",
       "      <td>3</td>\n",
       "      <td>25</td>\n",
       "      <td>5</td>\n",
       "    </tr>\n",
       "    <tr>\n",
       "      <th>4</th>\n",
       "      <td>3</td>\n",
       "      <td>16</td>\n",
       "      <td>3</td>\n",
       "    </tr>\n",
       "  </tbody>\n",
       "</table>\n",
       "</div>"
      ],
      "text/plain": [
       "   month  day  weekday\n",
       "0      3   28        1\n",
       "1      3   26        6\n",
       "2      3   20        0\n",
       "3      3   25        5\n",
       "4      3   16        3"
      ]
     },
     "execution_count": 14,
     "metadata": {},
     "output_type": "execute_result"
    }
   ],
   "source": [
    "X_test.head()"
   ]
  },
  {
   "cell_type": "markdown",
   "metadata": {},
   "source": [
    "## 2.2. Imputando dados faltantes"
   ]
  },
  {
   "cell_type": "markdown",
   "metadata": {},
   "source": [
    "Para o atributo de preço, vamos imputar a média dos valores conhecidos:"
   ]
  },
  {
   "cell_type": "code",
   "execution_count": 15,
   "metadata": {},
   "outputs": [],
   "source": [
    "price_imputer = Imputer(strategy='mean')\n",
    "\n",
    "process_price = Pipeline([\n",
    "    ('price_selector', DataFrameSelector(['price'])),\n",
    "    ('price_imputer', price_imputer),\n",
    "    ('to_data_frame', ToDataFrameTransformer(['price']))\n",
    "])"
   ]
  },
  {
   "cell_type": "markdown",
   "metadata": {},
   "source": [
    "Quando aplicado ao dataset, obtemos:"
   ]
  },
  {
   "cell_type": "code",
   "execution_count": 16,
   "metadata": {},
   "outputs": [],
   "source": [
    "X_price = process_price.fit_transform(df_train)"
   ]
  },
  {
   "cell_type": "code",
   "execution_count": 17,
   "metadata": {},
   "outputs": [
    {
     "data": {
      "text/html": [
       "<div>\n",
       "<style scoped>\n",
       "    .dataframe tbody tr th:only-of-type {\n",
       "        vertical-align: middle;\n",
       "    }\n",
       "\n",
       "    .dataframe tbody tr th {\n",
       "        vertical-align: top;\n",
       "    }\n",
       "\n",
       "    .dataframe thead th {\n",
       "        text-align: right;\n",
       "    }\n",
       "</style>\n",
       "<table border=\"1\" class=\"dataframe\">\n",
       "  <thead>\n",
       "    <tr style=\"text-align: right;\">\n",
       "      <th></th>\n",
       "      <th>price</th>\n",
       "    </tr>\n",
       "  </thead>\n",
       "  <tbody>\n",
       "    <tr>\n",
       "      <th>0</th>\n",
       "      <td>400.0</td>\n",
       "    </tr>\n",
       "    <tr>\n",
       "      <th>1</th>\n",
       "      <td>3000.0</td>\n",
       "    </tr>\n",
       "    <tr>\n",
       "      <th>2</th>\n",
       "      <td>4000.0</td>\n",
       "    </tr>\n",
       "    <tr>\n",
       "      <th>3</th>\n",
       "      <td>2200.0</td>\n",
       "    </tr>\n",
       "    <tr>\n",
       "      <th>4</th>\n",
       "      <td>40000.0</td>\n",
       "    </tr>\n",
       "  </tbody>\n",
       "</table>\n",
       "</div>"
      ],
      "text/plain": [
       "     price\n",
       "0    400.0\n",
       "1   3000.0\n",
       "2   4000.0\n",
       "3   2200.0\n",
       "4  40000.0"
      ]
     },
     "execution_count": 17,
     "metadata": {},
     "output_type": "execute_result"
    }
   ],
   "source": [
    "X_price.head()"
   ]
  },
  {
   "cell_type": "markdown",
   "metadata": {},
   "source": [
    "Para o atributo `image_top_1` vamos imputar o valor mais frequente:"
   ]
  },
  {
   "cell_type": "code",
   "execution_count": 18,
   "metadata": {},
   "outputs": [],
   "source": [
    "image_imputer = Imputer(strategy='most_frequent')\n",
    "\n",
    "process_image_class = Pipeline([\n",
    "    ('image_selector', DataFrameSelector(['image_top_1'])),\n",
    "    ('image_imputer', image_imputer),\n",
    "    ('to_data_frame', ToDataFrameTransformer(['image_top_1']))\n",
    "])"
   ]
  },
  {
   "cell_type": "code",
   "execution_count": 19,
   "metadata": {},
   "outputs": [],
   "source": [
    "X_image = process_image_class.fit_transform(df_train)"
   ]
  },
  {
   "cell_type": "code",
   "execution_count": 20,
   "metadata": {},
   "outputs": [
    {
     "data": {
      "text/html": [
       "<div>\n",
       "<style scoped>\n",
       "    .dataframe tbody tr th:only-of-type {\n",
       "        vertical-align: middle;\n",
       "    }\n",
       "\n",
       "    .dataframe tbody tr th {\n",
       "        vertical-align: top;\n",
       "    }\n",
       "\n",
       "    .dataframe thead th {\n",
       "        text-align: right;\n",
       "    }\n",
       "</style>\n",
       "<table border=\"1\" class=\"dataframe\">\n",
       "  <thead>\n",
       "    <tr style=\"text-align: right;\">\n",
       "      <th></th>\n",
       "      <th>image_top_1</th>\n",
       "    </tr>\n",
       "  </thead>\n",
       "  <tbody>\n",
       "    <tr>\n",
       "      <th>0</th>\n",
       "      <td>1008.0</td>\n",
       "    </tr>\n",
       "    <tr>\n",
       "      <th>1</th>\n",
       "      <td>692.0</td>\n",
       "    </tr>\n",
       "    <tr>\n",
       "      <th>2</th>\n",
       "      <td>3032.0</td>\n",
       "    </tr>\n",
       "    <tr>\n",
       "      <th>3</th>\n",
       "      <td>796.0</td>\n",
       "    </tr>\n",
       "    <tr>\n",
       "      <th>4</th>\n",
       "      <td>2264.0</td>\n",
       "    </tr>\n",
       "  </tbody>\n",
       "</table>\n",
       "</div>"
      ],
      "text/plain": [
       "   image_top_1\n",
       "0       1008.0\n",
       "1        692.0\n",
       "2       3032.0\n",
       "3        796.0\n",
       "4       2264.0"
      ]
     },
     "execution_count": 20,
     "metadata": {},
     "output_type": "execute_result"
    }
   ],
   "source": [
    "X_image.head()"
   ]
  },
  {
   "cell_type": "markdown",
   "metadata": {},
   "source": [
    "Para atributos categóricos, vamos também adotar a estratégia de imputar a classe mais frequente para cada coluna. No entanto, o imputador do Scikit Learn não consegue lidar com colunas não numéricas. Vamos então declarar um imputador personalizado para essa operação:"
   ]
  },
  {
   "cell_type": "code",
   "execution_count": 21,
   "metadata": {},
   "outputs": [],
   "source": [
    "class CategoricalImputer(BaseEstimator, TransformerMixin):\n",
    "    def fit(self, X, y=None):\n",
    "        self.most_frequent = pd.Series(X.values.ravel()).value_counts().index[0]\n",
    "        return self\n",
    "        \n",
    "    def transform(self, X):\n",
    "        return pd.DataFrame(pd.Series(X.values.ravel()).fillna(self.most_frequent))"
   ]
  },
  {
   "cell_type": "code",
   "execution_count": 22,
   "metadata": {},
   "outputs": [],
   "source": [
    "impute_cat = Pipeline([\n",
    "    ('cat_imputer', FeatureUnion([\n",
    "        ('region_imputer', Pipeline([\n",
    "            ('region_selector', DataFrameSelector('region')),\n",
    "            ('region_imputer', CategoricalImputer())\n",
    "        ])),\n",
    "        ('city_imputer', Pipeline([\n",
    "            ('city_selector', DataFrameSelector('city')),\n",
    "            ('city_imputer', CategoricalImputer())\n",
    "        ])),\n",
    "        ('parent_category_name_imputer', Pipeline([\n",
    "            ('parent_category_name_selector', DataFrameSelector('parent_category_name')),\n",
    "            ('parent_category_name_imputer', CategoricalImputer())\n",
    "        ])),\n",
    "        ('category_name_imputer', Pipeline([\n",
    "            ('category_name_selector', DataFrameSelector('category_name')),\n",
    "            ('category_name_imputer', CategoricalImputer())\n",
    "        ])),\n",
    "        ('param_1_imputer', Pipeline([\n",
    "            ('param_1_selector', DataFrameSelector('param_1')),\n",
    "            ('param_1_imputer', CategoricalImputer())\n",
    "        ])),\n",
    "        ('param_2_imputer', Pipeline([\n",
    "            ('param_2_selector', DataFrameSelector('param_2')),\n",
    "            ('param_2_imputer', CategoricalImputer())\n",
    "        ])),\n",
    "        ('param_3_imputer', Pipeline([\n",
    "            ('param_3_selector', DataFrameSelector('param_3')),\n",
    "            ('param_3_imputer', CategoricalImputer())\n",
    "        ])),\n",
    "        ('user_type_imputer', Pipeline([\n",
    "            ('user_type_selector', DataFrameSelector('user_type')),\n",
    "            ('user_type_imputer', CategoricalImputer())\n",
    "        ])),   \n",
    "    ])),\n",
    "    ('to_data_frame', ToDataFrameTransformer([\n",
    "        'region',\n",
    "        'city',\n",
    "        'parent_category_name',\n",
    "        'category_name',\n",
    "        'param_1',\n",
    "        'param_2',\n",
    "        'param_3',\n",
    "        'user_type'\n",
    "    ]))\n",
    "])"
   ]
  },
  {
   "cell_type": "code",
   "execution_count": 23,
   "metadata": {},
   "outputs": [],
   "source": [
    "X = impute_cat.fit_transform(X_train)"
   ]
  },
  {
   "cell_type": "code",
   "execution_count": 24,
   "metadata": {},
   "outputs": [
    {
     "data": {
      "text/html": [
       "<div>\n",
       "<style scoped>\n",
       "    .dataframe tbody tr th:only-of-type {\n",
       "        vertical-align: middle;\n",
       "    }\n",
       "\n",
       "    .dataframe tbody tr th {\n",
       "        vertical-align: top;\n",
       "    }\n",
       "\n",
       "    .dataframe thead th {\n",
       "        text-align: right;\n",
       "    }\n",
       "</style>\n",
       "<table border=\"1\" class=\"dataframe\">\n",
       "  <thead>\n",
       "    <tr style=\"text-align: right;\">\n",
       "      <th></th>\n",
       "      <th>region</th>\n",
       "      <th>city</th>\n",
       "      <th>parent_category_name</th>\n",
       "      <th>category_name</th>\n",
       "      <th>param_1</th>\n",
       "      <th>param_2</th>\n",
       "      <th>param_3</th>\n",
       "      <th>user_type</th>\n",
       "    </tr>\n",
       "  </thead>\n",
       "  <tbody>\n",
       "    <tr>\n",
       "      <th>0</th>\n",
       "      <td>Свердловская область</td>\n",
       "      <td>Екатеринбург</td>\n",
       "      <td>Личные вещи</td>\n",
       "      <td>Товары для детей и игрушки</td>\n",
       "      <td>Постельные принадлежности</td>\n",
       "      <td>Обувь</td>\n",
       "      <td>Вторичка</td>\n",
       "      <td>Private</td>\n",
       "    </tr>\n",
       "    <tr>\n",
       "      <th>1</th>\n",
       "      <td>Самарская область</td>\n",
       "      <td>Самара</td>\n",
       "      <td>Для дома и дачи</td>\n",
       "      <td>Мебель и интерьер</td>\n",
       "      <td>Другое</td>\n",
       "      <td>Обувь</td>\n",
       "      <td>Вторичка</td>\n",
       "      <td>Private</td>\n",
       "    </tr>\n",
       "    <tr>\n",
       "      <th>2</th>\n",
       "      <td>Ростовская область</td>\n",
       "      <td>Ростов-на-Дону</td>\n",
       "      <td>Бытовая электроника</td>\n",
       "      <td>Аудио и видео</td>\n",
       "      <td>Видео, DVD и Blu-ray плееры</td>\n",
       "      <td>Обувь</td>\n",
       "      <td>Вторичка</td>\n",
       "      <td>Private</td>\n",
       "    </tr>\n",
       "    <tr>\n",
       "      <th>3</th>\n",
       "      <td>Татарстан</td>\n",
       "      <td>Набережные Челны</td>\n",
       "      <td>Личные вещи</td>\n",
       "      <td>Товары для детей и игрушки</td>\n",
       "      <td>Автомобильные кресла</td>\n",
       "      <td>Обувь</td>\n",
       "      <td>Вторичка</td>\n",
       "      <td>Company</td>\n",
       "    </tr>\n",
       "    <tr>\n",
       "      <th>4</th>\n",
       "      <td>Волгоградская область</td>\n",
       "      <td>Волгоград</td>\n",
       "      <td>Транспорт</td>\n",
       "      <td>Автомобили</td>\n",
       "      <td>С пробегом</td>\n",
       "      <td>ВАЗ (LADA)</td>\n",
       "      <td>2110</td>\n",
       "      <td>Private</td>\n",
       "    </tr>\n",
       "  </tbody>\n",
       "</table>\n",
       "</div>"
      ],
      "text/plain": [
       "                  region              city parent_category_name  \\\n",
       "0   Свердловская область      Екатеринбург          Личные вещи   \n",
       "1      Самарская область            Самара      Для дома и дачи   \n",
       "2     Ростовская область    Ростов-на-Дону  Бытовая электроника   \n",
       "3              Татарстан  Набережные Челны          Личные вещи   \n",
       "4  Волгоградская область         Волгоград            Транспорт   \n",
       "\n",
       "                category_name                      param_1     param_2  \\\n",
       "0  Товары для детей и игрушки    Постельные принадлежности       Обувь   \n",
       "1           Мебель и интерьер                       Другое       Обувь   \n",
       "2               Аудио и видео  Видео, DVD и Blu-ray плееры       Обувь   \n",
       "3  Товары для детей и игрушки         Автомобильные кресла       Обувь   \n",
       "4                  Автомобили                   С пробегом  ВАЗ (LADA)   \n",
       "\n",
       "    param_3 user_type  \n",
       "0  Вторичка   Private  \n",
       "1  Вторичка   Private  \n",
       "2  Вторичка   Private  \n",
       "3  Вторичка   Company  \n",
       "4      2110   Private  "
      ]
     },
     "execution_count": 24,
     "metadata": {},
     "output_type": "execute_result"
    }
   ],
   "source": [
    "X.head()"
   ]
  },
  {
   "cell_type": "markdown",
   "metadata": {},
   "source": [
    "Finalmente, iremos preencher as células vazias da coluna *description* com strings vazias:"
   ]
  },
  {
   "cell_type": "code",
   "execution_count": 25,
   "metadata": {},
   "outputs": [],
   "source": [
    "class TextImputer(BaseEstimator, TransformerMixin):\n",
    "    def fit(self, X, y=None):\n",
    "        return self\n",
    "    \n",
    "    def transform(self, X):\n",
    "        return pd.DataFrame(X.fillna(''))"
   ]
  },
  {
   "cell_type": "code",
   "execution_count": 26,
   "metadata": {},
   "outputs": [],
   "source": [
    "process_description = Pipeline([\n",
    "    ('description_selector', DataFrameSelector('description')),\n",
    "    ('imputer', TextImputer())\n",
    "])"
   ]
  },
  {
   "cell_type": "code",
   "execution_count": 27,
   "metadata": {},
   "outputs": [],
   "source": [
    "X = process_description.transform(X_train)"
   ]
  },
  {
   "cell_type": "code",
   "execution_count": 28,
   "metadata": {},
   "outputs": [
    {
     "data": {
      "text/html": [
       "<div>\n",
       "<style scoped>\n",
       "    .dataframe tbody tr th:only-of-type {\n",
       "        vertical-align: middle;\n",
       "    }\n",
       "\n",
       "    .dataframe tbody tr th {\n",
       "        vertical-align: top;\n",
       "    }\n",
       "\n",
       "    .dataframe thead th {\n",
       "        text-align: right;\n",
       "    }\n",
       "</style>\n",
       "<table border=\"1\" class=\"dataframe\">\n",
       "  <thead>\n",
       "    <tr style=\"text-align: right;\">\n",
       "      <th></th>\n",
       "      <th>description</th>\n",
       "    </tr>\n",
       "  </thead>\n",
       "  <tbody>\n",
       "    <tr>\n",
       "      <th>0</th>\n",
       "      <td>Кокон для сна малыша,пользовались меньше месяц...</td>\n",
       "    </tr>\n",
       "    <tr>\n",
       "      <th>1</th>\n",
       "      <td>Стойка для одежды, под вешалки. С бутика.</td>\n",
       "    </tr>\n",
       "    <tr>\n",
       "      <th>2</th>\n",
       "      <td>В хорошем состоянии, домашний кинотеатр с blu ...</td>\n",
       "    </tr>\n",
       "    <tr>\n",
       "      <th>3</th>\n",
       "      <td>Продам кресло от0-25кг</td>\n",
       "    </tr>\n",
       "    <tr>\n",
       "      <th>4</th>\n",
       "      <td>Все вопросы по телефону.</td>\n",
       "    </tr>\n",
       "  </tbody>\n",
       "</table>\n",
       "</div>"
      ],
      "text/plain": [
       "                                         description\n",
       "0  Кокон для сна малыша,пользовались меньше месяц...\n",
       "1          Стойка для одежды, под вешалки. С бутика.\n",
       "2  В хорошем состоянии, домашний кинотеатр с blu ...\n",
       "3                             Продам кресло от0-25кг\n",
       "4                           Все вопросы по телефону."
      ]
     },
     "execution_count": 28,
     "metadata": {},
     "output_type": "execute_result"
    }
   ],
   "source": [
    "X.head()"
   ]
  },
  {
   "cell_type": "markdown",
   "metadata": {},
   "source": [
    "## 2.3. Codificando atributos categóricos"
   ]
  },
  {
   "cell_type": "markdown",
   "metadata": {},
   "source": [
    "Por limitação do Scikit learn, não podemos treinar modelos com matrizes de treino com dados não numéricos. Portanto, teremos que codificar numericamente os atributos categóricos, associando a cada categoria, um número."
   ]
  },
  {
   "cell_type": "code",
   "execution_count": 29,
   "metadata": {},
   "outputs": [],
   "source": [
    "encode_cat = Pipeline([\n",
    "    ('cat_selector', DataFrameSelector([\n",
    "        'region',\n",
    "        'city',\n",
    "        'parent_category_name',\n",
    "        'category_name',\n",
    "        'param_1',\n",
    "        'param_2',\n",
    "        'param_3',\n",
    "        'user_type'\n",
    "    ])),\n",
    "    ('ordinal_encoder', OrdinalEncoder(dtype=np.int64)),\n",
    "    ('to_data_frame', ToDataFrameTransformer([\n",
    "        'region',\n",
    "        'city',\n",
    "        'parent_category_name',\n",
    "        'category_name',\n",
    "        'param_1',\n",
    "        'param_2',\n",
    "        'param_3',\n",
    "        'user_type'\n",
    "    ]))\n",
    "])"
   ]
  },
  {
   "cell_type": "code",
   "execution_count": 30,
   "metadata": {},
   "outputs": [
    {
     "name": "stdout",
     "output_type": "stream",
     "text": [
      "Elapsed time: 110.17954611778259\n"
     ]
    }
   ],
   "source": [
    "start = time.time()\n",
    "\n",
    "X_transf = Pipeline([('impute', impute_cat), ('encode', encode_cat)]).fit_transform(X_train)\n",
    "\n",
    "end = time.time()\n",
    "print('Elapsed time:', end-start)"
   ]
  },
  {
   "cell_type": "code",
   "execution_count": 31,
   "metadata": {},
   "outputs": [
    {
     "data": {
      "text/html": [
       "<div>\n",
       "<style scoped>\n",
       "    .dataframe tbody tr th:only-of-type {\n",
       "        vertical-align: middle;\n",
       "    }\n",
       "\n",
       "    .dataframe tbody tr th {\n",
       "        vertical-align: top;\n",
       "    }\n",
       "\n",
       "    .dataframe thead th {\n",
       "        text-align: right;\n",
       "    }\n",
       "</style>\n",
       "<table border=\"1\" class=\"dataframe\">\n",
       "  <thead>\n",
       "    <tr style=\"text-align: right;\">\n",
       "      <th></th>\n",
       "      <th>region</th>\n",
       "      <th>city</th>\n",
       "      <th>parent_category_name</th>\n",
       "      <th>category_name</th>\n",
       "      <th>param_1</th>\n",
       "      <th>param_2</th>\n",
       "      <th>param_3</th>\n",
       "      <th>user_type</th>\n",
       "    </tr>\n",
       "  </thead>\n",
       "  <tbody>\n",
       "    <tr>\n",
       "      <th>0</th>\n",
       "      <td>19</td>\n",
       "      <td>460</td>\n",
       "      <td>4</td>\n",
       "      <td>42</td>\n",
       "      <td>248</td>\n",
       "      <td>192</td>\n",
       "      <td>1173</td>\n",
       "      <td>1</td>\n",
       "    </tr>\n",
       "    <tr>\n",
       "      <th>1</th>\n",
       "      <td>17</td>\n",
       "      <td>1300</td>\n",
       "      <td>2</td>\n",
       "      <td>22</td>\n",
       "      <td>121</td>\n",
       "      <td>192</td>\n",
       "      <td>1173</td>\n",
       "      <td>1</td>\n",
       "    </tr>\n",
       "    <tr>\n",
       "      <th>2</th>\n",
       "      <td>16</td>\n",
       "      <td>1276</td>\n",
       "      <td>0</td>\n",
       "      <td>2</td>\n",
       "      <td>83</td>\n",
       "      <td>192</td>\n",
       "      <td>1173</td>\n",
       "      <td>1</td>\n",
       "    </tr>\n",
       "    <tr>\n",
       "      <th>3</th>\n",
       "      <td>21</td>\n",
       "      <td>940</td>\n",
       "      <td>4</td>\n",
       "      <td>42</td>\n",
       "      <td>37</td>\n",
       "      <td>192</td>\n",
       "      <td>1173</td>\n",
       "      <td>0</td>\n",
       "    </tr>\n",
       "    <tr>\n",
       "      <th>4</th>\n",
       "      <td>4</td>\n",
       "      <td>317</td>\n",
       "      <td>6</td>\n",
       "      <td>0</td>\n",
       "      <td>277</td>\n",
       "      <td>118</td>\n",
       "      <td>44</td>\n",
       "      <td>1</td>\n",
       "    </tr>\n",
       "  </tbody>\n",
       "</table>\n",
       "</div>"
      ],
      "text/plain": [
       "   region  city  parent_category_name  category_name  param_1  param_2  \\\n",
       "0      19   460                     4             42      248      192   \n",
       "1      17  1300                     2             22      121      192   \n",
       "2      16  1276                     0              2       83      192   \n",
       "3      21   940                     4             42       37      192   \n",
       "4       4   317                     6              0      277      118   \n",
       "\n",
       "   param_3  user_type  \n",
       "0     1173          1  \n",
       "1     1173          1  \n",
       "2     1173          1  \n",
       "3     1173          0  \n",
       "4       44          1  "
      ]
     },
     "execution_count": 31,
     "metadata": {},
     "output_type": "execute_result"
    }
   ],
   "source": [
    "X_transf.head()"
   ]
  },
  {
   "cell_type": "markdown",
   "metadata": {},
   "source": [
    "## 2.4. Codificando atributos textuais "
   ]
  },
  {
   "cell_type": "markdown",
   "metadata": {},
   "source": [
    "Pelos mesmos motivos que os atributos categóricos, teremos de codificar os atributos textuais `title` e `description`. Iremos usar o modelo *Bag of words* para efeturar essa codificação, aplicando tf-idf para ???. Por fim, aplicamos uma transformação SVD para reduzir a dimensão da codificação. Do contrário, nosso dataset ganharia milhares de novos atributos e dificultaria o treino dos modelos."
   ]
  },
  {
   "cell_type": "code",
   "execution_count": 32,
   "metadata": {},
   "outputs": [],
   "source": [
    "vect = TfidfVectorizer(sublinear_tf=True)\n",
    "\n",
    "encode_title = Pipeline([\n",
    "    ('title_selector', DataFrameSelector(['title'])),\n",
    "    ('ravel_feature', FunctionTransformer(lambda f: f.values.ravel(), validate=False)),\n",
    "    ('text_vectorizer', vect),\n",
    "    ('dim_reduction', TruncatedSVD(random_state=1))\n",
    "])\n",
    "\n",
    "encode_description = Pipeline([\n",
    "    ('description_selector', DataFrameSelector('description')),\n",
    "    ('description_imputer', TextImputer()),\n",
    "    ('ravel_feature', FunctionTransformer(lambda f: f.values.ravel(), validate=False)),\n",
    "    ('text_vectorizer', vect),\n",
    "    ('dim_reduction', TruncatedSVD(random_state=1))\n",
    "])\n",
    "\n",
    "encode_text = Pipeline([\n",
    "    ('process_text', FeatureUnion([\n",
    "        ('process_title', encode_title),\n",
    "        ('process_description', encode_description)\n",
    "    ])),\n",
    "    ('to_data_frame', ToDataFrameTransformer(['title_svd_1', 'title_svd_2', 'description_svd_1', 'description_svd_2']))\n",
    "])"
   ]
  },
  {
   "cell_type": "code",
   "execution_count": 33,
   "metadata": {},
   "outputs": [
    {
     "name": "stdout",
     "output_type": "stream",
     "text": [
      "Elapsed time: 86.04042267799377\n"
     ]
    }
   ],
   "source": [
    "start = time.time()\n",
    "\n",
    "text_processed = encode_text.fit_transform(X_train)\n",
    "\n",
    "end = time.time()\n",
    "\n",
    "print('Elapsed time:', end - start)"
   ]
  },
  {
   "cell_type": "code",
   "execution_count": 34,
   "metadata": {},
   "outputs": [
    {
     "data": {
      "text/html": [
       "<div>\n",
       "<style scoped>\n",
       "    .dataframe tbody tr th:only-of-type {\n",
       "        vertical-align: middle;\n",
       "    }\n",
       "\n",
       "    .dataframe tbody tr th {\n",
       "        vertical-align: top;\n",
       "    }\n",
       "\n",
       "    .dataframe thead th {\n",
       "        text-align: right;\n",
       "    }\n",
       "</style>\n",
       "<table border=\"1\" class=\"dataframe\">\n",
       "  <thead>\n",
       "    <tr style=\"text-align: right;\">\n",
       "      <th></th>\n",
       "      <th>title_svd_1</th>\n",
       "      <th>title_svd_2</th>\n",
       "      <th>description_svd_1</th>\n",
       "      <th>description_svd_2</th>\n",
       "    </tr>\n",
       "  </thead>\n",
       "  <tbody>\n",
       "    <tr>\n",
       "      <th>0</th>\n",
       "      <td>0.000258</td>\n",
       "      <td>0.006233</td>\n",
       "      <td>0.031397</td>\n",
       "      <td>0.034590</td>\n",
       "    </tr>\n",
       "    <tr>\n",
       "      <th>1</th>\n",
       "      <td>0.000457</td>\n",
       "      <td>0.010049</td>\n",
       "      <td>0.019601</td>\n",
       "      <td>0.024236</td>\n",
       "    </tr>\n",
       "    <tr>\n",
       "      <th>2</th>\n",
       "      <td>0.000021</td>\n",
       "      <td>0.000026</td>\n",
       "      <td>0.150771</td>\n",
       "      <td>-0.054072</td>\n",
       "    </tr>\n",
       "    <tr>\n",
       "      <th>3</th>\n",
       "      <td>0.000052</td>\n",
       "      <td>0.000226</td>\n",
       "      <td>0.036861</td>\n",
       "      <td>0.026744</td>\n",
       "    </tr>\n",
       "    <tr>\n",
       "      <th>4</th>\n",
       "      <td>0.000011</td>\n",
       "      <td>-0.000020</td>\n",
       "      <td>0.116751</td>\n",
       "      <td>0.134437</td>\n",
       "    </tr>\n",
       "  </tbody>\n",
       "</table>\n",
       "</div>"
      ],
      "text/plain": [
       "   title_svd_1  title_svd_2  description_svd_1  description_svd_2\n",
       "0     0.000258     0.006233           0.031397           0.034590\n",
       "1     0.000457     0.010049           0.019601           0.024236\n",
       "2     0.000021     0.000026           0.150771          -0.054072\n",
       "3     0.000052     0.000226           0.036861           0.026744\n",
       "4     0.000011    -0.000020           0.116751           0.134437"
      ]
     },
     "execution_count": 34,
     "metadata": {},
     "output_type": "execute_result"
    }
   ],
   "source": [
    "text_processed.head()"
   ]
  },
  {
   "cell_type": "markdown",
   "metadata": {},
   "source": [
    "## 2.5. Unindo os transformadores"
   ]
  },
  {
   "cell_type": "markdown",
   "metadata": {},
   "source": [
    "Por fim, vamos unir todos os transformadores em um único pipeline de preprocessamento, que pode ser reutizado pelos dados de validação:"
   ]
  },
  {
   "cell_type": "code",
   "execution_count": 35,
   "metadata": {},
   "outputs": [],
   "source": [
    "preprocess_transformer = Pipeline([\n",
    "    ('working_feature_selector', features_selector),\n",
    "    ('date_transf', FeatureUnion([\n",
    "        ('other_features', DataFrameSelector(['category_name', 'city', 'description',\n",
    "       'image_top_1', 'item_seq_number', 'param_1', 'param_2', 'param_3',\n",
    "       'parent_category_name', 'price', 'region', 'title', 'user_type'])),\n",
    "        ('process_date', process_date),\n",
    "    ])),\n",
    "    ('to_data_frame_1', ToDataFrameTransformer([['category_name', 'city', 'description',\n",
    "       'image_top_1', 'item_seq_number', 'param_1', 'param_2', 'param_3',\n",
    "       'parent_category_name', 'price', 'region', 'title', 'user_type', 'month', 'day', 'weekday']])),\n",
    "    ('imputers', FeatureUnion([\n",
    "        ('other_features', DataFrameSelector(['item_seq_number', 'title', 'month', 'day', 'weekday'])),\n",
    "        ('impute_price', process_price),\n",
    "        ('impute_image', process_image_class),\n",
    "        ('impute_cat', impute_cat),\n",
    "        ('impute_description', process_description)\n",
    "    ])),\n",
    "    ('to_data_frame_2', ToDataFrameTransformer([\n",
    "        'item_seq_number',\n",
    "        'title',\n",
    "        'month',\n",
    "        'day',\n",
    "        'weekday',\n",
    "        'price',\n",
    "        'image_top_1',\n",
    "        'region',\n",
    "        'city',\n",
    "        'parent_category_name',\n",
    "        'category_name',\n",
    "        'param_1',\n",
    "        'param_2',\n",
    "        'param_3',\n",
    "        'user_type',\n",
    "        'description'\n",
    "    ])),\n",
    "    ('encoders', FeatureUnion([\n",
    "        ('other_features', DataFrameSelector(['item_seq_number', 'month', 'day', 'weekday', 'price', 'image_top_1'])),\n",
    "        ('encode_cat', encode_cat),\n",
    "        ('encode_text', encode_text)\n",
    "    ])),\n",
    "    ('to_data_frame_3', ToDataFrameTransformer([\n",
    "        'item_seq_number',\n",
    "        'month',\n",
    "        'day',\n",
    "        'weekday',\n",
    "        'price',\n",
    "        'image_top_1',\n",
    "        'region',\n",
    "        'city',\n",
    "        'parent_category_name',\n",
    "        'category_name',\n",
    "        'param_1',\n",
    "        'param_2',\n",
    "        'param_3',\n",
    "        'user_type',\n",
    "        'title_svd_1',\n",
    "        'title_svd_2',\n",
    "        'description_svd_1',\n",
    "        'description_svd_2'\n",
    "    ]))\n",
    "])"
   ]
  },
  {
   "cell_type": "code",
   "execution_count": 36,
   "metadata": {},
   "outputs": [
    {
     "name": "stdout",
     "output_type": "stream",
     "text": [
      "Elapsed time: 212.76073622703552\n"
     ]
    }
   ],
   "source": [
    "start = time.time()\n",
    "X_train_processed = preprocess_transformer.fit_transform(X_train)\n",
    "end = time.time()\n",
    "\n",
    "print('Elapsed time:', end - start)"
   ]
  },
  {
   "cell_type": "code",
   "execution_count": 37,
   "metadata": {},
   "outputs": [
    {
     "data": {
      "text/html": [
       "<div>\n",
       "<style scoped>\n",
       "    .dataframe tbody tr th:only-of-type {\n",
       "        vertical-align: middle;\n",
       "    }\n",
       "\n",
       "    .dataframe tbody tr th {\n",
       "        vertical-align: top;\n",
       "    }\n",
       "\n",
       "    .dataframe thead th {\n",
       "        text-align: right;\n",
       "    }\n",
       "</style>\n",
       "<table border=\"1\" class=\"dataframe\">\n",
       "  <thead>\n",
       "    <tr style=\"text-align: right;\">\n",
       "      <th></th>\n",
       "      <th>item_seq_number</th>\n",
       "      <th>month</th>\n",
       "      <th>day</th>\n",
       "      <th>weekday</th>\n",
       "      <th>price</th>\n",
       "      <th>image_top_1</th>\n",
       "      <th>region</th>\n",
       "      <th>city</th>\n",
       "      <th>parent_category_name</th>\n",
       "      <th>category_name</th>\n",
       "      <th>param_1</th>\n",
       "      <th>param_2</th>\n",
       "      <th>param_3</th>\n",
       "      <th>user_type</th>\n",
       "      <th>title_svd_1</th>\n",
       "      <th>title_svd_2</th>\n",
       "      <th>description_svd_1</th>\n",
       "      <th>description_svd_2</th>\n",
       "    </tr>\n",
       "  </thead>\n",
       "  <tbody>\n",
       "    <tr>\n",
       "      <th>0</th>\n",
       "      <td>2</td>\n",
       "      <td>3</td>\n",
       "      <td>28</td>\n",
       "      <td>1</td>\n",
       "      <td>400</td>\n",
       "      <td>1008</td>\n",
       "      <td>19</td>\n",
       "      <td>460</td>\n",
       "      <td>4</td>\n",
       "      <td>42</td>\n",
       "      <td>248</td>\n",
       "      <td>192</td>\n",
       "      <td>1173</td>\n",
       "      <td>1</td>\n",
       "      <td>0.00025798</td>\n",
       "      <td>0.00623332</td>\n",
       "      <td>0.0313975</td>\n",
       "      <td>0.0345895</td>\n",
       "    </tr>\n",
       "    <tr>\n",
       "      <th>1</th>\n",
       "      <td>19</td>\n",
       "      <td>3</td>\n",
       "      <td>26</td>\n",
       "      <td>6</td>\n",
       "      <td>3000</td>\n",
       "      <td>692</td>\n",
       "      <td>17</td>\n",
       "      <td>1300</td>\n",
       "      <td>2</td>\n",
       "      <td>22</td>\n",
       "      <td>121</td>\n",
       "      <td>192</td>\n",
       "      <td>1173</td>\n",
       "      <td>1</td>\n",
       "      <td>0.000457325</td>\n",
       "      <td>0.0100489</td>\n",
       "      <td>0.019601</td>\n",
       "      <td>0.0242359</td>\n",
       "    </tr>\n",
       "    <tr>\n",
       "      <th>2</th>\n",
       "      <td>9</td>\n",
       "      <td>3</td>\n",
       "      <td>20</td>\n",
       "      <td>0</td>\n",
       "      <td>4000</td>\n",
       "      <td>3032</td>\n",
       "      <td>16</td>\n",
       "      <td>1276</td>\n",
       "      <td>0</td>\n",
       "      <td>2</td>\n",
       "      <td>83</td>\n",
       "      <td>192</td>\n",
       "      <td>1173</td>\n",
       "      <td>1</td>\n",
       "      <td>2.09619e-05</td>\n",
       "      <td>2.58056e-05</td>\n",
       "      <td>0.150771</td>\n",
       "      <td>-0.0540722</td>\n",
       "    </tr>\n",
       "    <tr>\n",
       "      <th>3</th>\n",
       "      <td>286</td>\n",
       "      <td>3</td>\n",
       "      <td>25</td>\n",
       "      <td>5</td>\n",
       "      <td>2200</td>\n",
       "      <td>796</td>\n",
       "      <td>21</td>\n",
       "      <td>940</td>\n",
       "      <td>4</td>\n",
       "      <td>42</td>\n",
       "      <td>37</td>\n",
       "      <td>192</td>\n",
       "      <td>1173</td>\n",
       "      <td>0</td>\n",
       "      <td>5.20505e-05</td>\n",
       "      <td>0.000226047</td>\n",
       "      <td>0.0368607</td>\n",
       "      <td>0.0267437</td>\n",
       "    </tr>\n",
       "    <tr>\n",
       "      <th>4</th>\n",
       "      <td>3</td>\n",
       "      <td>3</td>\n",
       "      <td>16</td>\n",
       "      <td>3</td>\n",
       "      <td>40000</td>\n",
       "      <td>2264</td>\n",
       "      <td>4</td>\n",
       "      <td>317</td>\n",
       "      <td>6</td>\n",
       "      <td>0</td>\n",
       "      <td>277</td>\n",
       "      <td>118</td>\n",
       "      <td>44</td>\n",
       "      <td>1</td>\n",
       "      <td>1.06665e-05</td>\n",
       "      <td>-2.04614e-05</td>\n",
       "      <td>0.116751</td>\n",
       "      <td>0.134437</td>\n",
       "    </tr>\n",
       "  </tbody>\n",
       "</table>\n",
       "</div>"
      ],
      "text/plain": [
       "  item_seq_number month day weekday  price image_top_1 region  city  \\\n",
       "0               2     3  28       1    400        1008     19   460   \n",
       "1              19     3  26       6   3000         692     17  1300   \n",
       "2               9     3  20       0   4000        3032     16  1276   \n",
       "3             286     3  25       5   2200         796     21   940   \n",
       "4               3     3  16       3  40000        2264      4   317   \n",
       "\n",
       "  parent_category_name category_name param_1 param_2 param_3 user_type  \\\n",
       "0                    4            42     248     192    1173         1   \n",
       "1                    2            22     121     192    1173         1   \n",
       "2                    0             2      83     192    1173         1   \n",
       "3                    4            42      37     192    1173         0   \n",
       "4                    6             0     277     118      44         1   \n",
       "\n",
       "   title_svd_1  title_svd_2 description_svd_1 description_svd_2  \n",
       "0   0.00025798   0.00623332         0.0313975         0.0345895  \n",
       "1  0.000457325    0.0100489          0.019601         0.0242359  \n",
       "2  2.09619e-05  2.58056e-05          0.150771        -0.0540722  \n",
       "3  5.20505e-05  0.000226047         0.0368607         0.0267437  \n",
       "4  1.06665e-05 -2.04614e-05          0.116751          0.134437  "
      ]
     },
     "execution_count": 37,
     "metadata": {},
     "output_type": "execute_result"
    }
   ],
   "source": [
    "X_train_processed.head()"
   ]
  },
  {
   "cell_type": "markdown",
   "metadata": {},
   "source": [
    "# 3. Treinando modelos"
   ]
  },
  {
   "cell_type": "markdown",
   "metadata": {},
   "source": [
    "## 3.1 Árvore de decisão"
   ]
  },
  {
   "cell_type": "code",
   "execution_count": 41,
   "metadata": {},
   "outputs": [],
   "source": [
    "tree_regressor = DecisionTreeRegressor(random_state=1)"
   ]
  },
  {
   "cell_type": "code",
   "execution_count": 87,
   "metadata": {},
   "outputs": [
    {
     "data": {
      "text/plain": [
       "array([0.001  , 0.02575, 0.0505 , 0.07525, 0.1    ])"
      ]
     },
     "execution_count": 87,
     "metadata": {},
     "output_type": "execute_result"
    }
   ],
   "source": [
    "np.linspace(0.001, .1, 5, endpoint=True)"
   ]
  },
  {
   "cell_type": "code",
   "execution_count": 109,
   "metadata": {},
   "outputs": [],
   "source": [
    "grid_params = {\n",
    "    'max_depth': np.arange(11, 14),\n",
    "    'min_samples_split': np.linspace(0.001, .1, 5, endpoint=True),\n",
    "}\n",
    "\n",
    "grid_search_tree = GridSearchCV(tree_regressor, param_grid=grid_params, cv=5, scoring='neg_mean_squared_error', n_jobs=-1)"
   ]
  },
  {
   "cell_type": "code",
   "execution_count": null,
   "metadata": {},
   "outputs": [],
   "source": [
    "start = time.time()\n",
    "\n",
    "grid_search_tree.fit(X_train_processed, y_train)\n",
    "\n",
    "end = time.time()\n",
    "print('Elapsed time: ', end - start)"
   ]
  },
  {
   "cell_type": "markdown",
   "metadata": {},
   "source": [
    "Vamos ver a melhor profundidade obtida na busca:"
   ]
  },
  {
   "cell_type": "code",
   "execution_count": 77,
   "metadata": {},
   "outputs": [
    {
     "data": {
      "text/plain": [
       "{'max_depth': 13, 'min_samples_split': 0.1}"
      ]
     },
     "execution_count": 77,
     "metadata": {},
     "output_type": "execute_result"
    }
   ],
   "source": [
    "grid_search_tree.best_params_"
   ]
  },
  {
   "cell_type": "markdown",
   "metadata": {},
   "source": [
    "E o menor erro obtido:"
   ]
  },
  {
   "cell_type": "code",
   "execution_count": 67,
   "metadata": {},
   "outputs": [
    {
     "name": "stdout",
     "output_type": "stream",
     "text": [
      "0.2350242341716698\n"
     ]
    }
   ],
   "source": [
    "tree_rmse = np.sqrt(-grid_search_tree.best_score_)\n",
    "print(tree_rmse)"
   ]
  },
  {
   "cell_type": "markdown",
   "metadata": {},
   "source": [
    "Salvando o modelo:"
   ]
  },
  {
   "cell_type": "code",
   "execution_count": 68,
   "metadata": {},
   "outputs": [],
   "source": [
    "loc = os.path.dirname('__file__')\n",
    "\n",
    "filename = 'models/decision_tree.sav'\n",
    "joblib.dump(grid_search_tree.best_estimator_, open(filename, 'wb'))"
   ]
  },
  {
   "cell_type": "code",
   "execution_count": 46,
   "metadata": {},
   "outputs": [
    {
     "data": {
      "text/plain": [
       "0"
      ]
     },
     "execution_count": 46,
     "metadata": {},
     "output_type": "execute_result"
    }
   ],
   "source": [
    "y_pred[np.where(np.logical_or(y_pred < 0, y_pred > 1))].size"
   ]
  },
  {
   "cell_type": "markdown",
   "metadata": {},
   "source": [
    "## 3.2. Random Forest"
   ]
  },
  {
   "cell_type": "code",
   "execution_count": 105,
   "metadata": {},
   "outputs": [],
   "source": [
    "random_forest_regressor = RandomForestRegressor(n_estimators=30, max_leaf_nodes=16, n_jobs=-1)"
   ]
  },
  {
   "cell_type": "markdown",
   "metadata": {},
   "source": [
    "Validação cruzada"
   ]
  },
  {
   "cell_type": "code",
   "execution_count": 106,
   "metadata": {},
   "outputs": [
    {
     "name": "stdout",
     "output_type": "stream",
     "text": [
      "Elapsed time: 350.1565089225769\n"
     ]
    }
   ],
   "source": [
    "start = time.time()\n",
    "scores = cross_val_score(random_forest_regressor, X_train_processed, y_train.values.ravel(), scoring='neg_mean_squared_error', cv=5)\n",
    "end = time.time()\n",
    "\n",
    "print('Elapsed time:', end - start)"
   ]
  },
  {
   "cell_type": "code",
   "execution_count": 107,
   "metadata": {},
   "outputs": [],
   "source": [
    "rmse_scores = np.sqrt(-scores)"
   ]
  },
  {
   "cell_type": "code",
   "execution_count": 108,
   "metadata": {},
   "outputs": [
    {
     "name": "stdout",
     "output_type": "stream",
     "text": [
      "Mean: 0.24150098265411338\n",
      "Std: 0.00036691947878843425\n"
     ]
    }
   ],
   "source": [
    "print('Mean:', rmse_scores.mean())\n",
    "print('Std:', rmse_scores.std())"
   ]
  },
  {
   "cell_type": "markdown",
   "metadata": {},
   "source": [
    "## 3.2 Support Vector machine"
   ]
  },
  {
   "cell_type": "code",
   "execution_count": 49,
   "metadata": {},
   "outputs": [],
   "source": [
    "svr = SVR()\n",
    "\n",
    "svr_pipeline = Pipeline([\n",
    "    ('scaler', StandardScaler()),\n",
    "    ('regressor', svr)\n",
    "])"
   ]
  },
  {
   "cell_type": "code",
   "execution_count": null,
   "metadata": {},
   "outputs": [],
   "source": [
    "svr_pipeline.fit(X_train_processed, y_train.values.ravel())"
   ]
  },
  {
   "cell_type": "code",
   "execution_count": null,
   "metadata": {},
   "outputs": [],
   "source": [
    "y_pred = svr_pipeline.predict(X_train_processed)"
   ]
  },
  {
   "cell_type": "code",
   "execution_count": null,
   "metadata": {},
   "outputs": [],
   "source": [
    "svr_rmse = np.sqrt(mean_squared_error(y_train, y_pred))"
   ]
  },
  {
   "cell_type": "code",
   "execution_count": null,
   "metadata": {},
   "outputs": [],
   "source": [
    "svr_rmse"
   ]
  }
 ],
 "metadata": {
  "kernelspec": {
   "display_name": "Python 3",
   "language": "python",
   "name": "python3"
  },
  "language_info": {
   "codemirror_mode": {
    "name": "ipython",
    "version": 3
   },
   "file_extension": ".py",
   "mimetype": "text/x-python",
   "name": "python",
   "nbconvert_exporter": "python",
   "pygments_lexer": "ipython3",
   "version": "3.6.4"
  }
 },
 "nbformat": 4,
 "nbformat_minor": 2
}
