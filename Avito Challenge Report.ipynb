{
 "cells": [
  {
   "cell_type": "markdown",
   "metadata": {
    "deletable": true,
    "editable": true
   },
   "source": [
    "## Bibliotecas utilizadas"
   ]
  },
  {
   "cell_type": "code",
   "execution_count": 2,
   "metadata": {
    "collapsed": false,
    "deletable": true,
    "editable": true
   },
   "outputs": [],
   "source": [
    "import numpy as np\n",
    "import pandas as pd\n",
    "import matplotlib.pyplot as plt\n",
    "\n",
    "from sklearn.base import BaseEstimator, TransformerMixin # Para definição de transformadores personalizados\n",
    "from sklearn.preprocessing import Imputer, FunctionTransformer, StandardScaler\n",
    "\n",
    "from future_encoders import OrdinalEncoder\n",
    "from sklearn.pipeline import Pipeline, FeatureUnion\n",
    "from sklearn.feature_extraction.text import TfidfVectorizer\n",
    "from sklearn.decomposition import TruncatedSVD\n",
    "\n",
    "from sklearn.tree import DecisionTreeRegressor\n",
    "from sklearn.svm import LinearSVR\n",
    "from sklearn.ensemble import RandomForestRegressor\n",
    "\n",
    "import xgboost as xgb\n",
    "\n",
    "from sklearn.metrics import mean_squared_error\n",
    "from sklearn.model_selection import cross_val_score, GridSearchCV, train_test_split\n",
    "import time\n",
    "\n",
    "from sklearn.externals import joblib"
   ]
  },
  {
   "cell_type": "markdown",
   "metadata": {
    "deletable": true,
    "editable": true
   },
   "source": [
    "| Nome                                 | DRE         | Curso |\n",
    "|--------------------------------------|-------------|-------|\n",
    "| Rafael Fontella Katopodis            | 115.021.282 | BCC   |\n",
    "| Estevan Gladstone de Nascimento Melo | 114.043.061 | BCC   |\n",
    "\n",
    "Nome da equipe no Kaggle:**** "
   ]
  },
  {
   "cell_type": "markdown",
   "metadata": {
    "deletable": true,
    "editable": true
   },
   "source": [
    "# 1. Introdução"
   ]
  },
  {
   "cell_type": "markdown",
   "metadata": {
    "deletable": true,
    "editable": true
   },
   "source": [
    "Avito é a maior página russa de classificados de produtos e serviços, aos moldes do Craigslist. Desde de 2015, a companhia lança desafios anuais no Kaggle, uma plataforma que promove competições envolvendo análise de dados. Nesses desafíos, a Avito disponibiliza parte de seus dados para que competidores extraiam conclusões e construam modelos capazes de aprimorar a plataforma."
   ]
  },
  {
   "cell_type": "markdown",
   "metadata": {
    "deletable": true,
    "editable": true
   },
   "source": [
    "No desafio desse ano, o objetivo proposto é desenvolver um modelo capaz de predizer quão efetivo um anúncio qualquer no site será. Para tal, são disponibilizados em formato tabular, uma série de dados pertinentes aos seus anúncios:"
   ]
  },
  {
   "cell_type": "markdown",
   "metadata": {
    "deletable": true,
    "editable": true
   },
   "source": [
    "- `item_id`: \n",
    "   <br>Identificação do anúncio;<br><br>\n",
    "- `user_id`: \n",
    "   <br>Identificação do vendedor;<br><br>\n",
    "- `region`: \n",
    "   <br>Região em que o produto é oferecido;<br><br>\n",
    "- `city`: \n",
    "   <br>Cidade em que o produto é oferecido;<br><br>\n",
    "- `parent_category_name`: \n",
    "   <br>Categoria do anúncio;<br><br>\n",
    "- `category_name`: \n",
    "   <br>Categoria detalhada do anúncio;<br><br>\n",
    "- `param_1`: \n",
    "   <br>Parâmetro opcional de categorização do anúncio;<br><br>\n",
    "- `param_2`:\n",
    "   <br>Parâmetro opcional de categorização do anúncio;<br><br>\n",
    "- `param_3`: \n",
    "   <br>Parâmetro opcional de categorização do anúncio;<br><br>\n",
    "- `title`:\n",
    "   <br>Título do anúncio;<br><br>\n",
    "- `description`:\n",
    "   <br>Descrição do anúncio;<br><br>\n",
    "- `price`: \n",
    "   <br>Preço do produto;<br><br>\n",
    "- `item_seq_number`: \n",
    "   <br>Número sequencial de anúncio para o usuário;<br><br>\n",
    "- `activation_date`: \n",
    "   <br>Data em que o anúncio foi anunciado;<br><br>\n",
    "- `user_type`:\n",
    "   <br>Tipo de vendedor;<br><br>\n",
    "- `image`:\n",
    "   <br>Identificador da imagem no anúncio;<br><br>\n",
    "- `image_top_1`:\n",
    "   <br>Classificação da imagem;<br><br>\n",
    "- `deal_probability`:\n",
    "   <br>Variável alvo. Essa é a probabilidade que um anúncio tenha vendido algo. Não é binário, pois a empresa não é capaz de verificar todas as vendas.\n"
   ]
  },
  {
   "cell_type": "markdown",
   "metadata": {
    "deletable": true,
    "editable": true
   },
   "source": [
    "Além desses dados, também são disponibilizados dados tabulares adicionais e imagens, mas nós iremos nos focar apenas nos atributos descritos previamente."
   ]
  },
  {
   "cell_type": "markdown",
   "metadata": {
    "deletable": true,
    "editable": true
   },
   "source": [
    "# 2. Carregando e explorando os dados"
   ]
  },
  {
   "cell_type": "markdown",
   "metadata": {
    "deletable": true,
    "editable": true
   },
   "source": [
    "Vamos começar carregando os dados:"
   ]
  },
  {
   "cell_type": "code",
   "execution_count": 3,
   "metadata": {
    "collapsed": true,
    "deletable": true,
    "editable": true
   },
   "outputs": [],
   "source": [
    "# Algumas categorias dos atributos param_X são númericos, mas não queremos que sejam interpretados como tal.\n",
    "# Para convertê-los para strings, mas não converter indevidamentes NaNs,  usamos um mapa de conversão\n",
    "converters = {key: lambda x: np.nan if not x else str(x) for key in ('param_1', 'param_2', 'param_3')}\n",
    "\n",
    "df_train = pd.read_csv(\n",
    "    './data/train.csv',\n",
    "    parse_dates=['activation_date'],\n",
    "    converters=converters                  \n",
    ")"
   ]
  },
  {
   "cell_type": "code",
   "execution_count": 4,
   "metadata": {
    "collapsed": true,
    "deletable": true,
    "editable": true
   },
   "outputs": [],
   "source": [
    "df_test = pd.read_csv(\n",
    "    './data/test.csv',\n",
    "    parse_dates=['activation_date'],\n",
    "    converters=converters                  \n",
    ")"
   ]
  },
  {
   "cell_type": "code",
   "execution_count": 3,
   "metadata": {
    "collapsed": false,
    "deletable": true,
    "editable": true
   },
   "outputs": [
    {
     "data": {
      "text/html": [
       "<div>\n",
       "<style>\n",
       "    .dataframe thead tr:only-child th {\n",
       "        text-align: right;\n",
       "    }\n",
       "\n",
       "    .dataframe thead th {\n",
       "        text-align: left;\n",
       "    }\n",
       "\n",
       "    .dataframe tbody tr th {\n",
       "        vertical-align: top;\n",
       "    }\n",
       "</style>\n",
       "<table border=\"1\" class=\"dataframe\">\n",
       "  <thead>\n",
       "    <tr style=\"text-align: right;\">\n",
       "      <th></th>\n",
       "      <th>item_id</th>\n",
       "      <th>user_id</th>\n",
       "      <th>region</th>\n",
       "      <th>city</th>\n",
       "      <th>parent_category_name</th>\n",
       "      <th>category_name</th>\n",
       "      <th>param_1</th>\n",
       "      <th>param_2</th>\n",
       "      <th>param_3</th>\n",
       "      <th>title</th>\n",
       "      <th>description</th>\n",
       "      <th>price</th>\n",
       "      <th>item_seq_number</th>\n",
       "      <th>activation_date</th>\n",
       "      <th>user_type</th>\n",
       "      <th>image</th>\n",
       "      <th>image_top_1</th>\n",
       "      <th>deal_probability</th>\n",
       "    </tr>\n",
       "  </thead>\n",
       "  <tbody>\n",
       "    <tr>\n",
       "      <th>0</th>\n",
       "      <td>b912c3c6a6ad</td>\n",
       "      <td>e00f8ff2eaf9</td>\n",
       "      <td>Свердловская область</td>\n",
       "      <td>Екатеринбург</td>\n",
       "      <td>Личные вещи</td>\n",
       "      <td>Товары для детей и игрушки</td>\n",
       "      <td>Постельные принадлежности</td>\n",
       "      <td>NaN</td>\n",
       "      <td>NaN</td>\n",
       "      <td>Кокоби(кокон для сна)</td>\n",
       "      <td>Кокон для сна малыша,пользовались меньше месяц...</td>\n",
       "      <td>400.0</td>\n",
       "      <td>2</td>\n",
       "      <td>2017-03-28</td>\n",
       "      <td>Private</td>\n",
       "      <td>d10c7e016e03247a3bf2d13348fe959fe6f436c1caf64c...</td>\n",
       "      <td>1008.0</td>\n",
       "      <td>0.12789</td>\n",
       "    </tr>\n",
       "    <tr>\n",
       "      <th>1</th>\n",
       "      <td>2dac0150717d</td>\n",
       "      <td>39aeb48f0017</td>\n",
       "      <td>Самарская область</td>\n",
       "      <td>Самара</td>\n",
       "      <td>Для дома и дачи</td>\n",
       "      <td>Мебель и интерьер</td>\n",
       "      <td>Другое</td>\n",
       "      <td>NaN</td>\n",
       "      <td>NaN</td>\n",
       "      <td>Стойка для Одежды</td>\n",
       "      <td>Стойка для одежды, под вешалки. С бутика.</td>\n",
       "      <td>3000.0</td>\n",
       "      <td>19</td>\n",
       "      <td>2017-03-26</td>\n",
       "      <td>Private</td>\n",
       "      <td>79c9392cc51a9c81c6eb91eceb8e552171db39d7142700...</td>\n",
       "      <td>692.0</td>\n",
       "      <td>0.00000</td>\n",
       "    </tr>\n",
       "    <tr>\n",
       "      <th>2</th>\n",
       "      <td>ba83aefab5dc</td>\n",
       "      <td>91e2f88dd6e3</td>\n",
       "      <td>Ростовская область</td>\n",
       "      <td>Ростов-на-Дону</td>\n",
       "      <td>Бытовая электроника</td>\n",
       "      <td>Аудио и видео</td>\n",
       "      <td>Видео, DVD и Blu-ray плееры</td>\n",
       "      <td>NaN</td>\n",
       "      <td>NaN</td>\n",
       "      <td>Philips bluray</td>\n",
       "      <td>В хорошем состоянии, домашний кинотеатр с blu ...</td>\n",
       "      <td>4000.0</td>\n",
       "      <td>9</td>\n",
       "      <td>2017-03-20</td>\n",
       "      <td>Private</td>\n",
       "      <td>b7f250ee3f39e1fedd77c141f273703f4a9be59db4b48a...</td>\n",
       "      <td>3032.0</td>\n",
       "      <td>0.43177</td>\n",
       "    </tr>\n",
       "    <tr>\n",
       "      <th>3</th>\n",
       "      <td>02996f1dd2ea</td>\n",
       "      <td>bf5cccea572d</td>\n",
       "      <td>Татарстан</td>\n",
       "      <td>Набережные Челны</td>\n",
       "      <td>Личные вещи</td>\n",
       "      <td>Товары для детей и игрушки</td>\n",
       "      <td>Автомобильные кресла</td>\n",
       "      <td>NaN</td>\n",
       "      <td>NaN</td>\n",
       "      <td>Автокресло</td>\n",
       "      <td>Продам кресло от0-25кг</td>\n",
       "      <td>2200.0</td>\n",
       "      <td>286</td>\n",
       "      <td>2017-03-25</td>\n",
       "      <td>Company</td>\n",
       "      <td>e6ef97e0725637ea84e3d203e82dadb43ed3cc0a1c8413...</td>\n",
       "      <td>796.0</td>\n",
       "      <td>0.80323</td>\n",
       "    </tr>\n",
       "    <tr>\n",
       "      <th>4</th>\n",
       "      <td>7c90be56d2ab</td>\n",
       "      <td>ef50846afc0b</td>\n",
       "      <td>Волгоградская область</td>\n",
       "      <td>Волгоград</td>\n",
       "      <td>Транспорт</td>\n",
       "      <td>Автомобили</td>\n",
       "      <td>С пробегом</td>\n",
       "      <td>ВАЗ (LADA)</td>\n",
       "      <td>2110</td>\n",
       "      <td>ВАЗ 2110, 2003</td>\n",
       "      <td>Все вопросы по телефону.</td>\n",
       "      <td>40000.0</td>\n",
       "      <td>3</td>\n",
       "      <td>2017-03-16</td>\n",
       "      <td>Private</td>\n",
       "      <td>54a687a3a0fc1d68aed99bdaaf551c5c70b761b16fd0a2...</td>\n",
       "      <td>2264.0</td>\n",
       "      <td>0.20797</td>\n",
       "    </tr>\n",
       "    <tr>\n",
       "      <th>5</th>\n",
       "      <td>51e0962387f7</td>\n",
       "      <td>bbfad0b1ad0a</td>\n",
       "      <td>Татарстан</td>\n",
       "      <td>Чистополь</td>\n",
       "      <td>Личные вещи</td>\n",
       "      <td>Товары для детей и игрушки</td>\n",
       "      <td>Автомобильные кресла</td>\n",
       "      <td>NaN</td>\n",
       "      <td>NaN</td>\n",
       "      <td>Авто люлька</td>\n",
       "      <td>В хорошем состоянии</td>\n",
       "      <td>1300.0</td>\n",
       "      <td>9</td>\n",
       "      <td>2017-03-28</td>\n",
       "      <td>Private</td>\n",
       "      <td>eb6ad1231c59d3dc7e4020e724ffe8e4d302023ddcbb99...</td>\n",
       "      <td>796.0</td>\n",
       "      <td>0.80323</td>\n",
       "    </tr>\n",
       "    <tr>\n",
       "      <th>6</th>\n",
       "      <td>c4f260a2b48a</td>\n",
       "      <td>08f469d2e6f7</td>\n",
       "      <td>Нижегородская область</td>\n",
       "      <td>Нижний Новгород</td>\n",
       "      <td>Для дома и дачи</td>\n",
       "      <td>Ремонт и строительство</td>\n",
       "      <td>Сантехника и сауна</td>\n",
       "      <td>NaN</td>\n",
       "      <td>NaN</td>\n",
       "      <td>Водонагреватель 100 литров нержавейка плоский</td>\n",
       "      <td>Электро водонагреватель накопительный на 100 л...</td>\n",
       "      <td>11000.0</td>\n",
       "      <td>125</td>\n",
       "      <td>2017-03-23</td>\n",
       "      <td>Private</td>\n",
       "      <td>0330f6ac561f5db1fa8226dd5e7e127b5671d44d075a98...</td>\n",
       "      <td>2823.0</td>\n",
       "      <td>0.00000</td>\n",
       "    </tr>\n",
       "    <tr>\n",
       "      <th>7</th>\n",
       "      <td>6b71309d6a8a</td>\n",
       "      <td>fef86baa002c</td>\n",
       "      <td>Пермский край</td>\n",
       "      <td>Пермь</td>\n",
       "      <td>Личные вещи</td>\n",
       "      <td>Одежда, обувь, аксессуары</td>\n",
       "      <td>Женская одежда</td>\n",
       "      <td>Джинсы</td>\n",
       "      <td>26</td>\n",
       "      <td>Бойфренды colins</td>\n",
       "      <td>Бойфренды в хорошем состоянии.</td>\n",
       "      <td>500.0</td>\n",
       "      <td>61</td>\n",
       "      <td>2017-03-25</td>\n",
       "      <td>Private</td>\n",
       "      <td>9bab29a519e81c14f4582024adfebd4f11a4ac71d323a6...</td>\n",
       "      <td>567.0</td>\n",
       "      <td>0.80323</td>\n",
       "    </tr>\n",
       "    <tr>\n",
       "      <th>8</th>\n",
       "      <td>c5b969cb63a2</td>\n",
       "      <td>055825270190</td>\n",
       "      <td>Оренбургская область</td>\n",
       "      <td>Оренбург</td>\n",
       "      <td>Личные вещи</td>\n",
       "      <td>Одежда, обувь, аксессуары</td>\n",
       "      <td>Женская одежда</td>\n",
       "      <td>Платья и юбки</td>\n",
       "      <td>&gt; 50 (XXL)</td>\n",
       "      <td>Платье</td>\n",
       "      <td>54 раз мер очень удобное</td>\n",
       "      <td>500.0</td>\n",
       "      <td>85</td>\n",
       "      <td>2017-03-17</td>\n",
       "      <td>Private</td>\n",
       "      <td>75ce06d1f939a31dfb2af8ac55f08fa998fa336d13ee05...</td>\n",
       "      <td>415.0</td>\n",
       "      <td>0.00000</td>\n",
       "    </tr>\n",
       "    <tr>\n",
       "      <th>9</th>\n",
       "      <td>b1570962e68c</td>\n",
       "      <td>f9e8f831d94c</td>\n",
       "      <td>Нижегородская область</td>\n",
       "      <td>Нижний Новгород</td>\n",
       "      <td>Личные вещи</td>\n",
       "      <td>Детская одежда и обувь</td>\n",
       "      <td>Для девочек</td>\n",
       "      <td>Обувь</td>\n",
       "      <td>25</td>\n",
       "      <td>Полу ботиночки замш натур.Бамбини</td>\n",
       "      <td>По стельке 15.5см мерить приокский район. Цвет...</td>\n",
       "      <td>400.0</td>\n",
       "      <td>136</td>\n",
       "      <td>2017-03-22</td>\n",
       "      <td>Company</td>\n",
       "      <td>54fb8521135fda77a860bfd2fac6bf46867ab7c06796e3...</td>\n",
       "      <td>46.0</td>\n",
       "      <td>0.00000</td>\n",
       "    </tr>\n",
       "  </tbody>\n",
       "</table>\n",
       "</div>"
      ],
      "text/plain": [
       "        item_id       user_id                 region              city  \\\n",
       "0  b912c3c6a6ad  e00f8ff2eaf9   Свердловская область      Екатеринбург   \n",
       "1  2dac0150717d  39aeb48f0017      Самарская область            Самара   \n",
       "2  ba83aefab5dc  91e2f88dd6e3     Ростовская область    Ростов-на-Дону   \n",
       "3  02996f1dd2ea  bf5cccea572d              Татарстан  Набережные Челны   \n",
       "4  7c90be56d2ab  ef50846afc0b  Волгоградская область         Волгоград   \n",
       "5  51e0962387f7  bbfad0b1ad0a              Татарстан         Чистополь   \n",
       "6  c4f260a2b48a  08f469d2e6f7  Нижегородская область   Нижний Новгород   \n",
       "7  6b71309d6a8a  fef86baa002c          Пермский край             Пермь   \n",
       "8  c5b969cb63a2  055825270190   Оренбургская область          Оренбург   \n",
       "9  b1570962e68c  f9e8f831d94c  Нижегородская область   Нижний Новгород   \n",
       "\n",
       "  parent_category_name               category_name  \\\n",
       "0          Личные вещи  Товары для детей и игрушки   \n",
       "1      Для дома и дачи           Мебель и интерьер   \n",
       "2  Бытовая электроника               Аудио и видео   \n",
       "3          Личные вещи  Товары для детей и игрушки   \n",
       "4            Транспорт                  Автомобили   \n",
       "5          Личные вещи  Товары для детей и игрушки   \n",
       "6      Для дома и дачи      Ремонт и строительство   \n",
       "7          Личные вещи   Одежда, обувь, аксессуары   \n",
       "8          Личные вещи   Одежда, обувь, аксессуары   \n",
       "9          Личные вещи      Детская одежда и обувь   \n",
       "\n",
       "                       param_1        param_2     param_3  \\\n",
       "0    Постельные принадлежности            NaN         NaN   \n",
       "1                       Другое            NaN         NaN   \n",
       "2  Видео, DVD и Blu-ray плееры            NaN         NaN   \n",
       "3         Автомобильные кресла            NaN         NaN   \n",
       "4                   С пробегом     ВАЗ (LADA)        2110   \n",
       "5         Автомобильные кресла            NaN         NaN   \n",
       "6           Сантехника и сауна            NaN         NaN   \n",
       "7               Женская одежда         Джинсы          26   \n",
       "8               Женская одежда  Платья и юбки  > 50 (XXL)   \n",
       "9                  Для девочек          Обувь          25   \n",
       "\n",
       "                                           title  \\\n",
       "0                          Кокоби(кокон для сна)   \n",
       "1                              Стойка для Одежды   \n",
       "2                                 Philips bluray   \n",
       "3                                     Автокресло   \n",
       "4                                 ВАЗ 2110, 2003   \n",
       "5                                    Авто люлька   \n",
       "6  Водонагреватель 100 литров нержавейка плоский   \n",
       "7                               Бойфренды colins   \n",
       "8                                         Платье   \n",
       "9              Полу ботиночки замш натур.Бамбини   \n",
       "\n",
       "                                         description    price  \\\n",
       "0  Кокон для сна малыша,пользовались меньше месяц...    400.0   \n",
       "1          Стойка для одежды, под вешалки. С бутика.   3000.0   \n",
       "2  В хорошем состоянии, домашний кинотеатр с blu ...   4000.0   \n",
       "3                             Продам кресло от0-25кг   2200.0   \n",
       "4                           Все вопросы по телефону.  40000.0   \n",
       "5                                В хорошем состоянии   1300.0   \n",
       "6  Электро водонагреватель накопительный на 100 л...  11000.0   \n",
       "7                     Бойфренды в хорошем состоянии.    500.0   \n",
       "8                           54 раз мер очень удобное    500.0   \n",
       "9  По стельке 15.5см мерить приокский район. Цвет...    400.0   \n",
       "\n",
       "   item_seq_number activation_date user_type  \\\n",
       "0                2      2017-03-28   Private   \n",
       "1               19      2017-03-26   Private   \n",
       "2                9      2017-03-20   Private   \n",
       "3              286      2017-03-25   Company   \n",
       "4                3      2017-03-16   Private   \n",
       "5                9      2017-03-28   Private   \n",
       "6              125      2017-03-23   Private   \n",
       "7               61      2017-03-25   Private   \n",
       "8               85      2017-03-17   Private   \n",
       "9              136      2017-03-22   Company   \n",
       "\n",
       "                                               image  image_top_1  \\\n",
       "0  d10c7e016e03247a3bf2d13348fe959fe6f436c1caf64c...       1008.0   \n",
       "1  79c9392cc51a9c81c6eb91eceb8e552171db39d7142700...        692.0   \n",
       "2  b7f250ee3f39e1fedd77c141f273703f4a9be59db4b48a...       3032.0   \n",
       "3  e6ef97e0725637ea84e3d203e82dadb43ed3cc0a1c8413...        796.0   \n",
       "4  54a687a3a0fc1d68aed99bdaaf551c5c70b761b16fd0a2...       2264.0   \n",
       "5  eb6ad1231c59d3dc7e4020e724ffe8e4d302023ddcbb99...        796.0   \n",
       "6  0330f6ac561f5db1fa8226dd5e7e127b5671d44d075a98...       2823.0   \n",
       "7  9bab29a519e81c14f4582024adfebd4f11a4ac71d323a6...        567.0   \n",
       "8  75ce06d1f939a31dfb2af8ac55f08fa998fa336d13ee05...        415.0   \n",
       "9  54fb8521135fda77a860bfd2fac6bf46867ab7c06796e3...         46.0   \n",
       "\n",
       "   deal_probability  \n",
       "0           0.12789  \n",
       "1           0.00000  \n",
       "2           0.43177  \n",
       "3           0.80323  \n",
       "4           0.20797  \n",
       "5           0.80323  \n",
       "6           0.00000  \n",
       "7           0.80323  \n",
       "8           0.00000  \n",
       "9           0.00000  "
      ]
     },
     "execution_count": 3,
     "metadata": {},
     "output_type": "execute_result"
    }
   ],
   "source": [
    "df_train.head(10)"
   ]
  },
  {
   "cell_type": "markdown",
   "metadata": {
    "deletable": true,
    "editable": true
   },
   "source": [
    "Podemos ver que a maior parte dos atributos é não-numérico e categórico. Portanto, serão necessárias transformações para codificá-las. Vamos contar o número de classes por atributo categórico:"
   ]
  },
  {
   "cell_type": "code",
   "execution_count": 3,
   "metadata": {
    "collapsed": false,
    "deletable": true,
    "editable": true
   },
   "outputs": [
    {
     "name": "stdout",
     "output_type": "stream",
     "text": [
      "Regions: 28\n",
      "cities: 1733\n",
      "parent_category_names: 9\n",
      "category_names: 47\n",
      "param_1: 371\n",
      "param_1: 372\n",
      "param_2: 271\n",
      "param_3: 1219\n",
      "activation_dates: 21\n",
      "user_types: 3\n"
     ]
    }
   ],
   "source": [
    "print('Regions:', len(np.unique(df_train['region'])))\n",
    "print('cities:', len(np.unique(df_train['city'])))\n",
    "print('parent_category_names:', len(np.unique(df_train['parent_category_name'])))\n",
    "print('category_names:', len(np.unique(df_train['category_name'])))\n",
    "print('param_1:', len(np.unique(df_train['param_1'][~pd.isnull(df_train['param_1'].values)].values)))\n",
    "print('param_1:', len(np.unique(df_train['param_1'].astype(str).values)))\n",
    "print('param_2:', len(np.unique(df_train['param_2'][~pd.isnull(df_train['param_2'].values)].values)))\n",
    "print('param_3:', len(np.unique(df_train['param_3'][~pd.isnull(df_train['param_3'].values)].values)))\n",
    "print('activation_dates:', len(np.unique(df_train['activation_date'])))\n",
    "print('user_types:', len(np.unique(df_train['user_type'])))"
   ]
  },
  {
   "cell_type": "markdown",
   "metadata": {
    "deletable": true,
    "editable": true
   },
   "source": [
    "Há um grande número de classes. Efetuar One-hot Encoding aumentaria em muito o número de atributos e exigiria dos algoritmos de treino um tempo impraticável para gerarmos modelos. Portanto, teremos de nos limitar a uma codificação ordinal."
   ]
  },
  {
   "cell_type": "markdown",
   "metadata": {
    "deletable": true,
    "editable": true
   },
   "source": [
    "É possível ver também que temos várias instâncias com dados faltantes. Remoção dessas instâncias não parece ser uma opção, pelo grande número que teria de ser eliminado. Teremos de fazer, então, algumas imputações:"
   ]
  },
  {
   "cell_type": "code",
   "execution_count": 4,
   "metadata": {
    "collapsed": false,
    "deletable": true,
    "editable": true,
    "scrolled": true
   },
   "outputs": [
    {
     "name": "stdout",
     "output_type": "stream",
     "text": [
      "<class 'pandas.core.frame.DataFrame'>\n",
      "RangeIndex: 1503424 entries, 0 to 1503423\n",
      "Data columns (total 18 columns):\n",
      "item_id                 1503424 non-null object\n",
      "user_id                 1503424 non-null object\n",
      "region                  1503424 non-null object\n",
      "city                    1503424 non-null object\n",
      "parent_category_name    1503424 non-null object\n",
      "category_name           1503424 non-null object\n",
      "param_1                 1441848 non-null object\n",
      "param_2                 848882 non-null object\n",
      "param_3                 640859 non-null object\n",
      "title                   1503424 non-null object\n",
      "description             1387148 non-null object\n",
      "price                   1418062 non-null float64\n",
      "item_seq_number         1503424 non-null int64\n",
      "activation_date         1503424 non-null datetime64[ns]\n",
      "user_type               1503424 non-null object\n",
      "image                   1390836 non-null object\n",
      "image_top_1             1390836 non-null float64\n",
      "deal_probability        1503424 non-null float64\n",
      "dtypes: datetime64[ns](1), float64(3), int64(1), object(13)\n",
      "memory usage: 206.5+ MB\n"
     ]
    }
   ],
   "source": [
    "df_train.info()"
   ]
  },
  {
   "cell_type": "markdown",
   "metadata": {
    "deletable": true,
    "editable": true
   },
   "source": [
    "Para termos uma ideia de suas distribuições, vamos plotar os atributos numéricos:"
   ]
  },
  {
   "cell_type": "code",
   "execution_count": 10,
   "metadata": {
    "collapsed": false,
    "deletable": true,
    "editable": true
   },
   "outputs": [
    {
     "data": {
      "image/png": "[encoded data removed]",
      "text/plain": [
       "<matplotlib.figure.Figure at 0x213301d2160>"
      ]
     },
     "metadata": {},
     "output_type": "display_data"
    }
   ],
   "source": [
    "df_train.hist(bins=50, figsize=(20, 15))\n",
    "plt.show()"
   ]
  },
  {
   "cell_type": "markdown",
   "metadata": {
    "deletable": true,
    "editable": true
   },
   "source": [
    "Podemos ver a que a maioria das distribuições tendem para valores mais baixos (distribuições chamadas *tail heavy*)."
   ]
  },
  {
   "cell_type": "markdown",
   "metadata": {
    "deletable": true,
    "editable": true
   },
   "source": [
    "Por fim, vamos repartir o dataset em um DataFrame de treino e um vetor da função alvo:"
   ]
  },
  {
   "cell_type": "code",
   "execution_count": 5,
   "metadata": {
    "collapsed": true,
    "deletable": true,
    "editable": true
   },
   "outputs": [],
   "source": [
    "X, y = df_train[df_train.columns.difference(['deal_probability'])].copy(), df_train[['deal_probability']].copy()"
   ]
  },
  {
   "cell_type": "markdown",
   "metadata": {
    "deletable": true,
    "editable": true
   },
   "source": [
    "# 3. Processando dados"
   ]
  },
  {
   "cell_type": "markdown",
   "metadata": {
    "deletable": true,
    "editable": true
   },
   "source": [
    "Com base nessa primeira observação dos dados, podemos ver que algumas transformações terão de ser aplicadas antes de desenvolver qualquer modelo. Alguns atributos não parecem ter grande valor para nosso objetivo, como `user_id`. Além disso, várias entradas têm dados faltantes, o que exigirá uma série de imputações. Ainda, temos uma mistura de dados categóricos e textuais que exigirão diferentes transformações de codificação."
   ]
  },
  {
   "cell_type": "markdown",
   "metadata": {
    "deletable": true,
    "editable": true
   },
   "source": [
    "Iremos fazer uso de Pipelines do Scikit Learn para criar objetos que encadeiam todas as nossas trasformações e podem ser reutilizados mais facilmente nos dados de validação. Inicialmente, vamos definir transformadores auxiliares para selecionar atributos de um DataFrame e construir DataFrames, a serem utilizados pelos transformadores subsequentes:"
   ]
  },
  {
   "cell_type": "code",
   "execution_count": 7,
   "metadata": {
    "collapsed": true,
    "deletable": true,
    "editable": true
   },
   "outputs": [],
   "source": [
    "class DataFrameSelector(BaseEstimator, TransformerMixin):\n",
    "    def __init__(self, attribute_names, as_ndarray=False):\n",
    "        self.attribute_names = attribute_names\n",
    "        self.as_ndarray = as_ndarray\n",
    "        \n",
    "    def fit(self, X, y=None):\n",
    "        return self\n",
    "    \n",
    "    def transform(self, X):\n",
    "        return X[self.attribute_names] if not self.as_ndarray else X[self.attribute_names].values\n",
    "    \n",
    "class ToDataFrameTransformer(BaseEstimator, TransformerMixin):\n",
    "    def __init__(self, columns=None):\n",
    "        self.columns = columns\n",
    "        \n",
    "    def fit(self, X, y=None):\n",
    "        return self\n",
    "    \n",
    "    def transform(self, X):\n",
    "        return pd.DataFrame(X, columns=self.columns)"
   ]
  },
  {
   "cell_type": "markdown",
   "metadata": {
    "deletable": true,
    "editable": true
   },
   "source": [
    "## 3.1. Removendo atributos"
   ]
  },
  {
   "cell_type": "markdown",
   "metadata": {
    "deletable": true,
    "editable": true
   },
   "source": [
    "O dataset tem alguns atributos que não são exatamente úteis para nossa modelagem, como `item_id` e `user_id` Ainda, não faremos qualquer processamento de imagens. então, o atributo de identificadores de imagens, `image` não nos tem serventia.Vamos declarar um seletor inicial, responsável por produzir um DataFrame sem esses atributos. Esse DataFrame servirá de base para nossas transfomações posteriores:"
   ]
  },
  {
   "cell_type": "code",
   "execution_count": 8,
   "metadata": {
    "collapsed": true,
    "deletable": true,
    "editable": true
   },
   "outputs": [],
   "source": [
    "features_selector = DataFrameSelector(X.columns.difference(['item_id', 'user_id', 'image']))"
   ]
  },
  {
   "cell_type": "markdown",
   "metadata": {
    "deletable": true,
    "editable": true
   },
   "source": [
    "Quando aplicado ao dataset, temos:"
   ]
  },
  {
   "cell_type": "code",
   "execution_count": 6,
   "metadata": {
    "collapsed": true,
    "deletable": true,
    "editable": true
   },
   "outputs": [],
   "source": [
    "X_transf = features_selector.transform(X)"
   ]
  },
  {
   "cell_type": "code",
   "execution_count": 7,
   "metadata": {
    "collapsed": false,
    "deletable": true,
    "editable": true
   },
   "outputs": [
    {
     "data": {
      "text/html": [
       "<div>\n",
       "<style>\n",
       "    .dataframe thead tr:only-child th {\n",
       "        text-align: right;\n",
       "    }\n",
       "\n",
       "    .dataframe thead th {\n",
       "        text-align: left;\n",
       "    }\n",
       "\n",
       "    .dataframe tbody tr th {\n",
       "        vertical-align: top;\n",
       "    }\n",
       "</style>\n",
       "<table border=\"1\" class=\"dataframe\">\n",
       "  <thead>\n",
       "    <tr style=\"text-align: right;\">\n",
       "      <th></th>\n",
       "      <th>activation_date</th>\n",
       "      <th>category_name</th>\n",
       "      <th>city</th>\n",
       "      <th>description</th>\n",
       "      <th>image_top_1</th>\n",
       "      <th>item_seq_number</th>\n",
       "      <th>param_1</th>\n",
       "      <th>param_2</th>\n",
       "      <th>param_3</th>\n",
       "      <th>parent_category_name</th>\n",
       "      <th>price</th>\n",
       "      <th>region</th>\n",
       "      <th>title</th>\n",
       "      <th>user_type</th>\n",
       "    </tr>\n",
       "  </thead>\n",
       "  <tbody>\n",
       "    <tr>\n",
       "      <th>0</th>\n",
       "      <td>2017-03-28</td>\n",
       "      <td>Товары для детей и игрушки</td>\n",
       "      <td>Екатеринбург</td>\n",
       "      <td>Кокон для сна малыша,пользовались меньше месяц...</td>\n",
       "      <td>1008.0</td>\n",
       "      <td>2</td>\n",
       "      <td>Постельные принадлежности</td>\n",
       "      <td>NaN</td>\n",
       "      <td>NaN</td>\n",
       "      <td>Личные вещи</td>\n",
       "      <td>400.0</td>\n",
       "      <td>Свердловская область</td>\n",
       "      <td>Кокоби(кокон для сна)</td>\n",
       "      <td>Private</td>\n",
       "    </tr>\n",
       "    <tr>\n",
       "      <th>1</th>\n",
       "      <td>2017-03-26</td>\n",
       "      <td>Мебель и интерьер</td>\n",
       "      <td>Самара</td>\n",
       "      <td>Стойка для одежды, под вешалки. С бутика.</td>\n",
       "      <td>692.0</td>\n",
       "      <td>19</td>\n",
       "      <td>Другое</td>\n",
       "      <td>NaN</td>\n",
       "      <td>NaN</td>\n",
       "      <td>Для дома и дачи</td>\n",
       "      <td>3000.0</td>\n",
       "      <td>Самарская область</td>\n",
       "      <td>Стойка для Одежды</td>\n",
       "      <td>Private</td>\n",
       "    </tr>\n",
       "    <tr>\n",
       "      <th>2</th>\n",
       "      <td>2017-03-20</td>\n",
       "      <td>Аудио и видео</td>\n",
       "      <td>Ростов-на-Дону</td>\n",
       "      <td>В хорошем состоянии, домашний кинотеатр с blu ...</td>\n",
       "      <td>3032.0</td>\n",
       "      <td>9</td>\n",
       "      <td>Видео, DVD и Blu-ray плееры</td>\n",
       "      <td>NaN</td>\n",
       "      <td>NaN</td>\n",
       "      <td>Бытовая электроника</td>\n",
       "      <td>4000.0</td>\n",
       "      <td>Ростовская область</td>\n",
       "      <td>Philips bluray</td>\n",
       "      <td>Private</td>\n",
       "    </tr>\n",
       "    <tr>\n",
       "      <th>3</th>\n",
       "      <td>2017-03-25</td>\n",
       "      <td>Товары для детей и игрушки</td>\n",
       "      <td>Набережные Челны</td>\n",
       "      <td>Продам кресло от0-25кг</td>\n",
       "      <td>796.0</td>\n",
       "      <td>286</td>\n",
       "      <td>Автомобильные кресла</td>\n",
       "      <td>NaN</td>\n",
       "      <td>NaN</td>\n",
       "      <td>Личные вещи</td>\n",
       "      <td>2200.0</td>\n",
       "      <td>Татарстан</td>\n",
       "      <td>Автокресло</td>\n",
       "      <td>Company</td>\n",
       "    </tr>\n",
       "    <tr>\n",
       "      <th>4</th>\n",
       "      <td>2017-03-16</td>\n",
       "      <td>Автомобили</td>\n",
       "      <td>Волгоград</td>\n",
       "      <td>Все вопросы по телефону.</td>\n",
       "      <td>2264.0</td>\n",
       "      <td>3</td>\n",
       "      <td>С пробегом</td>\n",
       "      <td>ВАЗ (LADA)</td>\n",
       "      <td>2110</td>\n",
       "      <td>Транспорт</td>\n",
       "      <td>40000.0</td>\n",
       "      <td>Волгоградская область</td>\n",
       "      <td>ВАЗ 2110, 2003</td>\n",
       "      <td>Private</td>\n",
       "    </tr>\n",
       "  </tbody>\n",
       "</table>\n",
       "</div>"
      ],
      "text/plain": [
       "  activation_date               category_name              city  \\\n",
       "0      2017-03-28  Товары для детей и игрушки      Екатеринбург   \n",
       "1      2017-03-26           Мебель и интерьер            Самара   \n",
       "2      2017-03-20               Аудио и видео    Ростов-на-Дону   \n",
       "3      2017-03-25  Товары для детей и игрушки  Набережные Челны   \n",
       "4      2017-03-16                  Автомобили         Волгоград   \n",
       "\n",
       "                                         description  image_top_1  \\\n",
       "0  Кокон для сна малыша,пользовались меньше месяц...       1008.0   \n",
       "1          Стойка для одежды, под вешалки. С бутика.        692.0   \n",
       "2  В хорошем состоянии, домашний кинотеатр с blu ...       3032.0   \n",
       "3                             Продам кресло от0-25кг        796.0   \n",
       "4                           Все вопросы по телефону.       2264.0   \n",
       "\n",
       "   item_seq_number                      param_1     param_2 param_3  \\\n",
       "0                2    Постельные принадлежности         NaN     NaN   \n",
       "1               19                       Другое         NaN     NaN   \n",
       "2                9  Видео, DVD и Blu-ray плееры         NaN     NaN   \n",
       "3              286         Автомобильные кресла         NaN     NaN   \n",
       "4                3                   С пробегом  ВАЗ (LADA)    2110   \n",
       "\n",
       "  parent_category_name    price                 region                  title  \\\n",
       "0          Личные вещи    400.0   Свердловская область  Кокоби(кокон для сна)   \n",
       "1      Для дома и дачи   3000.0      Самарская область      Стойка для Одежды   \n",
       "2  Бытовая электроника   4000.0     Ростовская область         Philips bluray   \n",
       "3          Личные вещи   2200.0              Татарстан             Автокресло   \n",
       "4            Транспорт  40000.0  Волгоградская область         ВАЗ 2110, 2003   \n",
       "\n",
       "  user_type  \n",
       "0   Private  \n",
       "1   Private  \n",
       "2   Private  \n",
       "3   Company  \n",
       "4   Private  "
      ]
     },
     "execution_count": 7,
     "metadata": {},
     "output_type": "execute_result"
    }
   ],
   "source": [
    "X_transf.head()"
   ]
  },
  {
   "cell_type": "markdown",
   "metadata": {
    "deletable": true,
    "editable": true
   },
   "source": [
    "## 3.2. Tratando datas"
   ]
  },
  {
   "cell_type": "markdown",
   "metadata": {
    "deletable": true,
    "editable": true
   },
   "source": [
    "O atributo `activation_date`, em sua forma atual, não é muito útil. Identificar variações na probabilidade de sucesso de venda em relação à uma data específica dificilmente irá ser muito aplicável a dados desconhecidos. Por outro lado, se repartirmos esse atributo em vertentes mais gerais, possivelmente consiguiremos incorporar conhecimento mais geral em nossos modelos. Com isso em mente, criaremos três novos atributos a partir de `activation_date`: `month`, `day` e `weekday`:  "
   ]
  },
  {
   "cell_type": "code",
   "execution_count": 9,
   "metadata": {
    "collapsed": true,
    "deletable": true,
    "editable": true
   },
   "outputs": [],
   "source": [
    "# Essa transformação espera uma única série de timestamps e retorna um DataFrame\n",
    "class TimestampTransformer(BaseEstimator, TransformerMixin):\n",
    "    def fit(self, X, y=None):\n",
    "        return self\n",
    "    \n",
    "    def transform(self, X):\n",
    "        return pd.DataFrame(\n",
    "            np.c_[\n",
    "                X.dt.month,\n",
    "                X.dt.day,\n",
    "                X.dt.weekday\n",
    "            ],\n",
    "            columns=['month', 'day', 'weekday']\n",
    "        )"
   ]
  },
  {
   "cell_type": "markdown",
   "metadata": {
    "deletable": true,
    "editable": true
   },
   "source": [
    "Quando aplicamos esse transformador ao dataset, obtemos:"
   ]
  },
  {
   "cell_type": "code",
   "execution_count": 10,
   "metadata": {
    "collapsed": true,
    "deletable": true,
    "editable": true
   },
   "outputs": [],
   "source": [
    "process_date = Pipeline([\n",
    "    ('date_series_selector', DataFrameSelector('activation_date')),\n",
    "    ('date_features_transformer', TimestampTransformer())\n",
    "])\n",
    "\n",
    "X_transf = process_date.transform(X)"
   ]
  },
  {
   "cell_type": "code",
   "execution_count": 9,
   "metadata": {
    "collapsed": false,
    "deletable": true,
    "editable": true
   },
   "outputs": [
    {
     "data": {
      "text/html": [
       "<div>\n",
       "<style>\n",
       "    .dataframe thead tr:only-child th {\n",
       "        text-align: right;\n",
       "    }\n",
       "\n",
       "    .dataframe thead th {\n",
       "        text-align: left;\n",
       "    }\n",
       "\n",
       "    .dataframe tbody tr th {\n",
       "        vertical-align: top;\n",
       "    }\n",
       "</style>\n",
       "<table border=\"1\" class=\"dataframe\">\n",
       "  <thead>\n",
       "    <tr style=\"text-align: right;\">\n",
       "      <th></th>\n",
       "      <th>month</th>\n",
       "      <th>day</th>\n",
       "      <th>weekday</th>\n",
       "    </tr>\n",
       "  </thead>\n",
       "  <tbody>\n",
       "    <tr>\n",
       "      <th>0</th>\n",
       "      <td>3</td>\n",
       "      <td>28</td>\n",
       "      <td>1</td>\n",
       "    </tr>\n",
       "    <tr>\n",
       "      <th>1</th>\n",
       "      <td>3</td>\n",
       "      <td>26</td>\n",
       "      <td>6</td>\n",
       "    </tr>\n",
       "    <tr>\n",
       "      <th>2</th>\n",
       "      <td>3</td>\n",
       "      <td>20</td>\n",
       "      <td>0</td>\n",
       "    </tr>\n",
       "    <tr>\n",
       "      <th>3</th>\n",
       "      <td>3</td>\n",
       "      <td>25</td>\n",
       "      <td>5</td>\n",
       "    </tr>\n",
       "    <tr>\n",
       "      <th>4</th>\n",
       "      <td>3</td>\n",
       "      <td>16</td>\n",
       "      <td>3</td>\n",
       "    </tr>\n",
       "  </tbody>\n",
       "</table>\n",
       "</div>"
      ],
      "text/plain": [
       "   month  day  weekday\n",
       "0      3   28        1\n",
       "1      3   26        6\n",
       "2      3   20        0\n",
       "3      3   25        5\n",
       "4      3   16        3"
      ]
     },
     "execution_count": 9,
     "metadata": {},
     "output_type": "execute_result"
    }
   ],
   "source": [
    "X_transf.head()"
   ]
  },
  {
   "cell_type": "markdown",
   "metadata": {
    "deletable": true,
    "editable": true
   },
   "source": [
    "## 3.2. Imputando dados faltantes"
   ]
  },
  {
   "cell_type": "markdown",
   "metadata": {
    "deletable": true,
    "editable": true
   },
   "source": [
    "Para o atributo de preço, vamos imputar a média dos valores conhecidos:"
   ]
  },
  {
   "cell_type": "code",
   "execution_count": 11,
   "metadata": {
    "collapsed": true,
    "deletable": true,
    "editable": true
   },
   "outputs": [],
   "source": [
    "price_imputer = Imputer(strategy='mean')\n",
    "\n",
    "process_price = Pipeline([\n",
    "    ('price_selector', DataFrameSelector(['price'])),\n",
    "    ('price_imputer', price_imputer),\n",
    "    ('to_data_frame', ToDataFrameTransformer(['price']))\n",
    "])"
   ]
  },
  {
   "cell_type": "markdown",
   "metadata": {
    "deletable": true,
    "editable": true
   },
   "source": [
    "Quando aplicado ao dataset, obtemos:"
   ]
  },
  {
   "cell_type": "code",
   "execution_count": 12,
   "metadata": {
    "collapsed": true,
    "deletable": true,
    "editable": true
   },
   "outputs": [],
   "source": [
    "X_transf = process_price.fit_transform(X)"
   ]
  },
  {
   "cell_type": "code",
   "execution_count": 13,
   "metadata": {
    "collapsed": false,
    "deletable": true,
    "editable": true
   },
   "outputs": [
    {
     "data": {
      "text/html": [
       "<div>\n",
       "<style>\n",
       "    .dataframe thead tr:only-child th {\n",
       "        text-align: right;\n",
       "    }\n",
       "\n",
       "    .dataframe thead th {\n",
       "        text-align: left;\n",
       "    }\n",
       "\n",
       "    .dataframe tbody tr th {\n",
       "        vertical-align: top;\n",
       "    }\n",
       "</style>\n",
       "<table border=\"1\" class=\"dataframe\">\n",
       "  <thead>\n",
       "    <tr style=\"text-align: right;\">\n",
       "      <th></th>\n",
       "      <th>price</th>\n",
       "    </tr>\n",
       "  </thead>\n",
       "  <tbody>\n",
       "    <tr>\n",
       "      <th>0</th>\n",
       "      <td>400.0</td>\n",
       "    </tr>\n",
       "    <tr>\n",
       "      <th>1</th>\n",
       "      <td>3000.0</td>\n",
       "    </tr>\n",
       "    <tr>\n",
       "      <th>2</th>\n",
       "      <td>4000.0</td>\n",
       "    </tr>\n",
       "    <tr>\n",
       "      <th>3</th>\n",
       "      <td>2200.0</td>\n",
       "    </tr>\n",
       "    <tr>\n",
       "      <th>4</th>\n",
       "      <td>40000.0</td>\n",
       "    </tr>\n",
       "  </tbody>\n",
       "</table>\n",
       "</div>"
      ],
      "text/plain": [
       "     price\n",
       "0    400.0\n",
       "1   3000.0\n",
       "2   4000.0\n",
       "3   2200.0\n",
       "4  40000.0"
      ]
     },
     "execution_count": 13,
     "metadata": {},
     "output_type": "execute_result"
    }
   ],
   "source": [
    "X_transf.head()"
   ]
  },
  {
   "cell_type": "markdown",
   "metadata": {
    "deletable": true,
    "editable": true
   },
   "source": [
    "Para o atributo `image_top_1` vamos imputar o valor mais frequente:"
   ]
  },
  {
   "cell_type": "code",
   "execution_count": 12,
   "metadata": {
    "collapsed": true,
    "deletable": true,
    "editable": true
   },
   "outputs": [],
   "source": [
    "image_imputer = Imputer(strategy='most_frequent')\n",
    "\n",
    "process_image_class = Pipeline([\n",
    "    ('image_selector', DataFrameSelector(['image_top_1'])),\n",
    "    ('image_imputer', image_imputer),\n",
    "    ('to_data_frame', ToDataFrameTransformer(['image_top_1']))\n",
    "])"
   ]
  },
  {
   "cell_type": "code",
   "execution_count": 12,
   "metadata": {
    "collapsed": true,
    "deletable": true,
    "editable": true
   },
   "outputs": [],
   "source": [
    "X_transf = process_image_class.fit_transform(X)"
   ]
  },
  {
   "cell_type": "code",
   "execution_count": 16,
   "metadata": {
    "collapsed": false,
    "deletable": true,
    "editable": true
   },
   "outputs": [
    {
     "data": {
      "text/html": [
       "<div>\n",
       "<style>\n",
       "    .dataframe thead tr:only-child th {\n",
       "        text-align: right;\n",
       "    }\n",
       "\n",
       "    .dataframe thead th {\n",
       "        text-align: left;\n",
       "    }\n",
       "\n",
       "    .dataframe tbody tr th {\n",
       "        vertical-align: top;\n",
       "    }\n",
       "</style>\n",
       "<table border=\"1\" class=\"dataframe\">\n",
       "  <thead>\n",
       "    <tr style=\"text-align: right;\">\n",
       "      <th></th>\n",
       "      <th>image_top_1</th>\n",
       "    </tr>\n",
       "  </thead>\n",
       "  <tbody>\n",
       "    <tr>\n",
       "      <th>0</th>\n",
       "      <td>1008.0</td>\n",
       "    </tr>\n",
       "    <tr>\n",
       "      <th>1</th>\n",
       "      <td>692.0</td>\n",
       "    </tr>\n",
       "    <tr>\n",
       "      <th>2</th>\n",
       "      <td>3032.0</td>\n",
       "    </tr>\n",
       "    <tr>\n",
       "      <th>3</th>\n",
       "      <td>796.0</td>\n",
       "    </tr>\n",
       "    <tr>\n",
       "      <th>4</th>\n",
       "      <td>2264.0</td>\n",
       "    </tr>\n",
       "  </tbody>\n",
       "</table>\n",
       "</div>"
      ],
      "text/plain": [
       "   image_top_1\n",
       "0       1008.0\n",
       "1        692.0\n",
       "2       3032.0\n",
       "3        796.0\n",
       "4       2264.0"
      ]
     },
     "execution_count": 16,
     "metadata": {},
     "output_type": "execute_result"
    }
   ],
   "source": [
    "X_transf.head()"
   ]
  },
  {
   "cell_type": "markdown",
   "metadata": {
    "deletable": true,
    "editable": true
   },
   "source": [
    "Para atributos categóricos, vamos também adotar a estratégia de imputar a classe mais frequente para cada coluna. No entanto, o imputador do Scikit Learn não consegue lidar com colunas não numéricas. Vamos então declarar um imputador personalizado para essa operação:"
   ]
  },
  {
   "cell_type": "code",
   "execution_count": 13,
   "metadata": {
    "collapsed": true,
    "deletable": true,
    "editable": true
   },
   "outputs": [],
   "source": [
    "class CategoricalImputer(BaseEstimator, TransformerMixin):\n",
    "    def fit(self, X, y=None):\n",
    "        self.most_frequent = pd.Series(X.values.ravel()).value_counts().index[0]\n",
    "        return self\n",
    "        \n",
    "    def transform(self, X):\n",
    "        return pd.DataFrame(pd.Series(X.values.ravel()).fillna(self.most_frequent))"
   ]
  },
  {
   "cell_type": "code",
   "execution_count": 14,
   "metadata": {
    "collapsed": true,
    "deletable": true,
    "editable": true
   },
   "outputs": [],
   "source": [
    "impute_cat = Pipeline([\n",
    "    ('cat_imputer', FeatureUnion([\n",
    "        ('region_imputer', Pipeline([\n",
    "            ('region_selector', DataFrameSelector('region')),\n",
    "            ('region_imputer', CategoricalImputer())\n",
    "        ])),\n",
    "        ('city_imputer', Pipeline([\n",
    "            ('city_selector', DataFrameSelector('city')),\n",
    "            ('city_imputer', CategoricalImputer())\n",
    "        ])),\n",
    "        ('parent_category_name_imputer', Pipeline([\n",
    "            ('parent_category_name_selector', DataFrameSelector('parent_category_name')),\n",
    "            ('parent_category_name_imputer', CategoricalImputer())\n",
    "        ])),\n",
    "        ('category_name_imputer', Pipeline([\n",
    "            ('category_name_selector', DataFrameSelector('category_name')),\n",
    "            ('category_name_imputer', CategoricalImputer())\n",
    "        ])),\n",
    "        ('param_1_imputer', Pipeline([\n",
    "            ('param_1_selector', DataFrameSelector('param_1')),\n",
    "            ('param_1_imputer', CategoricalImputer())\n",
    "        ])),\n",
    "        ('param_2_imputer', Pipeline([\n",
    "            ('param_2_selector', DataFrameSelector('param_2')),\n",
    "            ('param_2_imputer', CategoricalImputer())\n",
    "        ])),\n",
    "        ('param_3_imputer', Pipeline([\n",
    "            ('param_3_selector', DataFrameSelector('param_3')),\n",
    "            ('param_3_imputer', CategoricalImputer())\n",
    "        ])),\n",
    "        ('user_type_imputer', Pipeline([\n",
    "            ('user_type_selector', DataFrameSelector('user_type')),\n",
    "            ('user_type_imputer', CategoricalImputer())\n",
    "        ])),   \n",
    "    ])),\n",
    "    ('to_data_frame', ToDataFrameTransformer([\n",
    "        'region',\n",
    "        'city',\n",
    "        'parent_category_name',\n",
    "        'category_name',\n",
    "        'param_1',\n",
    "        'param_2',\n",
    "        'param_3',\n",
    "        'user_type'\n",
    "    ]))\n",
    "])"
   ]
  },
  {
   "cell_type": "code",
   "execution_count": 19,
   "metadata": {
    "collapsed": true,
    "deletable": true,
    "editable": true
   },
   "outputs": [],
   "source": [
    "X_transf = impute_cat.fit_transform(X)"
   ]
  },
  {
   "cell_type": "code",
   "execution_count": 20,
   "metadata": {
    "collapsed": false,
    "deletable": true,
    "editable": true
   },
   "outputs": [
    {
     "data": {
      "text/html": [
       "<div>\n",
       "<style>\n",
       "    .dataframe thead tr:only-child th {\n",
       "        text-align: right;\n",
       "    }\n",
       "\n",
       "    .dataframe thead th {\n",
       "        text-align: left;\n",
       "    }\n",
       "\n",
       "    .dataframe tbody tr th {\n",
       "        vertical-align: top;\n",
       "    }\n",
       "</style>\n",
       "<table border=\"1\" class=\"dataframe\">\n",
       "  <thead>\n",
       "    <tr style=\"text-align: right;\">\n",
       "      <th></th>\n",
       "      <th>region</th>\n",
       "      <th>city</th>\n",
       "      <th>parent_category_name</th>\n",
       "      <th>category_name</th>\n",
       "      <th>param_1</th>\n",
       "      <th>param_2</th>\n",
       "      <th>param_3</th>\n",
       "      <th>user_type</th>\n",
       "    </tr>\n",
       "  </thead>\n",
       "  <tbody>\n",
       "    <tr>\n",
       "      <th>0</th>\n",
       "      <td>Свердловская область</td>\n",
       "      <td>Екатеринбург</td>\n",
       "      <td>Личные вещи</td>\n",
       "      <td>Товары для детей и игрушки</td>\n",
       "      <td>Постельные принадлежности</td>\n",
       "      <td>Обувь</td>\n",
       "      <td>Вторичка</td>\n",
       "      <td>Private</td>\n",
       "    </tr>\n",
       "    <tr>\n",
       "      <th>1</th>\n",
       "      <td>Самарская область</td>\n",
       "      <td>Самара</td>\n",
       "      <td>Для дома и дачи</td>\n",
       "      <td>Мебель и интерьер</td>\n",
       "      <td>Другое</td>\n",
       "      <td>Обувь</td>\n",
       "      <td>Вторичка</td>\n",
       "      <td>Private</td>\n",
       "    </tr>\n",
       "    <tr>\n",
       "      <th>2</th>\n",
       "      <td>Ростовская область</td>\n",
       "      <td>Ростов-на-Дону</td>\n",
       "      <td>Бытовая электроника</td>\n",
       "      <td>Аудио и видео</td>\n",
       "      <td>Видео, DVD и Blu-ray плееры</td>\n",
       "      <td>Обувь</td>\n",
       "      <td>Вторичка</td>\n",
       "      <td>Private</td>\n",
       "    </tr>\n",
       "    <tr>\n",
       "      <th>3</th>\n",
       "      <td>Татарстан</td>\n",
       "      <td>Набережные Челны</td>\n",
       "      <td>Личные вещи</td>\n",
       "      <td>Товары для детей и игрушки</td>\n",
       "      <td>Автомобильные кресла</td>\n",
       "      <td>Обувь</td>\n",
       "      <td>Вторичка</td>\n",
       "      <td>Company</td>\n",
       "    </tr>\n",
       "    <tr>\n",
       "      <th>4</th>\n",
       "      <td>Волгоградская область</td>\n",
       "      <td>Волгоград</td>\n",
       "      <td>Транспорт</td>\n",
       "      <td>Автомобили</td>\n",
       "      <td>С пробегом</td>\n",
       "      <td>ВАЗ (LADA)</td>\n",
       "      <td>2110</td>\n",
       "      <td>Private</td>\n",
       "    </tr>\n",
       "  </tbody>\n",
       "</table>\n",
       "</div>"
      ],
      "text/plain": [
       "                  region              city parent_category_name  \\\n",
       "0   Свердловская область      Екатеринбург          Личные вещи   \n",
       "1      Самарская область            Самара      Для дома и дачи   \n",
       "2     Ростовская область    Ростов-на-Дону  Бытовая электроника   \n",
       "3              Татарстан  Набережные Челны          Личные вещи   \n",
       "4  Волгоградская область         Волгоград            Транспорт   \n",
       "\n",
       "                category_name                      param_1     param_2  \\\n",
       "0  Товары для детей и игрушки    Постельные принадлежности       Обувь   \n",
       "1           Мебель и интерьер                       Другое       Обувь   \n",
       "2               Аудио и видео  Видео, DVD и Blu-ray плееры       Обувь   \n",
       "3  Товары для детей и игрушки         Автомобильные кресла       Обувь   \n",
       "4                  Автомобили                   С пробегом  ВАЗ (LADA)   \n",
       "\n",
       "    param_3 user_type  \n",
       "0  Вторичка   Private  \n",
       "1  Вторичка   Private  \n",
       "2  Вторичка   Private  \n",
       "3  Вторичка   Company  \n",
       "4      2110   Private  "
      ]
     },
     "execution_count": 20,
     "metadata": {},
     "output_type": "execute_result"
    }
   ],
   "source": [
    "X_transf.head()"
   ]
  },
  {
   "cell_type": "markdown",
   "metadata": {
    "deletable": true,
    "editable": true
   },
   "source": [
    "Finalmente, iremos preencher as células vazias da coluna *description* com strings vazias:"
   ]
  },
  {
   "cell_type": "code",
   "execution_count": 15,
   "metadata": {
    "collapsed": true,
    "deletable": true,
    "editable": true
   },
   "outputs": [],
   "source": [
    "class TextImputer(BaseEstimator, TransformerMixin):\n",
    "    def fit(self, X, y=None):\n",
    "        return self\n",
    "    \n",
    "    def transform(self, X):\n",
    "        return pd.DataFrame(X.fillna(''))"
   ]
  },
  {
   "cell_type": "code",
   "execution_count": 16,
   "metadata": {
    "collapsed": true,
    "deletable": true,
    "editable": true
   },
   "outputs": [],
   "source": [
    "process_description = Pipeline([\n",
    "    ('description_selector', DataFrameSelector('description')),\n",
    "    ('imputer', TextImputer())\n",
    "])"
   ]
  },
  {
   "cell_type": "code",
   "execution_count": 23,
   "metadata": {
    "collapsed": true,
    "deletable": true,
    "editable": true
   },
   "outputs": [],
   "source": [
    "X_transf = process_description.transform(X)"
   ]
  },
  {
   "cell_type": "code",
   "execution_count": 24,
   "metadata": {
    "collapsed": false,
    "deletable": true,
    "editable": true
   },
   "outputs": [
    {
     "data": {
      "text/html": [
       "<div>\n",
       "<style>\n",
       "    .dataframe thead tr:only-child th {\n",
       "        text-align: right;\n",
       "    }\n",
       "\n",
       "    .dataframe thead th {\n",
       "        text-align: left;\n",
       "    }\n",
       "\n",
       "    .dataframe tbody tr th {\n",
       "        vertical-align: top;\n",
       "    }\n",
       "</style>\n",
       "<table border=\"1\" class=\"dataframe\">\n",
       "  <thead>\n",
       "    <tr style=\"text-align: right;\">\n",
       "      <th></th>\n",
       "      <th>description</th>\n",
       "    </tr>\n",
       "  </thead>\n",
       "  <tbody>\n",
       "    <tr>\n",
       "      <th>0</th>\n",
       "      <td>Кокон для сна малыша,пользовались меньше месяц...</td>\n",
       "    </tr>\n",
       "    <tr>\n",
       "      <th>1</th>\n",
       "      <td>Стойка для одежды, под вешалки. С бутика.</td>\n",
       "    </tr>\n",
       "    <tr>\n",
       "      <th>2</th>\n",
       "      <td>В хорошем состоянии, домашний кинотеатр с blu ...</td>\n",
       "    </tr>\n",
       "    <tr>\n",
       "      <th>3</th>\n",
       "      <td>Продам кресло от0-25кг</td>\n",
       "    </tr>\n",
       "    <tr>\n",
       "      <th>4</th>\n",
       "      <td>Все вопросы по телефону.</td>\n",
       "    </tr>\n",
       "  </tbody>\n",
       "</table>\n",
       "</div>"
      ],
      "text/plain": [
       "                                         description\n",
       "0  Кокон для сна малыша,пользовались меньше месяц...\n",
       "1          Стойка для одежды, под вешалки. С бутика.\n",
       "2  В хорошем состоянии, домашний кинотеатр с blu ...\n",
       "3                             Продам кресло от0-25кг\n",
       "4                           Все вопросы по телефону."
      ]
     },
     "execution_count": 24,
     "metadata": {},
     "output_type": "execute_result"
    }
   ],
   "source": [
    "X_transf.head()"
   ]
  },
  {
   "cell_type": "markdown",
   "metadata": {
    "deletable": true,
    "editable": true
   },
   "source": [
    "## 3.3. Codificando atributos categóricos"
   ]
  },
  {
   "cell_type": "markdown",
   "metadata": {
    "deletable": true,
    "editable": true
   },
   "source": [
    "Por limitação do Scikit learn, não podemos treinar modelos com matrizes de treino com dados não numéricos. Portanto, teremos que codificar numericamente os atributos categóricos, associando a cada categoria, um número."
   ]
  },
  {
   "cell_type": "code",
   "execution_count": 17,
   "metadata": {
    "collapsed": true,
    "deletable": true,
    "editable": true
   },
   "outputs": [],
   "source": [
    "encode_cat = Pipeline([\n",
    "    ('cat_selector', DataFrameSelector([\n",
    "        'region',\n",
    "        'city',\n",
    "        'parent_category_name',\n",
    "        'category_name',\n",
    "        'param_1',\n",
    "        'param_2',\n",
    "        'param_3',\n",
    "        'user_type'\n",
    "    ])),\n",
    "    ('ordinal_encoder', OrdinalEncoder(dtype=np.int64)),\n",
    "    ('to_data_frame', ToDataFrameTransformer([\n",
    "        'region',\n",
    "        'city',\n",
    "        'parent_category_name',\n",
    "        'category_name',\n",
    "        'param_1',\n",
    "        'param_2',\n",
    "        'param_3',\n",
    "        'user_type'\n",
    "    ]))\n",
    "])"
   ]
  },
  {
   "cell_type": "code",
   "execution_count": 26,
   "metadata": {
    "collapsed": false,
    "deletable": true,
    "editable": true
   },
   "outputs": [
    {
     "name": "stdout",
     "output_type": "stream",
     "text": [
      "Elapsed time: 33.73176097869873\n"
     ]
    }
   ],
   "source": [
    "start = time.time()\n",
    "\n",
    "X_transf = Pipeline([('impute', impute_cat), ('encode', encode_cat)]).fit_transform(X)\n",
    "\n",
    "end = time.time()\n",
    "print('Elapsed time:', end-start)"
   ]
  },
  {
   "cell_type": "code",
   "execution_count": 27,
   "metadata": {
    "collapsed": false,
    "deletable": true,
    "editable": true
   },
   "outputs": [
    {
     "data": {
      "text/html": [
       "<div>\n",
       "<style>\n",
       "    .dataframe thead tr:only-child th {\n",
       "        text-align: right;\n",
       "    }\n",
       "\n",
       "    .dataframe thead th {\n",
       "        text-align: left;\n",
       "    }\n",
       "\n",
       "    .dataframe tbody tr th {\n",
       "        vertical-align: top;\n",
       "    }\n",
       "</style>\n",
       "<table border=\"1\" class=\"dataframe\">\n",
       "  <thead>\n",
       "    <tr style=\"text-align: right;\">\n",
       "      <th></th>\n",
       "      <th>region</th>\n",
       "      <th>city</th>\n",
       "      <th>parent_category_name</th>\n",
       "      <th>category_name</th>\n",
       "      <th>param_1</th>\n",
       "      <th>param_2</th>\n",
       "      <th>param_3</th>\n",
       "      <th>user_type</th>\n",
       "    </tr>\n",
       "  </thead>\n",
       "  <tbody>\n",
       "    <tr>\n",
       "      <th>0</th>\n",
       "      <td>19</td>\n",
       "      <td>460</td>\n",
       "      <td>4</td>\n",
       "      <td>42</td>\n",
       "      <td>248</td>\n",
       "      <td>192</td>\n",
       "      <td>1173</td>\n",
       "      <td>1</td>\n",
       "    </tr>\n",
       "    <tr>\n",
       "      <th>1</th>\n",
       "      <td>17</td>\n",
       "      <td>1300</td>\n",
       "      <td>2</td>\n",
       "      <td>22</td>\n",
       "      <td>121</td>\n",
       "      <td>192</td>\n",
       "      <td>1173</td>\n",
       "      <td>1</td>\n",
       "    </tr>\n",
       "    <tr>\n",
       "      <th>2</th>\n",
       "      <td>16</td>\n",
       "      <td>1276</td>\n",
       "      <td>0</td>\n",
       "      <td>2</td>\n",
       "      <td>83</td>\n",
       "      <td>192</td>\n",
       "      <td>1173</td>\n",
       "      <td>1</td>\n",
       "    </tr>\n",
       "    <tr>\n",
       "      <th>3</th>\n",
       "      <td>21</td>\n",
       "      <td>940</td>\n",
       "      <td>4</td>\n",
       "      <td>42</td>\n",
       "      <td>37</td>\n",
       "      <td>192</td>\n",
       "      <td>1173</td>\n",
       "      <td>0</td>\n",
       "    </tr>\n",
       "    <tr>\n",
       "      <th>4</th>\n",
       "      <td>4</td>\n",
       "      <td>317</td>\n",
       "      <td>6</td>\n",
       "      <td>0</td>\n",
       "      <td>277</td>\n",
       "      <td>118</td>\n",
       "      <td>44</td>\n",
       "      <td>1</td>\n",
       "    </tr>\n",
       "  </tbody>\n",
       "</table>\n",
       "</div>"
      ],
      "text/plain": [
       "   region  city  parent_category_name  category_name  param_1  param_2  \\\n",
       "0      19   460                     4             42      248      192   \n",
       "1      17  1300                     2             22      121      192   \n",
       "2      16  1276                     0              2       83      192   \n",
       "3      21   940                     4             42       37      192   \n",
       "4       4   317                     6              0      277      118   \n",
       "\n",
       "   param_3  user_type  \n",
       "0     1173          1  \n",
       "1     1173          1  \n",
       "2     1173          1  \n",
       "3     1173          0  \n",
       "4       44          1  "
      ]
     },
     "execution_count": 27,
     "metadata": {},
     "output_type": "execute_result"
    }
   ],
   "source": [
    "X_transf.head()"
   ]
  },
  {
   "cell_type": "markdown",
   "metadata": {
    "deletable": true,
    "editable": true
   },
   "source": [
    "## 3.4. Codificando atributos textuais "
   ]
  },
  {
   "cell_type": "markdown",
   "metadata": {
    "deletable": true,
    "editable": true
   },
   "source": [
    "Pelos mesmos motivos que os atributos categóricos, teremos de codificar os atributos textuais `title` e `description`. Iremos usar o modelo *Bag of words* para efeturar essa codificação, aplicando tf-idf para capturar a importância relativa dos termos. Por fim, aplicamos uma transformação SVD para reduzir a dimensão da codificação. Do contrário, nosso dataset ganharia milhares de novos atributos e dificultaria o treino dos modelos."
   ]
  },
  {
   "cell_type": "code",
   "execution_count": 18,
   "metadata": {
    "collapsed": true,
    "deletable": true,
    "editable": true
   },
   "outputs": [],
   "source": [
    "vect_title = TfidfVectorizer(sublinear_tf=True)\n",
    "vect_description = TfidfVectorizer(sublinear_tf=True)\n",
    "\n",
    "encode_title = Pipeline([\n",
    "    ('title_selector', DataFrameSelector(['title'])),\n",
    "    ('ravel_feature', FunctionTransformer(lambda f: f.values.ravel(), validate=False)),\n",
    "    ('text_vectorizer', vect_title),\n",
    "    ('dim_reduction', TruncatedSVD(random_state=1))\n",
    "])\n",
    "\n",
    "encode_description = Pipeline([\n",
    "    ('description_selector', DataFrameSelector('description')),\n",
    "    ('description_imputer', TextImputer()),\n",
    "    ('ravel_feature', FunctionTransformer(lambda f: f.values.ravel(), validate=False)),\n",
    "    ('text_vectorizer', vect_description),\n",
    "    ('dim_reduction', TruncatedSVD(random_state=1))\n",
    "])\n",
    "\n",
    "encode_text = Pipeline([\n",
    "    ('process_text', FeatureUnion([\n",
    "        ('process_title', encode_title),\n",
    "        ('process_description', encode_description)\n",
    "    ])),\n",
    "    ('to_data_frame', ToDataFrameTransformer(['title_svd_1', 'title_svd_2', 'description_svd_1', 'description_svd_2']))\n",
    "])"
   ]
  },
  {
   "cell_type": "code",
   "execution_count": 29,
   "metadata": {
    "collapsed": false,
    "deletable": true,
    "editable": true
   },
   "outputs": [
    {
     "name": "stdout",
     "output_type": "stream",
     "text": [
      "Elapsed time: 68.30051064491272\n"
     ]
    }
   ],
   "source": [
    "start = time.time()\n",
    "\n",
    "X_transf = encode_text.fit_transform(X)\n",
    "\n",
    "end = time.time()\n",
    "\n",
    "print('Elapsed time:', end - start)"
   ]
  },
  {
   "cell_type": "code",
   "execution_count": 30,
   "metadata": {
    "collapsed": false,
    "deletable": true,
    "editable": true
   },
   "outputs": [
    {
     "data": {
      "text/html": [
       "<div>\n",
       "<style>\n",
       "    .dataframe thead tr:only-child th {\n",
       "        text-align: right;\n",
       "    }\n",
       "\n",
       "    .dataframe thead th {\n",
       "        text-align: left;\n",
       "    }\n",
       "\n",
       "    .dataframe tbody tr th {\n",
       "        vertical-align: top;\n",
       "    }\n",
       "</style>\n",
       "<table border=\"1\" class=\"dataframe\">\n",
       "  <thead>\n",
       "    <tr style=\"text-align: right;\">\n",
       "      <th></th>\n",
       "      <th>title_svd_1</th>\n",
       "      <th>title_svd_2</th>\n",
       "      <th>description_svd_1</th>\n",
       "      <th>description_svd_2</th>\n",
       "    </tr>\n",
       "  </thead>\n",
       "  <tbody>\n",
       "    <tr>\n",
       "      <th>0</th>\n",
       "      <td>0.000258</td>\n",
       "      <td>0.006233</td>\n",
       "      <td>0.031400</td>\n",
       "      <td>0.034607</td>\n",
       "    </tr>\n",
       "    <tr>\n",
       "      <th>1</th>\n",
       "      <td>0.000457</td>\n",
       "      <td>0.010049</td>\n",
       "      <td>0.019601</td>\n",
       "      <td>0.024246</td>\n",
       "    </tr>\n",
       "    <tr>\n",
       "      <th>2</th>\n",
       "      <td>0.000021</td>\n",
       "      <td>0.000026</td>\n",
       "      <td>0.150786</td>\n",
       "      <td>-0.053959</td>\n",
       "    </tr>\n",
       "    <tr>\n",
       "      <th>3</th>\n",
       "      <td>0.000052</td>\n",
       "      <td>0.000226</td>\n",
       "      <td>0.036863</td>\n",
       "      <td>0.026788</td>\n",
       "    </tr>\n",
       "    <tr>\n",
       "      <th>4</th>\n",
       "      <td>0.000011</td>\n",
       "      <td>-0.000020</td>\n",
       "      <td>0.116715</td>\n",
       "      <td>0.134761</td>\n",
       "    </tr>\n",
       "  </tbody>\n",
       "</table>\n",
       "</div>"
      ],
      "text/plain": [
       "   title_svd_1  title_svd_2  description_svd_1  description_svd_2\n",
       "0     0.000258     0.006233           0.031400           0.034607\n",
       "1     0.000457     0.010049           0.019601           0.024246\n",
       "2     0.000021     0.000026           0.150786          -0.053959\n",
       "3     0.000052     0.000226           0.036863           0.026788\n",
       "4     0.000011    -0.000020           0.116715           0.134761"
      ]
     },
     "execution_count": 30,
     "metadata": {},
     "output_type": "execute_result"
    }
   ],
   "source": [
    "X_transf.head()"
   ]
  },
  {
   "cell_type": "markdown",
   "metadata": {
    "deletable": true,
    "editable": true
   },
   "source": [
    "## 3.5. Unindo os transformadores"
   ]
  },
  {
   "cell_type": "markdown",
   "metadata": {
    "deletable": true,
    "editable": true
   },
   "source": [
    "Por fim, vamos unir todos os transformadores em um único pipeline de preprocessamento, que pode ser reutilizado pelos dados de validação:"
   ]
  },
  {
   "cell_type": "code",
   "execution_count": 19,
   "metadata": {
    "collapsed": true,
    "deletable": true,
    "editable": true
   },
   "outputs": [],
   "source": [
    "preprocess_transformer = Pipeline([\n",
    "    ('working_feature_selector', features_selector),\n",
    "    ('date_transf', FeatureUnion([\n",
    "        ('other_features', DataFrameSelector(['category_name', 'city', 'description',\n",
    "       'image_top_1', 'item_seq_number', 'param_1', 'param_2', 'param_3',\n",
    "       'parent_category_name', 'price', 'region', 'title', 'user_type'])),\n",
    "        ('process_date', process_date),\n",
    "    ])),\n",
    "    ('to_data_frame_1', ToDataFrameTransformer([['category_name', 'city', 'description',\n",
    "       'image_top_1', 'item_seq_number', 'param_1', 'param_2', 'param_3',\n",
    "       'parent_category_name', 'price', 'region', 'title', 'user_type', 'month', 'day', 'weekday']])),\n",
    "    ('imputers', FeatureUnion([\n",
    "        ('other_features', DataFrameSelector(['item_seq_number', 'title', 'month', 'day', 'weekday'])),\n",
    "        ('impute_price', process_price),\n",
    "        ('impute_image', process_image_class),\n",
    "        ('impute_cat', impute_cat),\n",
    "        ('impute_description', process_description)\n",
    "    ])),\n",
    "    ('to_data_frame_2', ToDataFrameTransformer([\n",
    "        'item_seq_number',\n",
    "        'title',\n",
    "        'month',\n",
    "        'day',\n",
    "        'weekday',\n",
    "        'price',\n",
    "        'image_top_1',\n",
    "        'region',\n",
    "        'city',\n",
    "        'parent_category_name',\n",
    "        'category_name',\n",
    "        'param_1',\n",
    "        'param_2',\n",
    "        'param_3',\n",
    "        'user_type',\n",
    "        'description'\n",
    "    ])),\n",
    "    ('encoders', FeatureUnion([\n",
    "        ('other_features', DataFrameSelector(['item_seq_number', 'month', 'day', 'weekday', 'price', 'image_top_1'])),\n",
    "        ('encode_cat', encode_cat),\n",
    "        ('encode_text', encode_text)\n",
    "    ])),\n",
    "    ('to_data_frame_3', ToDataFrameTransformer([\n",
    "        'item_seq_number',\n",
    "        'month',\n",
    "        'day',\n",
    "        'weekday',\n",
    "        'price',\n",
    "        'image_top_1',\n",
    "        'region',\n",
    "        'city',\n",
    "        'parent_category_name',\n",
    "        'category_name',\n",
    "        'param_1',\n",
    "        'param_2',\n",
    "        'param_3',\n",
    "        'user_type',\n",
    "        'title_svd_1',\n",
    "        'title_svd_2',\n",
    "        'description_svd_1',\n",
    "        'description_svd_2'\n",
    "    ]))\n",
    "])"
   ]
  },
  {
   "cell_type": "markdown",
   "metadata": {
    "deletable": true,
    "editable": true
   },
   "source": [
    "Como o dataset de teste pode conter, para os atributos categóricos, categorias não vistas no dataset de treino e, para os atributos textuais, termos igualmente não presentes no dataset de testes, temos de treinar o preprocessador na união desses dois conjuntos:"
   ]
  },
  {
   "cell_type": "code",
   "execution_count": 20,
   "metadata": {
    "collapsed": false,
    "deletable": true,
    "editable": true
   },
   "outputs": [
    {
     "name": "stdout",
     "output_type": "stream",
     "text": [
      "Elapsed time: 242.93734741210938\n"
     ]
    }
   ],
   "source": [
    "start = time.time()\n",
    "preprocess_transformer.fit(pd.concat([X, df_test[df_train.columns.difference(['deal_probability'])]]))\n",
    "X_processed = preprocess_transformer.transform(pd.concat([X, df_test[df_train.columns.difference(['deal_probability'])]]))\n",
    "end = time.time()\n",
    "\n",
    "print('Elapsed time:', end - start)"
   ]
  },
  {
   "cell_type": "markdown",
   "metadata": {
    "deletable": true,
    "editable": true
   },
   "source": [
    "Salvando os dados processados:"
   ]
  },
  {
   "cell_type": "code",
   "execution_count": 21,
   "metadata": {
    "collapsed": true,
    "deletable": true,
    "editable": true
   },
   "outputs": [],
   "source": [
    "joblib.dump(X_processed, open('data/X_processed.sav', 'wb'))"
   ]
  },
  {
   "cell_type": "markdown",
   "metadata": {
    "deletable": true,
    "editable": true
   },
   "source": [
    "Teste carregamento:"
   ]
  },
  {
   "cell_type": "code",
   "execution_count": 22,
   "metadata": {
    "collapsed": true,
    "deletable": true,
    "editable": true
   },
   "outputs": [],
   "source": [
    "X_fit = joblib.load('data/X_train_processed.sav')"
   ]
  },
  {
   "cell_type": "code",
   "execution_count": 23,
   "metadata": {
    "collapsed": true,
    "deletable": true,
    "editable": true
   },
   "outputs": [],
   "source": [
    "X_fit, X_submit = X_processed[:X.shape[0]], X_processed[X.shape[0]:]"
   ]
  },
  {
   "cell_type": "code",
   "execution_count": 24,
   "metadata": {
    "collapsed": false,
    "deletable": true,
    "editable": true
   },
   "outputs": [
    {
     "data": {
      "text/html": [
       "<div>\n",
       "<style>\n",
       "    .dataframe thead tr:only-child th {\n",
       "        text-align: right;\n",
       "    }\n",
       "\n",
       "    .dataframe thead th {\n",
       "        text-align: left;\n",
       "    }\n",
       "\n",
       "    .dataframe tbody tr th {\n",
       "        vertical-align: top;\n",
       "    }\n",
       "</style>\n",
       "<table border=\"1\" class=\"dataframe\">\n",
       "  <thead>\n",
       "    <tr style=\"text-align: right;\">\n",
       "      <th></th>\n",
       "      <th>item_seq_number</th>\n",
       "      <th>month</th>\n",
       "      <th>day</th>\n",
       "      <th>weekday</th>\n",
       "      <th>price</th>\n",
       "      <th>image_top_1</th>\n",
       "      <th>region</th>\n",
       "      <th>city</th>\n",
       "      <th>parent_category_name</th>\n",
       "      <th>category_name</th>\n",
       "      <th>param_1</th>\n",
       "      <th>param_2</th>\n",
       "      <th>param_3</th>\n",
       "      <th>user_type</th>\n",
       "      <th>title_svd_1</th>\n",
       "      <th>title_svd_2</th>\n",
       "      <th>description_svd_1</th>\n",
       "      <th>description_svd_2</th>\n",
       "    </tr>\n",
       "  </thead>\n",
       "  <tbody>\n",
       "    <tr>\n",
       "      <th>0</th>\n",
       "      <td>2</td>\n",
       "      <td>3</td>\n",
       "      <td>28</td>\n",
       "      <td>1</td>\n",
       "      <td>400</td>\n",
       "      <td>1008</td>\n",
       "      <td>19</td>\n",
       "      <td>462</td>\n",
       "      <td>4</td>\n",
       "      <td>42</td>\n",
       "      <td>248</td>\n",
       "      <td>197</td>\n",
       "      <td>1228</td>\n",
       "      <td>1</td>\n",
       "      <td>0.000216267</td>\n",
       "      <td>0.00619864</td>\n",
       "      <td>0.0307004</td>\n",
       "      <td>0.034499</td>\n",
       "    </tr>\n",
       "    <tr>\n",
       "      <th>1</th>\n",
       "      <td>19</td>\n",
       "      <td>3</td>\n",
       "      <td>26</td>\n",
       "      <td>6</td>\n",
       "      <td>3000</td>\n",
       "      <td>692</td>\n",
       "      <td>17</td>\n",
       "      <td>1314</td>\n",
       "      <td>2</td>\n",
       "      <td>22</td>\n",
       "      <td>121</td>\n",
       "      <td>197</td>\n",
       "      <td>1228</td>\n",
       "      <td>1</td>\n",
       "      <td>0.000392368</td>\n",
       "      <td>0.0100318</td>\n",
       "      <td>0.019122</td>\n",
       "      <td>0.0240967</td>\n",
       "    </tr>\n",
       "    <tr>\n",
       "      <th>2</th>\n",
       "      <td>9</td>\n",
       "      <td>3</td>\n",
       "      <td>20</td>\n",
       "      <td>0</td>\n",
       "      <td>4000</td>\n",
       "      <td>3032</td>\n",
       "      <td>16</td>\n",
       "      <td>1290</td>\n",
       "      <td>0</td>\n",
       "      <td>2</td>\n",
       "      <td>83</td>\n",
       "      <td>197</td>\n",
       "      <td>1228</td>\n",
       "      <td>1</td>\n",
       "      <td>1.95053e-05</td>\n",
       "      <td>2.589e-05</td>\n",
       "      <td>0.151511</td>\n",
       "      <td>-0.0515689</td>\n",
       "    </tr>\n",
       "    <tr>\n",
       "      <th>3</th>\n",
       "      <td>286</td>\n",
       "      <td>3</td>\n",
       "      <td>25</td>\n",
       "      <td>5</td>\n",
       "      <td>2200</td>\n",
       "      <td>796</td>\n",
       "      <td>21</td>\n",
       "      <td>950</td>\n",
       "      <td>4</td>\n",
       "      <td>42</td>\n",
       "      <td>37</td>\n",
       "      <td>197</td>\n",
       "      <td>1228</td>\n",
       "      <td>0</td>\n",
       "      <td>5.02828e-05</td>\n",
       "      <td>0.000221426</td>\n",
       "      <td>0.0365522</td>\n",
       "      <td>0.0271495</td>\n",
       "    </tr>\n",
       "    <tr>\n",
       "      <th>4</th>\n",
       "      <td>3</td>\n",
       "      <td>3</td>\n",
       "      <td>16</td>\n",
       "      <td>3</td>\n",
       "      <td>40000</td>\n",
       "      <td>2264</td>\n",
       "      <td>4</td>\n",
       "      <td>318</td>\n",
       "      <td>6</td>\n",
       "      <td>0</td>\n",
       "      <td>277</td>\n",
       "      <td>123</td>\n",
       "      <td>46</td>\n",
       "      <td>1</td>\n",
       "      <td>2.62942e-06</td>\n",
       "      <td>-7.58662e-06</td>\n",
       "      <td>0.116135</td>\n",
       "      <td>0.137409</td>\n",
       "    </tr>\n",
       "  </tbody>\n",
       "</table>\n",
       "</div>"
      ],
      "text/plain": [
       "  item_seq_number month day weekday  price image_top_1 region  city  \\\n",
       "0               2     3  28       1    400        1008     19   462   \n",
       "1              19     3  26       6   3000         692     17  1314   \n",
       "2               9     3  20       0   4000        3032     16  1290   \n",
       "3             286     3  25       5   2200         796     21   950   \n",
       "4               3     3  16       3  40000        2264      4   318   \n",
       "\n",
       "  parent_category_name category_name param_1 param_2 param_3 user_type  \\\n",
       "0                    4            42     248     197    1228         1   \n",
       "1                    2            22     121     197    1228         1   \n",
       "2                    0             2      83     197    1228         1   \n",
       "3                    4            42      37     197    1228         0   \n",
       "4                    6             0     277     123      46         1   \n",
       "\n",
       "   title_svd_1  title_svd_2 description_svd_1 description_svd_2  \n",
       "0  0.000216267   0.00619864         0.0307004          0.034499  \n",
       "1  0.000392368    0.0100318          0.019122         0.0240967  \n",
       "2  1.95053e-05    2.589e-05          0.151511        -0.0515689  \n",
       "3  5.02828e-05  0.000221426         0.0365522         0.0271495  \n",
       "4  2.62942e-06 -7.58662e-06          0.116135          0.137409  "
      ]
     },
     "execution_count": 24,
     "metadata": {},
     "output_type": "execute_result"
    }
   ],
   "source": [
    "X_fit.head()"
   ]
  },
  {
   "cell_type": "markdown",
   "metadata": {
    "deletable": true,
    "editable": true
   },
   "source": [
    "Finalmente, vamos repartir o modelo em um conjunto de treino e outro de testes:"
   ]
  },
  {
   "cell_type": "code",
   "execution_count": 25,
   "metadata": {
    "collapsed": false,
    "deletable": true,
    "editable": true
   },
   "outputs": [],
   "source": [
    "X_train, X_test, y_train, y_test = train_test_split(X_fit.values, y.values.ravel(), test_size=.2, random_state=1)"
   ]
  },
  {
   "cell_type": "markdown",
   "metadata": {
    "deletable": true,
    "editable": true
   },
   "source": [
    "# 4. Treinando modelos"
   ]
  },
  {
   "cell_type": "markdown",
   "metadata": {
    "deletable": true,
    "editable": true
   },
   "source": [
    "Para o treinamento e otimização de cada modelo foi utilizada a GridSearchCV do Scikit-Learn que. Ela realiza uma k-fold cross-validation com todas as combinações de valores de parâmetros passadas como argumento do método, além de uma métrica de comparação entre os modelos, nesse caso o `neg_mean_squared_error`. Realizando esses testes em diversas possibilidades de modelos e o resultante é o que obteve melhor desempenho dentre os outros."
   ]
  },
  {
   "cell_type": "markdown",
   "metadata": {
    "deletable": true,
    "editable": true
   },
   "source": [
    "## 4.1 Árvore de decisão"
   ]
  },
  {
   "cell_type": "code",
   "execution_count": 13,
   "metadata": {
    "collapsed": true,
    "deletable": true,
    "editable": true
   },
   "outputs": [],
   "source": [
    "tree_regressor = DecisionTreeRegressor(random_state=1)"
   ]
  },
  {
   "cell_type": "code",
   "execution_count": 14,
   "metadata": {
    "collapsed": true,
    "deletable": true,
    "editable": true
   },
   "outputs": [],
   "source": [
    "grid_params = {\n",
    "    'max_depth': np.arange(11, 16),\n",
    "    'min_samples_split': np.linspace(0.0001, .01, 5, endpoint=True),\n",
    "}\n",
    "\n",
    "grid_search_tree = GridSearchCV(tree_regressor, param_grid=grid_params, cv=5, scoring='neg_mean_squared_error', n_jobs=4)"
   ]
  },
  {
   "cell_type": "code",
   "execution_count": 15,
   "metadata": {
    "collapsed": false,
    "deletable": true,
    "editable": true
   },
   "outputs": [
    {
     "name": "stdout",
     "output_type": "stream",
     "text": [
      "Elapsed time:  601.2647848129272\n"
     ]
    }
   ],
   "source": [
    "start = time.time()\n",
    "\n",
    "grid_search_tree.fit(X_train, y_train)\n",
    "\n",
    "end = time.time()\n",
    "print('Elapsed time: ', end - start)"
   ]
  },
  {
   "cell_type": "markdown",
   "metadata": {
    "deletable": true,
    "editable": true
   },
   "source": [
    "Vamos ver os melhores parâmetros obtidos:"
   ]
  },
  {
   "cell_type": "code",
   "execution_count": 16,
   "metadata": {
    "collapsed": false,
    "deletable": true,
    "editable": true
   },
   "outputs": [
    {
     "data": {
      "text/plain": [
       "{'max_depth': 15, 'min_samples_split': 0.002575}"
      ]
     },
     "execution_count": 16,
     "metadata": {},
     "output_type": "execute_result"
    }
   ],
   "source": [
    "grid_search_tree.best_params_"
   ]
  },
  {
   "cell_type": "markdown",
   "metadata": {
    "deletable": true,
    "editable": true
   },
   "source": [
    "E o menor erro obtido:"
   ]
  },
  {
   "cell_type": "code",
   "execution_count": 17,
   "metadata": {
    "collapsed": false,
    "deletable": true,
    "editable": true
   },
   "outputs": [
    {
     "name": "stdout",
     "output_type": "stream",
     "text": [
      "0.233924405371\n"
     ]
    }
   ],
   "source": [
    "tree_rmse = np.sqrt(-grid_search_tree.best_score_)\n",
    "print(tree_rmse)"
   ]
  },
  {
   "cell_type": "markdown",
   "metadata": {
    "deletable": true,
    "editable": true
   },
   "source": [
    "Agora, vamos avaliar no conjunto de testes:"
   ]
  },
  {
   "cell_type": "code",
   "execution_count": 27,
   "metadata": {
    "collapsed": false,
    "deletable": true,
    "editable": true
   },
   "outputs": [],
   "source": [
    "y_pred = grid_search_tree.best_estimator_.predict(X_test)"
   ]
  },
  {
   "cell_type": "code",
   "execution_count": 29,
   "metadata": {
    "collapsed": false,
    "deletable": true,
    "editable": true
   },
   "outputs": [
    {
     "name": "stdout",
     "output_type": "stream",
     "text": [
      "0.233723778099\n"
     ]
    }
   ],
   "source": [
    "tree_test_rmse = np.sqrt(mean_squared_error(y_test, y_pred))\n",
    "print(tree_test_rmse)"
   ]
  },
  {
   "cell_type": "markdown",
   "metadata": {
    "deletable": true,
    "editable": true
   },
   "source": [
    "Salvando o modelo:"
   ]
  },
  {
   "cell_type": "code",
   "execution_count": 34,
   "metadata": {
    "collapsed": true,
    "deletable": true,
    "editable": true
   },
   "outputs": [],
   "source": [
    "filename = 'models/decision_tree.sav'\n",
    "joblib.dump(grid_search_tree.best_estimator_, open(filename, 'wb'))"
   ]
  },
  {
   "cell_type": "markdown",
   "metadata": {
    "deletable": true,
    "editable": true
   },
   "source": [
    "Gerando arquivo de submissão:"
   ]
  },
  {
   "cell_type": "code",
   "execution_count": null,
   "metadata": {
    "collapsed": true,
    "deletable": true,
    "editable": true
   },
   "outputs": [],
   "source": [
    "df_submit = pd.DataFrame(np.column_stack((df_test['item_id'].values, y_pred)), columns=['item_id', 'deal_probability'])\n",
    "df_submit.to_csv('submit/decision_tree.csv', index=False)"
   ]
  },
  {
   "cell_type": "markdown",
   "metadata": {
    "deletable": true,
    "editable": true
   },
   "source": [
    "## 4.2. Random Forest"
   ]
  },
  {
   "cell_type": "code",
   "execution_count": 9,
   "metadata": {
    "collapsed": true,
    "deletable": true,
    "editable": true
   },
   "outputs": [],
   "source": [
    "rnd_forest_regressor = RandomForestRegressor()"
   ]
  },
  {
   "cell_type": "code",
   "execution_count": 16,
   "metadata": {
    "collapsed": true,
    "deletable": true,
    "editable": true
   },
   "outputs": [],
   "source": [
    "grid_params = {\n",
    "    'n_estimators': [100],\n",
    "    'max_depth': [20, ],\n",
    "}\n",
    "\n",
    "grid_search_rnd_forest = GridSearchCV(\n",
    "    rnd_forest_regressor,\n",
    "    param_grid=grid_params,\n",
    "    cv=5,\n",
    "    scoring='neg_mean_squared_error',\n",
    "    random_state=1\n",
    ")"
   ]
  },
  {
   "cell_type": "code",
   "execution_count": 17,
   "metadata": {
    "collapsed": false,
    "deletable": true,
    "editable": true
   },
   "outputs": [
    {
     "name": "stdout",
     "output_type": "stream",
     "text": [
      "Elapsed time:  12043.079990625381\n"
     ]
    }
   ],
   "source": [
    "start = time.time()\n",
    "\n",
    "grid_search_rnd_forest.fit(X_train_processed, y_train.values.ravel())\n",
    "\n",
    "end = time.time()\n",
    "print('Elapsed time: ', end - start)"
   ]
  },
  {
   "cell_type": "markdown",
   "metadata": {
    "deletable": true,
    "editable": true
   },
   "source": [
    "Melhores parâmetros obtidos:"
   ]
  },
  {
   "cell_type": "code",
   "execution_count": 18,
   "metadata": {
    "collapsed": false,
    "deletable": true,
    "editable": true
   },
   "outputs": [
    {
     "data": {
      "text/plain": [
       "{'max_depth': 20, 'n_estimators': 100}"
      ]
     },
     "execution_count": 18,
     "metadata": {},
     "output_type": "execute_result"
    }
   ],
   "source": [
    "grid_search_rnd_forest.best_params_"
   ]
  },
  {
   "cell_type": "markdown",
   "metadata": {
    "deletable": true,
    "editable": true
   },
   "source": [
    "E o menor erro:"
   ]
  },
  {
   "cell_type": "code",
   "execution_count": 19,
   "metadata": {
    "collapsed": false,
    "deletable": true,
    "editable": true
   },
   "outputs": [
    {
     "name": "stdout",
     "output_type": "stream",
     "text": [
      "0.2273286383342149\n"
     ]
    }
   ],
   "source": [
    "rnd_forest_rmse = np.sqrt(-grid_search_rnd_forest.best_score_)\n",
    "print(rnd_forest_rmse)"
   ]
  },
  {
   "cell_type": "markdown",
   "metadata": {
    "deletable": true,
    "editable": true
   },
   "source": [
    "Salvando o modelo:"
   ]
  },
  {
   "cell_type": "code",
   "execution_count": 20,
   "metadata": {
    "collapsed": true,
    "deletable": true,
    "editable": true
   },
   "outputs": [],
   "source": [
    "filename = 'models/random_forest.sav'\n",
    "joblib.dump(grid_search_rnd_forest.best_estimator_, open(filename, 'wb'))"
   ]
  },
  {
   "cell_type": "markdown",
   "metadata": {
    "deletable": true,
    "editable": true
   },
   "source": [
    "Gerando arquivo de submissão:"
   ]
  },
  {
   "cell_type": "code",
   "execution_count": null,
   "metadata": {
    "collapsed": true,
    "deletable": true,
    "editable": true
   },
   "outputs": [],
   "source": [
    "df_submit = pd.DataFrame(np.column_stack((df_test['item_id'].values, y_pred)), columns=['item_id', 'deal_probability'])\n",
    "df_submit.to_csv('submit/random_forest.csv', index=False)"
   ]
  },
  {
   "cell_type": "markdown",
   "metadata": {
    "deletable": true,
    "editable": true
   },
   "source": [
    "## 4.3. Gradient Boosting"
   ]
  },
  {
   "cell_type": "markdown",
   "metadata": {
    "collapsed": true,
    "deletable": true,
    "editable": true
   },
   "source": [
    "Carregando dados:"
   ]
  },
  {
   "cell_type": "code",
   "execution_count": 29,
   "metadata": {
    "collapsed": false,
    "deletable": true,
    "editable": true
   },
   "outputs": [],
   "source": [
    "dtrain = xgb.DMatrix(X_train, label=y_train)\n",
    "dtest = xgb.DMatrix(X_test, label=y_test)"
   ]
  },
  {
   "cell_type": "markdown",
   "metadata": {
    "deletable": true,
    "editable": true
   },
   "source": [
    "Salvando dados para uso posterior:"
   ]
  },
  {
   "cell_type": "code",
   "execution_count": 30,
   "metadata": {
    "collapsed": true,
    "deletable": true,
    "editable": true
   },
   "outputs": [],
   "source": [
    "dtrain.save_binary('data/xgb_train.buffer')\n",
    "dtest.save_binary('data/xgb_test.buffer')"
   ]
  },
  {
   "cell_type": "markdown",
   "metadata": {
    "deletable": true,
    "editable": true
   },
   "source": [
    "Carregando dos buffers:"
   ]
  },
  {
   "cell_type": "code",
   "execution_count": 2,
   "metadata": {
    "collapsed": true,
    "deletable": true,
    "editable": true
   },
   "outputs": [],
   "source": [
    "dtrain = xgb.DMatrix('data/xgb_train.buffer')\n",
    "dtest = xgb.DMatrix('data/xgb_test.buffer')"
   ]
  },
  {
   "cell_type": "markdown",
   "metadata": {
    "deletable": true,
    "editable": true
   },
   "source": [
    "Definindo parâmentros:"
   ]
  },
  {
   "cell_type": "code",
   "execution_count": 27,
   "metadata": {
    "collapsed": false,
    "deletable": true,
    "editable": true
   },
   "outputs": [],
   "source": [
    "param = {\n",
    "    'eta': .08,\n",
    "    'sub_sample': .7,\n",
    "    'objective': 'gpu:reg:logistic',\n",
    "    'tree_method': 'gpu_hist'\n",
    "}"
   ]
  },
  {
   "cell_type": "markdown",
   "metadata": {
    "deletable": true,
    "editable": true
   },
   "source": [
    "Avaliação cruzada dos parâmetros:"
   ]
  },
  {
   "cell_type": "code",
   "execution_count": 31,
   "metadata": {
    "collapsed": false,
    "deletable": true,
    "editable": true
   },
   "outputs": [
    {
     "name": "stdout",
     "output_type": "stream",
     "text": [
      "Elapsed time: 52.44452738761902\n"
     ]
    }
   ],
   "source": [
    "num_round = 200\n",
    "\n",
    "start = time.time()\n",
    "evalu = xgb.cv(param, dtrain, num_round, nfold=5)\n",
    "end = time.time()\n",
    "\n",
    "print('Elapsed time:', end - start)"
   ]
  },
  {
   "cell_type": "code",
   "execution_count": 32,
   "metadata": {
    "collapsed": false,
    "deletable": true,
    "editable": true
   },
   "outputs": [
    {
     "data": {
      "text/html": [
       "<div>\n",
       "<style>\n",
       "    .dataframe thead tr:only-child th {\n",
       "        text-align: right;\n",
       "    }\n",
       "\n",
       "    .dataframe thead th {\n",
       "        text-align: left;\n",
       "    }\n",
       "\n",
       "    .dataframe tbody tr th {\n",
       "        vertical-align: top;\n",
       "    }\n",
       "</style>\n",
       "<table border=\"1\" class=\"dataframe\">\n",
       "  <thead>\n",
       "    <tr style=\"text-align: right;\">\n",
       "      <th></th>\n",
       "      <th>test-rmse-mean</th>\n",
       "      <th>test-rmse-std</th>\n",
       "      <th>train-rmse-mean</th>\n",
       "      <th>train-rmse-std</th>\n",
       "    </tr>\n",
       "  </thead>\n",
       "  <tbody>\n",
       "    <tr>\n",
       "      <th>0</th>\n",
       "      <td>0.420013</td>\n",
       "      <td>0.000107</td>\n",
       "      <td>0.420007</td>\n",
       "      <td>0.000052</td>\n",
       "    </tr>\n",
       "    <tr>\n",
       "      <th>1</th>\n",
       "      <td>0.397925</td>\n",
       "      <td>0.000119</td>\n",
       "      <td>0.397915</td>\n",
       "      <td>0.000055</td>\n",
       "    </tr>\n",
       "    <tr>\n",
       "      <th>2</th>\n",
       "      <td>0.378226</td>\n",
       "      <td>0.000132</td>\n",
       "      <td>0.378211</td>\n",
       "      <td>0.000055</td>\n",
       "    </tr>\n",
       "    <tr>\n",
       "      <th>3</th>\n",
       "      <td>0.360731</td>\n",
       "      <td>0.000148</td>\n",
       "      <td>0.360709</td>\n",
       "      <td>0.000071</td>\n",
       "    </tr>\n",
       "    <tr>\n",
       "      <th>4</th>\n",
       "      <td>0.345173</td>\n",
       "      <td>0.000170</td>\n",
       "      <td>0.345146</td>\n",
       "      <td>0.000060</td>\n",
       "    </tr>\n",
       "    <tr>\n",
       "      <th>5</th>\n",
       "      <td>0.331421</td>\n",
       "      <td>0.000188</td>\n",
       "      <td>0.331385</td>\n",
       "      <td>0.000063</td>\n",
       "    </tr>\n",
       "    <tr>\n",
       "      <th>6</th>\n",
       "      <td>0.319294</td>\n",
       "      <td>0.000199</td>\n",
       "      <td>0.319254</td>\n",
       "      <td>0.000080</td>\n",
       "    </tr>\n",
       "    <tr>\n",
       "      <th>7</th>\n",
       "      <td>0.308616</td>\n",
       "      <td>0.000192</td>\n",
       "      <td>0.308573</td>\n",
       "      <td>0.000108</td>\n",
       "    </tr>\n",
       "    <tr>\n",
       "      <th>8</th>\n",
       "      <td>0.299259</td>\n",
       "      <td>0.000232</td>\n",
       "      <td>0.299209</td>\n",
       "      <td>0.000092</td>\n",
       "    </tr>\n",
       "    <tr>\n",
       "      <th>9</th>\n",
       "      <td>0.291031</td>\n",
       "      <td>0.000231</td>\n",
       "      <td>0.290969</td>\n",
       "      <td>0.000116</td>\n",
       "    </tr>\n",
       "    <tr>\n",
       "      <th>10</th>\n",
       "      <td>0.283885</td>\n",
       "      <td>0.000243</td>\n",
       "      <td>0.283817</td>\n",
       "      <td>0.000148</td>\n",
       "    </tr>\n",
       "    <tr>\n",
       "      <th>11</th>\n",
       "      <td>0.277614</td>\n",
       "      <td>0.000294</td>\n",
       "      <td>0.277540</td>\n",
       "      <td>0.000122</td>\n",
       "    </tr>\n",
       "    <tr>\n",
       "      <th>12</th>\n",
       "      <td>0.272187</td>\n",
       "      <td>0.000309</td>\n",
       "      <td>0.272104</td>\n",
       "      <td>0.000106</td>\n",
       "    </tr>\n",
       "    <tr>\n",
       "      <th>13</th>\n",
       "      <td>0.267409</td>\n",
       "      <td>0.000287</td>\n",
       "      <td>0.267320</td>\n",
       "      <td>0.000153</td>\n",
       "    </tr>\n",
       "    <tr>\n",
       "      <th>14</th>\n",
       "      <td>0.263363</td>\n",
       "      <td>0.000329</td>\n",
       "      <td>0.263267</td>\n",
       "      <td>0.000165</td>\n",
       "    </tr>\n",
       "    <tr>\n",
       "      <th>15</th>\n",
       "      <td>0.259842</td>\n",
       "      <td>0.000356</td>\n",
       "      <td>0.259742</td>\n",
       "      <td>0.000135</td>\n",
       "    </tr>\n",
       "    <tr>\n",
       "      <th>16</th>\n",
       "      <td>0.256852</td>\n",
       "      <td>0.000372</td>\n",
       "      <td>0.256747</td>\n",
       "      <td>0.000138</td>\n",
       "    </tr>\n",
       "    <tr>\n",
       "      <th>17</th>\n",
       "      <td>0.254263</td>\n",
       "      <td>0.000391</td>\n",
       "      <td>0.254154</td>\n",
       "      <td>0.000143</td>\n",
       "    </tr>\n",
       "    <tr>\n",
       "      <th>18</th>\n",
       "      <td>0.251988</td>\n",
       "      <td>0.000399</td>\n",
       "      <td>0.251872</td>\n",
       "      <td>0.000184</td>\n",
       "    </tr>\n",
       "    <tr>\n",
       "      <th>19</th>\n",
       "      <td>0.249985</td>\n",
       "      <td>0.000385</td>\n",
       "      <td>0.249867</td>\n",
       "      <td>0.000153</td>\n",
       "    </tr>\n",
       "    <tr>\n",
       "      <th>20</th>\n",
       "      <td>0.248335</td>\n",
       "      <td>0.000397</td>\n",
       "      <td>0.248212</td>\n",
       "      <td>0.000154</td>\n",
       "    </tr>\n",
       "    <tr>\n",
       "      <th>21</th>\n",
       "      <td>0.246788</td>\n",
       "      <td>0.000409</td>\n",
       "      <td>0.246661</td>\n",
       "      <td>0.000152</td>\n",
       "    </tr>\n",
       "    <tr>\n",
       "      <th>22</th>\n",
       "      <td>0.245468</td>\n",
       "      <td>0.000432</td>\n",
       "      <td>0.245339</td>\n",
       "      <td>0.000142</td>\n",
       "    </tr>\n",
       "    <tr>\n",
       "      <th>23</th>\n",
       "      <td>0.244409</td>\n",
       "      <td>0.000440</td>\n",
       "      <td>0.244275</td>\n",
       "      <td>0.000142</td>\n",
       "    </tr>\n",
       "    <tr>\n",
       "      <th>24</th>\n",
       "      <td>0.243475</td>\n",
       "      <td>0.000421</td>\n",
       "      <td>0.243339</td>\n",
       "      <td>0.000156</td>\n",
       "    </tr>\n",
       "    <tr>\n",
       "      <th>25</th>\n",
       "      <td>0.242625</td>\n",
       "      <td>0.000427</td>\n",
       "      <td>0.242485</td>\n",
       "      <td>0.000166</td>\n",
       "    </tr>\n",
       "    <tr>\n",
       "      <th>26</th>\n",
       "      <td>0.241880</td>\n",
       "      <td>0.000435</td>\n",
       "      <td>0.241735</td>\n",
       "      <td>0.000153</td>\n",
       "    </tr>\n",
       "    <tr>\n",
       "      <th>27</th>\n",
       "      <td>0.241238</td>\n",
       "      <td>0.000438</td>\n",
       "      <td>0.241086</td>\n",
       "      <td>0.000155</td>\n",
       "    </tr>\n",
       "    <tr>\n",
       "      <th>28</th>\n",
       "      <td>0.240658</td>\n",
       "      <td>0.000449</td>\n",
       "      <td>0.240502</td>\n",
       "      <td>0.000150</td>\n",
       "    </tr>\n",
       "    <tr>\n",
       "      <th>29</th>\n",
       "      <td>0.240164</td>\n",
       "      <td>0.000483</td>\n",
       "      <td>0.240004</td>\n",
       "      <td>0.000117</td>\n",
       "    </tr>\n",
       "    <tr>\n",
       "      <th>...</th>\n",
       "      <td>...</td>\n",
       "      <td>...</td>\n",
       "      <td>...</td>\n",
       "      <td>...</td>\n",
       "    </tr>\n",
       "    <tr>\n",
       "      <th>170</th>\n",
       "      <td>0.230207</td>\n",
       "      <td>0.000452</td>\n",
       "      <td>0.229138</td>\n",
       "      <td>0.000080</td>\n",
       "    </tr>\n",
       "    <tr>\n",
       "      <th>171</th>\n",
       "      <td>0.230174</td>\n",
       "      <td>0.000443</td>\n",
       "      <td>0.229096</td>\n",
       "      <td>0.000088</td>\n",
       "    </tr>\n",
       "    <tr>\n",
       "      <th>172</th>\n",
       "      <td>0.230150</td>\n",
       "      <td>0.000437</td>\n",
       "      <td>0.229063</td>\n",
       "      <td>0.000094</td>\n",
       "    </tr>\n",
       "    <tr>\n",
       "      <th>173</th>\n",
       "      <td>0.230137</td>\n",
       "      <td>0.000438</td>\n",
       "      <td>0.229044</td>\n",
       "      <td>0.000090</td>\n",
       "    </tr>\n",
       "    <tr>\n",
       "      <th>174</th>\n",
       "      <td>0.230118</td>\n",
       "      <td>0.000441</td>\n",
       "      <td>0.229021</td>\n",
       "      <td>0.000085</td>\n",
       "    </tr>\n",
       "    <tr>\n",
       "      <th>175</th>\n",
       "      <td>0.230095</td>\n",
       "      <td>0.000431</td>\n",
       "      <td>0.228986</td>\n",
       "      <td>0.000096</td>\n",
       "    </tr>\n",
       "    <tr>\n",
       "      <th>176</th>\n",
       "      <td>0.230073</td>\n",
       "      <td>0.000421</td>\n",
       "      <td>0.228958</td>\n",
       "      <td>0.000106</td>\n",
       "    </tr>\n",
       "    <tr>\n",
       "      <th>177</th>\n",
       "      <td>0.230050</td>\n",
       "      <td>0.000433</td>\n",
       "      <td>0.228928</td>\n",
       "      <td>0.000092</td>\n",
       "    </tr>\n",
       "    <tr>\n",
       "      <th>178</th>\n",
       "      <td>0.230032</td>\n",
       "      <td>0.000434</td>\n",
       "      <td>0.228904</td>\n",
       "      <td>0.000092</td>\n",
       "    </tr>\n",
       "    <tr>\n",
       "      <th>179</th>\n",
       "      <td>0.230011</td>\n",
       "      <td>0.000423</td>\n",
       "      <td>0.228876</td>\n",
       "      <td>0.000106</td>\n",
       "    </tr>\n",
       "    <tr>\n",
       "      <th>180</th>\n",
       "      <td>0.229984</td>\n",
       "      <td>0.000418</td>\n",
       "      <td>0.228843</td>\n",
       "      <td>0.000109</td>\n",
       "    </tr>\n",
       "    <tr>\n",
       "      <th>181</th>\n",
       "      <td>0.229960</td>\n",
       "      <td>0.000416</td>\n",
       "      <td>0.228814</td>\n",
       "      <td>0.000116</td>\n",
       "    </tr>\n",
       "    <tr>\n",
       "      <th>182</th>\n",
       "      <td>0.229935</td>\n",
       "      <td>0.000424</td>\n",
       "      <td>0.228780</td>\n",
       "      <td>0.000113</td>\n",
       "    </tr>\n",
       "    <tr>\n",
       "      <th>183</th>\n",
       "      <td>0.229924</td>\n",
       "      <td>0.000424</td>\n",
       "      <td>0.228761</td>\n",
       "      <td>0.000112</td>\n",
       "    </tr>\n",
       "    <tr>\n",
       "      <th>184</th>\n",
       "      <td>0.229897</td>\n",
       "      <td>0.000424</td>\n",
       "      <td>0.228727</td>\n",
       "      <td>0.000104</td>\n",
       "    </tr>\n",
       "    <tr>\n",
       "      <th>185</th>\n",
       "      <td>0.229879</td>\n",
       "      <td>0.000426</td>\n",
       "      <td>0.228704</td>\n",
       "      <td>0.000099</td>\n",
       "    </tr>\n",
       "    <tr>\n",
       "      <th>186</th>\n",
       "      <td>0.229859</td>\n",
       "      <td>0.000426</td>\n",
       "      <td>0.228677</td>\n",
       "      <td>0.000101</td>\n",
       "    </tr>\n",
       "    <tr>\n",
       "      <th>187</th>\n",
       "      <td>0.229833</td>\n",
       "      <td>0.000424</td>\n",
       "      <td>0.228645</td>\n",
       "      <td>0.000106</td>\n",
       "    </tr>\n",
       "    <tr>\n",
       "      <th>188</th>\n",
       "      <td>0.229818</td>\n",
       "      <td>0.000422</td>\n",
       "      <td>0.228621</td>\n",
       "      <td>0.000113</td>\n",
       "    </tr>\n",
       "    <tr>\n",
       "      <th>189</th>\n",
       "      <td>0.229806</td>\n",
       "      <td>0.000424</td>\n",
       "      <td>0.228604</td>\n",
       "      <td>0.000107</td>\n",
       "    </tr>\n",
       "    <tr>\n",
       "      <th>190</th>\n",
       "      <td>0.229788</td>\n",
       "      <td>0.000425</td>\n",
       "      <td>0.228582</td>\n",
       "      <td>0.000108</td>\n",
       "    </tr>\n",
       "    <tr>\n",
       "      <th>191</th>\n",
       "      <td>0.229774</td>\n",
       "      <td>0.000420</td>\n",
       "      <td>0.228559</td>\n",
       "      <td>0.000113</td>\n",
       "    </tr>\n",
       "    <tr>\n",
       "      <th>192</th>\n",
       "      <td>0.229761</td>\n",
       "      <td>0.000413</td>\n",
       "      <td>0.228540</td>\n",
       "      <td>0.000118</td>\n",
       "    </tr>\n",
       "    <tr>\n",
       "      <th>193</th>\n",
       "      <td>0.229747</td>\n",
       "      <td>0.000415</td>\n",
       "      <td>0.228519</td>\n",
       "      <td>0.000115</td>\n",
       "    </tr>\n",
       "    <tr>\n",
       "      <th>194</th>\n",
       "      <td>0.229737</td>\n",
       "      <td>0.000412</td>\n",
       "      <td>0.228501</td>\n",
       "      <td>0.000116</td>\n",
       "    </tr>\n",
       "    <tr>\n",
       "      <th>195</th>\n",
       "      <td>0.229726</td>\n",
       "      <td>0.000413</td>\n",
       "      <td>0.228484</td>\n",
       "      <td>0.000115</td>\n",
       "    </tr>\n",
       "    <tr>\n",
       "      <th>196</th>\n",
       "      <td>0.229709</td>\n",
       "      <td>0.000421</td>\n",
       "      <td>0.228460</td>\n",
       "      <td>0.000111</td>\n",
       "    </tr>\n",
       "    <tr>\n",
       "      <th>197</th>\n",
       "      <td>0.229693</td>\n",
       "      <td>0.000418</td>\n",
       "      <td>0.228436</td>\n",
       "      <td>0.000118</td>\n",
       "    </tr>\n",
       "    <tr>\n",
       "      <th>198</th>\n",
       "      <td>0.229676</td>\n",
       "      <td>0.000416</td>\n",
       "      <td>0.228414</td>\n",
       "      <td>0.000115</td>\n",
       "    </tr>\n",
       "    <tr>\n",
       "      <th>199</th>\n",
       "      <td>0.229652</td>\n",
       "      <td>0.000409</td>\n",
       "      <td>0.228381</td>\n",
       "      <td>0.000121</td>\n",
       "    </tr>\n",
       "  </tbody>\n",
       "</table>\n",
       "<p>200 rows × 4 columns</p>\n",
       "</div>"
      ],
      "text/plain": [
       "     test-rmse-mean  test-rmse-std  train-rmse-mean  train-rmse-std\n",
       "0          0.420013       0.000107         0.420007        0.000052\n",
       "1          0.397925       0.000119         0.397915        0.000055\n",
       "2          0.378226       0.000132         0.378211        0.000055\n",
       "3          0.360731       0.000148         0.360709        0.000071\n",
       "4          0.345173       0.000170         0.345146        0.000060\n",
       "5          0.331421       0.000188         0.331385        0.000063\n",
       "6          0.319294       0.000199         0.319254        0.000080\n",
       "7          0.308616       0.000192         0.308573        0.000108\n",
       "8          0.299259       0.000232         0.299209        0.000092\n",
       "9          0.291031       0.000231         0.290969        0.000116\n",
       "10         0.283885       0.000243         0.283817        0.000148\n",
       "11         0.277614       0.000294         0.277540        0.000122\n",
       "12         0.272187       0.000309         0.272104        0.000106\n",
       "13         0.267409       0.000287         0.267320        0.000153\n",
       "14         0.263363       0.000329         0.263267        0.000165\n",
       "15         0.259842       0.000356         0.259742        0.000135\n",
       "16         0.256852       0.000372         0.256747        0.000138\n",
       "17         0.254263       0.000391         0.254154        0.000143\n",
       "18         0.251988       0.000399         0.251872        0.000184\n",
       "19         0.249985       0.000385         0.249867        0.000153\n",
       "20         0.248335       0.000397         0.248212        0.000154\n",
       "21         0.246788       0.000409         0.246661        0.000152\n",
       "22         0.245468       0.000432         0.245339        0.000142\n",
       "23         0.244409       0.000440         0.244275        0.000142\n",
       "24         0.243475       0.000421         0.243339        0.000156\n",
       "25         0.242625       0.000427         0.242485        0.000166\n",
       "26         0.241880       0.000435         0.241735        0.000153\n",
       "27         0.241238       0.000438         0.241086        0.000155\n",
       "28         0.240658       0.000449         0.240502        0.000150\n",
       "29         0.240164       0.000483         0.240004        0.000117\n",
       "..              ...            ...              ...             ...\n",
       "170        0.230207       0.000452         0.229138        0.000080\n",
       "171        0.230174       0.000443         0.229096        0.000088\n",
       "172        0.230150       0.000437         0.229063        0.000094\n",
       "173        0.230137       0.000438         0.229044        0.000090\n",
       "174        0.230118       0.000441         0.229021        0.000085\n",
       "175        0.230095       0.000431         0.228986        0.000096\n",
       "176        0.230073       0.000421         0.228958        0.000106\n",
       "177        0.230050       0.000433         0.228928        0.000092\n",
       "178        0.230032       0.000434         0.228904        0.000092\n",
       "179        0.230011       0.000423         0.228876        0.000106\n",
       "180        0.229984       0.000418         0.228843        0.000109\n",
       "181        0.229960       0.000416         0.228814        0.000116\n",
       "182        0.229935       0.000424         0.228780        0.000113\n",
       "183        0.229924       0.000424         0.228761        0.000112\n",
       "184        0.229897       0.000424         0.228727        0.000104\n",
       "185        0.229879       0.000426         0.228704        0.000099\n",
       "186        0.229859       0.000426         0.228677        0.000101\n",
       "187        0.229833       0.000424         0.228645        0.000106\n",
       "188        0.229818       0.000422         0.228621        0.000113\n",
       "189        0.229806       0.000424         0.228604        0.000107\n",
       "190        0.229788       0.000425         0.228582        0.000108\n",
       "191        0.229774       0.000420         0.228559        0.000113\n",
       "192        0.229761       0.000413         0.228540        0.000118\n",
       "193        0.229747       0.000415         0.228519        0.000115\n",
       "194        0.229737       0.000412         0.228501        0.000116\n",
       "195        0.229726       0.000413         0.228484        0.000115\n",
       "196        0.229709       0.000421         0.228460        0.000111\n",
       "197        0.229693       0.000418         0.228436        0.000118\n",
       "198        0.229676       0.000416         0.228414        0.000115\n",
       "199        0.229652       0.000409         0.228381        0.000121\n",
       "\n",
       "[200 rows x 4 columns]"
      ]
     },
     "execution_count": 32,
     "metadata": {},
     "output_type": "execute_result"
    }
   ],
   "source": [
    "evalu"
   ]
  },
  {
   "cell_type": "markdown",
   "metadata": {
    "deletable": true,
    "editable": true
   },
   "source": [
    "Vamos agora treinar um modelo com esses parâmetros no conjunto de treino inteiro:"
   ]
  },
  {
   "cell_type": "code",
   "execution_count": 33,
   "metadata": {
    "collapsed": true,
    "deletable": true,
    "editable": true
   },
   "outputs": [],
   "source": [
    "evallist = [(dtest, 'eval'), (dtrain, 'train')]"
   ]
  },
  {
   "cell_type": "code",
   "execution_count": 34,
   "metadata": {
    "collapsed": false,
    "deletable": true,
    "editable": true
   },
   "outputs": [
    {
     "name": "stdout",
     "output_type": "stream",
     "text": [
      "[0]\teval-rmse:0.420158\ttrain-rmse:0.420037\n",
      "[1]\teval-rmse:0.398052\ttrain-rmse:0.397943\n",
      "[2]\teval-rmse:0.378365\ttrain-rmse:0.378268\n",
      "[3]\teval-rmse:0.360818\ttrain-rmse:0.360731\n",
      "[4]\teval-rmse:0.345307\ttrain-rmse:0.345227\n",
      "[5]\teval-rmse:0.331591\ttrain-rmse:0.331519\n",
      "[6]\teval-rmse:0.319406\ttrain-rmse:0.319331\n",
      "[7]\teval-rmse:0.308769\ttrain-rmse:0.308695\n",
      "[8]\teval-rmse:0.299332\ttrain-rmse:0.299265\n",
      "[9]\teval-rmse:0.291166\ttrain-rmse:0.291099\n",
      "[10]\teval-rmse:0.284029\ttrain-rmse:0.28396\n",
      "[11]\teval-rmse:0.277744\ttrain-rmse:0.277671\n",
      "[12]\teval-rmse:0.272205\ttrain-rmse:0.272137\n",
      "[13]\teval-rmse:0.267527\ttrain-rmse:0.267458\n",
      "[14]\teval-rmse:0.263506\ttrain-rmse:0.263435\n",
      "[15]\teval-rmse:0.259993\ttrain-rmse:0.259914\n",
      "[16]\teval-rmse:0.257005\ttrain-rmse:0.256922\n",
      "[17]\teval-rmse:0.254404\ttrain-rmse:0.254319\n",
      "[18]\teval-rmse:0.252176\ttrain-rmse:0.25209\n",
      "[19]\teval-rmse:0.250106\ttrain-rmse:0.250021\n",
      "[20]\teval-rmse:0.248309\ttrain-rmse:0.248218\n",
      "[21]\teval-rmse:0.24689\ttrain-rmse:0.246794\n",
      "[22]\teval-rmse:0.245664\ttrain-rmse:0.245559\n",
      "[23]\teval-rmse:0.244515\ttrain-rmse:0.244414\n",
      "[24]\teval-rmse:0.243578\ttrain-rmse:0.243478\n",
      "[25]\teval-rmse:0.24274\ttrain-rmse:0.242636\n",
      "[26]\teval-rmse:0.241958\ttrain-rmse:0.241852\n",
      "[27]\teval-rmse:0.241373\ttrain-rmse:0.241257\n",
      "[28]\teval-rmse:0.240823\ttrain-rmse:0.240698\n",
      "[29]\teval-rmse:0.240361\ttrain-rmse:0.240233\n",
      "[30]\teval-rmse:0.239914\ttrain-rmse:0.239782\n",
      "[31]\teval-rmse:0.239562\ttrain-rmse:0.239429\n",
      "[32]\teval-rmse:0.23916\ttrain-rmse:0.239014\n",
      "[33]\teval-rmse:0.238792\ttrain-rmse:0.238646\n",
      "[34]\teval-rmse:0.238435\ttrain-rmse:0.238277\n",
      "[35]\teval-rmse:0.238211\ttrain-rmse:0.23805\n",
      "[36]\teval-rmse:0.238001\ttrain-rmse:0.23783\n",
      "[37]\teval-rmse:0.237728\ttrain-rmse:0.237558\n",
      "[38]\teval-rmse:0.237515\ttrain-rmse:0.237341\n",
      "[39]\teval-rmse:0.237355\ttrain-rmse:0.237181\n",
      "[40]\teval-rmse:0.237164\ttrain-rmse:0.23699\n",
      "[41]\teval-rmse:0.236995\ttrain-rmse:0.236809\n",
      "[42]\teval-rmse:0.236899\ttrain-rmse:0.236711\n",
      "[43]\teval-rmse:0.236791\ttrain-rmse:0.236597\n",
      "[44]\teval-rmse:0.23657\ttrain-rmse:0.236372\n",
      "[45]\teval-rmse:0.236352\ttrain-rmse:0.236141\n",
      "[46]\teval-rmse:0.236215\ttrain-rmse:0.235998\n",
      "[47]\teval-rmse:0.236041\ttrain-rmse:0.23581\n",
      "[48]\teval-rmse:0.235863\ttrain-rmse:0.235627\n",
      "[49]\teval-rmse:0.235677\ttrain-rmse:0.235432\n",
      "[50]\teval-rmse:0.235591\ttrain-rmse:0.235335\n",
      "[51]\teval-rmse:0.235516\ttrain-rmse:0.235254\n",
      "[52]\teval-rmse:0.235445\ttrain-rmse:0.235179\n",
      "[53]\teval-rmse:0.235338\ttrain-rmse:0.235065\n",
      "[54]\teval-rmse:0.235237\ttrain-rmse:0.234962\n",
      "[55]\teval-rmse:0.23497\ttrain-rmse:0.234696\n",
      "[56]\teval-rmse:0.234896\ttrain-rmse:0.234617\n",
      "[57]\teval-rmse:0.234788\ttrain-rmse:0.234508\n",
      "[58]\teval-rmse:0.234737\ttrain-rmse:0.234452\n",
      "[59]\teval-rmse:0.234594\ttrain-rmse:0.234301\n",
      "[60]\teval-rmse:0.234491\ttrain-rmse:0.234198\n",
      "[61]\teval-rmse:0.234405\ttrain-rmse:0.234105\n",
      "[62]\teval-rmse:0.234302\ttrain-rmse:0.233991\n",
      "[63]\teval-rmse:0.23421\ttrain-rmse:0.233891\n",
      "[64]\teval-rmse:0.234176\ttrain-rmse:0.233857\n",
      "[65]\teval-rmse:0.234074\ttrain-rmse:0.23375\n",
      "[66]\teval-rmse:0.233988\ttrain-rmse:0.233665\n",
      "[67]\teval-rmse:0.233957\ttrain-rmse:0.233626\n",
      "[68]\teval-rmse:0.233918\ttrain-rmse:0.233583\n",
      "[69]\teval-rmse:0.233769\ttrain-rmse:0.233434\n",
      "[70]\teval-rmse:0.233707\ttrain-rmse:0.233364\n",
      "[71]\teval-rmse:0.233685\ttrain-rmse:0.233337\n",
      "[72]\teval-rmse:0.233621\ttrain-rmse:0.233268\n",
      "[73]\teval-rmse:0.233559\ttrain-rmse:0.233203\n",
      "[74]\teval-rmse:0.233478\ttrain-rmse:0.233115\n",
      "[75]\teval-rmse:0.23346\ttrain-rmse:0.233094\n",
      "[76]\teval-rmse:0.233407\ttrain-rmse:0.233031\n",
      "[77]\teval-rmse:0.233348\ttrain-rmse:0.232966\n",
      "[78]\teval-rmse:0.233274\ttrain-rmse:0.232883\n",
      "[79]\teval-rmse:0.233145\ttrain-rmse:0.232751\n",
      "[80]\teval-rmse:0.233068\ttrain-rmse:0.232665\n",
      "[81]\teval-rmse:0.233047\ttrain-rmse:0.23264\n",
      "[82]\teval-rmse:0.233001\ttrain-rmse:0.232585\n",
      "[83]\teval-rmse:0.232945\ttrain-rmse:0.232525\n",
      "[84]\teval-rmse:0.232915\ttrain-rmse:0.232492\n",
      "[85]\teval-rmse:0.232858\ttrain-rmse:0.23243\n",
      "[86]\teval-rmse:0.232817\ttrain-rmse:0.232387\n",
      "[87]\teval-rmse:0.232743\ttrain-rmse:0.232312\n",
      "[88]\teval-rmse:0.232714\ttrain-rmse:0.232275\n",
      "[89]\teval-rmse:0.232654\ttrain-rmse:0.232204\n",
      "[90]\teval-rmse:0.232608\ttrain-rmse:0.232152\n",
      "[91]\teval-rmse:0.232581\ttrain-rmse:0.232119\n",
      "[92]\teval-rmse:0.232564\ttrain-rmse:0.2321\n",
      "[93]\teval-rmse:0.232495\ttrain-rmse:0.232028\n",
      "[94]\teval-rmse:0.232464\ttrain-rmse:0.231987\n",
      "[95]\teval-rmse:0.232423\ttrain-rmse:0.231935\n",
      "[96]\teval-rmse:0.232384\ttrain-rmse:0.23189\n",
      "[97]\teval-rmse:0.232308\ttrain-rmse:0.231809\n",
      "[98]\teval-rmse:0.232252\ttrain-rmse:0.23175\n",
      "[99]\teval-rmse:0.232237\ttrain-rmse:0.231733\n",
      "[100]\teval-rmse:0.232214\ttrain-rmse:0.231705\n",
      "[101]\teval-rmse:0.232186\ttrain-rmse:0.231669\n",
      "[102]\teval-rmse:0.232141\ttrain-rmse:0.231616\n",
      "[103]\teval-rmse:0.232114\ttrain-rmse:0.23158\n",
      "[104]\teval-rmse:0.232104\ttrain-rmse:0.231569\n",
      "[105]\teval-rmse:0.232061\ttrain-rmse:0.231519\n",
      "[106]\teval-rmse:0.232019\ttrain-rmse:0.231472\n",
      "[107]\teval-rmse:0.231996\ttrain-rmse:0.231444\n",
      "[108]\teval-rmse:0.231915\ttrain-rmse:0.231359\n",
      "[109]\teval-rmse:0.231874\ttrain-rmse:0.231314\n",
      "[110]\teval-rmse:0.231813\ttrain-rmse:0.231252\n",
      "[111]\teval-rmse:0.231791\ttrain-rmse:0.231226\n",
      "[112]\teval-rmse:0.231771\ttrain-rmse:0.231204\n",
      "[113]\teval-rmse:0.231696\ttrain-rmse:0.231127\n",
      "[114]\teval-rmse:0.231659\ttrain-rmse:0.231083\n",
      "[115]\teval-rmse:0.231639\ttrain-rmse:0.231059\n",
      "[116]\teval-rmse:0.231607\ttrain-rmse:0.231023\n",
      "[117]\teval-rmse:0.23157\ttrain-rmse:0.230979\n",
      "[118]\teval-rmse:0.231542\ttrain-rmse:0.230945\n",
      "[119]\teval-rmse:0.231516\ttrain-rmse:0.230911\n",
      "[120]\teval-rmse:0.231506\ttrain-rmse:0.230898\n",
      "[121]\teval-rmse:0.231482\ttrain-rmse:0.230872\n",
      "[122]\teval-rmse:0.231461\ttrain-rmse:0.230843\n",
      "[123]\teval-rmse:0.231429\ttrain-rmse:0.230803\n",
      "[124]\teval-rmse:0.231366\ttrain-rmse:0.230733\n",
      "[125]\teval-rmse:0.231348\ttrain-rmse:0.230708\n",
      "[126]\teval-rmse:0.231314\ttrain-rmse:0.230673\n",
      "[127]\teval-rmse:0.231269\ttrain-rmse:0.230622\n",
      "[128]\teval-rmse:0.231243\ttrain-rmse:0.230591\n",
      "[129]\teval-rmse:0.231225\ttrain-rmse:0.230558\n",
      "[130]\teval-rmse:0.231217\ttrain-rmse:0.230544\n",
      "[131]\teval-rmse:0.231166\ttrain-rmse:0.230487\n",
      "[132]\teval-rmse:0.23113\ttrain-rmse:0.230444\n",
      "[133]\teval-rmse:0.231118\ttrain-rmse:0.230429\n",
      "[134]\teval-rmse:0.231093\ttrain-rmse:0.230395\n",
      "[135]\teval-rmse:0.23108\ttrain-rmse:0.230376\n",
      "[136]\teval-rmse:0.231052\ttrain-rmse:0.230339\n",
      "[137]\teval-rmse:0.231032\ttrain-rmse:0.230315\n",
      "[138]\teval-rmse:0.231021\ttrain-rmse:0.230299\n",
      "[139]\teval-rmse:0.230994\ttrain-rmse:0.230265\n",
      "[140]\teval-rmse:0.230982\ttrain-rmse:0.230248\n",
      "[141]\teval-rmse:0.230964\ttrain-rmse:0.230221\n",
      "[142]\teval-rmse:0.23094\ttrain-rmse:0.230192\n",
      "[143]\teval-rmse:0.230901\ttrain-rmse:0.230148\n",
      "[144]\teval-rmse:0.230857\ttrain-rmse:0.230097\n",
      "[145]\teval-rmse:0.23082\ttrain-rmse:0.230053\n",
      "[146]\teval-rmse:0.230808\ttrain-rmse:0.230032\n",
      "[147]\teval-rmse:0.230784\ttrain-rmse:0.23\n",
      "[148]\teval-rmse:0.230762\ttrain-rmse:0.229977\n",
      "[149]\teval-rmse:0.23075\ttrain-rmse:0.229963\n",
      "[150]\teval-rmse:0.230736\ttrain-rmse:0.229941\n",
      "[151]\teval-rmse:0.230709\ttrain-rmse:0.229907\n",
      "[152]\teval-rmse:0.23063\ttrain-rmse:0.229823\n",
      "[153]\teval-rmse:0.230605\ttrain-rmse:0.229791\n",
      "[154]\teval-rmse:0.230577\ttrain-rmse:0.229759\n",
      "[155]\teval-rmse:0.23054\ttrain-rmse:0.229719\n",
      "[156]\teval-rmse:0.23052\ttrain-rmse:0.229693\n",
      "[157]\teval-rmse:0.230482\ttrain-rmse:0.229651\n",
      "[158]\teval-rmse:0.230472\ttrain-rmse:0.229639\n",
      "[159]\teval-rmse:0.230455\ttrain-rmse:0.229616\n",
      "[160]\teval-rmse:0.230431\ttrain-rmse:0.229588\n",
      "[161]\teval-rmse:0.230411\ttrain-rmse:0.229566\n",
      "[162]\teval-rmse:0.230398\ttrain-rmse:0.229548\n",
      "[163]\teval-rmse:0.230378\ttrain-rmse:0.229523\n",
      "[164]\teval-rmse:0.230351\ttrain-rmse:0.229493\n",
      "[165]\teval-rmse:0.230331\ttrain-rmse:0.229465\n",
      "[166]\teval-rmse:0.230312\ttrain-rmse:0.229446\n",
      "[167]\teval-rmse:0.230277\ttrain-rmse:0.229406\n",
      "[168]\teval-rmse:0.230258\ttrain-rmse:0.229381\n",
      "[169]\teval-rmse:0.230237\ttrain-rmse:0.229355\n",
      "[170]\teval-rmse:0.230218\ttrain-rmse:0.229328\n",
      "[171]\teval-rmse:0.230204\ttrain-rmse:0.229306\n",
      "[172]\teval-rmse:0.230195\ttrain-rmse:0.229291\n",
      "[173]\teval-rmse:0.230181\ttrain-rmse:0.229272\n",
      "[174]\teval-rmse:0.230165\ttrain-rmse:0.22925\n",
      "[175]\teval-rmse:0.230141\ttrain-rmse:0.229217\n",
      "[176]\teval-rmse:0.230132\ttrain-rmse:0.229205\n",
      "[177]\teval-rmse:0.230122\ttrain-rmse:0.229194\n",
      "[178]\teval-rmse:0.230067\ttrain-rmse:0.229136\n",
      "[179]\teval-rmse:0.23003\ttrain-rmse:0.229096\n",
      "[180]\teval-rmse:0.229978\ttrain-rmse:0.229038\n",
      "[181]\teval-rmse:0.229967\ttrain-rmse:0.229024\n",
      "[182]\teval-rmse:0.22996\ttrain-rmse:0.229011\n",
      "[183]\teval-rmse:0.229949\ttrain-rmse:0.228993\n",
      "[184]\teval-rmse:0.229941\ttrain-rmse:0.228979\n",
      "[185]\teval-rmse:0.229907\ttrain-rmse:0.228938\n",
      "[186]\teval-rmse:0.229888\ttrain-rmse:0.228911\n",
      "[187]\teval-rmse:0.229877\ttrain-rmse:0.228895\n",
      "[188]\teval-rmse:0.229866\ttrain-rmse:0.228881\n",
      "[189]\teval-rmse:0.229856\ttrain-rmse:0.228865\n",
      "[190]\teval-rmse:0.229849\ttrain-rmse:0.228852\n",
      "[191]\teval-rmse:0.22984\ttrain-rmse:0.228837\n",
      "[192]\teval-rmse:0.229825\ttrain-rmse:0.228816\n",
      "[193]\teval-rmse:0.229811\ttrain-rmse:0.228797\n",
      "[194]\teval-rmse:0.229806\ttrain-rmse:0.228787\n",
      "[195]\teval-rmse:0.229799\ttrain-rmse:0.228777\n",
      "[196]\teval-rmse:0.229787\ttrain-rmse:0.228759\n",
      "[197]\teval-rmse:0.229772\ttrain-rmse:0.228743\n",
      "[198]\teval-rmse:0.229764\ttrain-rmse:0.22873\n",
      "[199]\teval-rmse:0.22975\ttrain-rmse:0.22871\n",
      "Elapsed time: 13.430112600326538\n"
     ]
    }
   ],
   "source": [
    "start = time.time()\n",
    "bst = xgb.train(param, dtrain, num_round, evallist)\n",
    "end = time.time()\n",
    "\n",
    "print('Elapsed time:', end - start)"
   ]
  },
  {
   "cell_type": "code",
   "execution_count": 35,
   "metadata": {
    "collapsed": true,
    "deletable": true,
    "editable": true
   },
   "outputs": [],
   "source": [
    "bst.dump_model('models/xgboost.model')"
   ]
  },
  {
   "cell_type": "markdown",
   "metadata": {
    "deletable": true,
    "editable": true
   },
   "source": [
    "Aplicando o modelo ao conjunto de testes:"
   ]
  },
  {
   "cell_type": "code",
   "execution_count": 36,
   "metadata": {
    "collapsed": false,
    "deletable": true,
    "editable": true
   },
   "outputs": [],
   "source": [
    "dtest_submit = xgb.DMatrix(X_submit.values)"
   ]
  },
  {
   "cell_type": "code",
   "execution_count": 37,
   "metadata": {
    "collapsed": false,
    "deletable": true,
    "editable": true
   },
   "outputs": [],
   "source": [
    "y_pred = bst.predict(dtest_submit)"
   ]
  },
  {
   "cell_type": "markdown",
   "metadata": {
    "deletable": true,
    "editable": true
   },
   "source": [
    "Gerando arquivo de submissão:"
   ]
  },
  {
   "cell_type": "code",
   "execution_count": 38,
   "metadata": {
    "collapsed": true,
    "deletable": true,
    "editable": true
   },
   "outputs": [],
   "source": [
    "df_submit = pd.DataFrame(np.column_stack((df_test['item_id'].values, y_pred)), columns=['item_id', 'deal_probability'])\n",
    "df_submit.to_csv('submit/xgboost.csv', index=False)"
   ]
  },
  {
   "cell_type": "markdown",
   "metadata": {
    "deletable": true,
    "editable": true
   },
   "source": [
    "## 4.4 Support Vector Machine"
   ]
  },
  {
   "cell_type": "markdown",
   "metadata": {
    "collapsed": true,
    "deletable": true,
    "editable": true
   },
   "source": [
    "Foram realizadas tentativas de utilização da abordagem, porém o treinamento do modelo apresentou muita demora e ao tentar a realização de uma busca de parâmetros. Foi realizada uma tentativa de otimização através da GridSearchCV com apenas poucas variações nos parâmetros. Essa tentativa levou mais de 19 horas e ainda não havia terminado. Por conta dessa demora essa técnica foi deixada de lado para obtermos maior foco em outras menos custosas."
   ]
  },
  {
   "cell_type": "markdown",
   "metadata": {
    "deletable": true,
    "editable": true
   },
   "source": [
    "# 5. Realizando submissões"
   ]
  },
  {
   "cell_type": "markdown",
   "metadata": {
    "deletable": true,
    "editable": true
   },
   "source": [
    "As submissões são avaliadas pelo Root Mean Squared Error (RMSE), definido como:\n",
    "\n"
   ]
  },
  {
   "cell_type": "markdown",
   "metadata": {
    "deletable": true,
    "editable": true
   },
   "source": [
    "![RMSE formula](./rmse.png)"
   ]
  },
  {
   "cell_type": "markdown",
   "metadata": {
    "deletable": true,
    "editable": true
   },
   "source": [
    "onde **y** são os valores previstos, **^y** o valor original (conhecido apenas pela organização da competição) e **n** o número de elementos com previsões.\n",
    "\n",
    "Cada arquivo de submissão deve seguir um formato previsto pelas regras da competição:\n",
    "Ser um arquivo do tipo CSV contendo duas colunas `item_id`, com valores da base de testes da competição e `deal_probability`, as respectivas probabilidades em um intervalo entre 0 e 1 como as previsões geradas."
   ]
  },
  {
   "cell_type": "markdown",
   "metadata": {
    "deletable": true,
    "editable": true
   },
   "source": [
    "Com os arquivos de submissão dos modelos já prontos, foram realizadas submissões à competição no Kaggle. "
   ]
  },
  {
   "cell_type": "markdown",
   "metadata": {
    "deletable": true,
    "editable": true
   },
   "source": [
    "## 5.1 Árvore de Decisão\n"
   ]
  },
  {
   "cell_type": "markdown",
   "metadata": {
    "deletable": true,
    "editable": true
   },
   "source": [
    "Foram realizados alguns testes iniciais com a abordagem de árvore de decisão. Dentre os primeiros testes, o que obteve o menor valor para a raíz do erro médio quadrático foi com os parâmetros `max_depth=13` e `min_samples_split=0.1` obtidos através de uma `grid search`. Esse modelo foi avaliado com RMSE igual à 0.2672, bem longe do valor encontrado localmente, que foi de aproximadamente 0.2331."
   ]
  },
  {
   "cell_type": "markdown",
   "metadata": {
    "deletable": true,
    "editable": true
   },
   "source": [
    "Apenas após diversos experimentos foi constatado que havia um erro na etapa de pré-processamento dos dados da base. Os conjuntos de dados das bases de teste e treino estavam sendo pré-processados separadamente, levando a divergências entre as bases na codificação dos atributos categóricos e textuais. Essa falha foi corrigida e em seguida foi realizada outra submissão com os mesmos parâmetros utilizados anteriormente. Obteve-se RMSE igual à 0.2498."
   ]
  },
  {
   "cell_type": "markdown",
   "metadata": {
    "deletable": true,
    "editable": true
   },
   "source": [
    "As mudanças no pré-processamento dos dados exigiram o treinamento de um novo modelo e possibilidade de novos parâmetros ótimos. Foi realizada uma nova `grid search` para procura de parâmetros mais eficientes, chegando à árvore com `max_depth=15` e `min_samples_split=0.002575`. Com esse novo modelo foi obtido RMSE de 0.2446, sendo esse o melhor resultado até então."
   ]
  },
  {
   "cell_type": "markdown",
   "metadata": {
    "deletable": true,
    "editable": true
   },
   "source": [
    "## 5.2 Gradient Boosting"
   ]
  },
  {
   "cell_type": "markdown",
   "metadata": {
    "deletable": true,
    "editable": true
   },
   "source": [
    "Foram realizados testes iniciais com a abordagem de Gradient Boosting localmente, com os quais foram encontrados bons resultados, porém, logo após o refinamento do modelo, foi constatado o erro no pré-processamento dos dados, o que gerou grande impacto no modelo."
   ]
  },
  {
   "cell_type": "markdown",
   "metadata": {
    "deletable": true,
    "editable": true
   },
   "source": [
    "Após feitas as correções no pré-processamento foi obtido um novo modelo com os dados corretos, utilizando 1500 preditores. Os resultados desse modelo foram realizados novos testes locais, obtendo valores ainda dentro de uma margem esperada. Ao submeter o modelo mais refinado à competição obtiveram-se resultados desapontadores. O RMSE foi igual à 0.3447.\n",
    "\n",
    "Analisando mais profundamente o modelo foi suposto que havia um caso de `overfit` do modelo, levando à ótimos resultados na base local, mas condicionando demais o modelo à ela. Com essa hipótese foram modificados os parâmetros para a construção do modelo. Após algumas tentativas, foram obtidos melhores resultados com um menor número de preditores e em uma submissão de um modelo com 200 preditores foi obitdo RMSE 0.2342, subindo a posição do time no ranking da competição.\n"
   ]
  }
 ],
 "metadata": {
  "anaconda-cloud": {},
  "kernelspec": {
   "display_name": "Python 3",
   "language": "python",
   "name": "python3"
  },
  "language_info": {
   "codemirror_mode": {
    "name": "ipython",
    "version": 3
   },
   "file_extension": ".py",
   "mimetype": "text/x-python",
   "name": "python",
   "nbconvert_exporter": "python",
   "pygments_lexer": "ipython3",
   "version": "3.5.2"
  }
 },
 "nbformat": 4,
 "nbformat_minor": 2
}
