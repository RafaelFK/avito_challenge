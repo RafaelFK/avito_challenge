{
 "cells": [
  {
   "cell_type": "markdown",
   "metadata": {
    "deletable": true,
    "editable": true
   },
   "source": [
    "## Bibliotecas utilizadas"
   ]
  },
  {
   "cell_type": "code",
   "execution_count": 31,
   "metadata": {
    "collapsed": false,
    "deletable": true,
    "editable": true
   },
   "outputs": [],
   "source": [
    "import numpy as np\n",
    "import pandas as pd\n",
    "import matplotlib.pyplot as plt\n",
    "\n",
    "from sklearn.base import BaseEstimator, TransformerMixin # Para definição de transformadores personalizados\n",
    "from sklearn.preprocessing import OneHotEncoder, Imputer, FunctionTransformer, StandardScaler\n",
    "# from category_encoders import OrdinalEncoder\n",
    "from future_encoders import OrdinalEncoder\n",
    "from sklearn.pipeline import Pipeline, FeatureUnion\n",
    "from sklearn.feature_extraction.text import CountVectorizer, TfidfVectorizer\n",
    "from sklearn.decomposition import TruncatedSVD\n",
    "\n",
    "from sklearn.tree import DecisionTreeRegressor\n",
    "from sklearn.svm import LinearSVR\n",
    "from sklearn.ensemble import RandomForestRegressor\n",
    "\n",
    "import xgboost as xgb\n",
    "\n",
    "from sklearn.metrics import mean_squared_error\n",
    "from sklearn.model_selection import cross_val_score, GridSearchCV, train_test_split\n",
    "import time\n",
    "from IPython.display import display\n",
    "\n",
    "from sklearn.externals import joblib\n",
    "import os"
   ]
  },
  {
   "cell_type": "markdown",
   "metadata": {},
   "source": [
    "| Nome                                 | DRE         | Curso |\n",
    "|--------------------------------------|-------------|-------|\n",
    "| Rafael Fontella Katopodis            | 115.021.282 | BCC   |\n",
    "| Estevan Gladstone de Nascimento Melo | 114.043.061 | BCC   |\n",
    "\n",
    "Nome da equipe no Kaggle: "
   ]
  },
  {
   "cell_type": "markdown",
   "metadata": {
    "deletable": true,
    "editable": true
   },
   "source": [
    "# 1. Introdução"
   ]
  },
  {
   "cell_type": "markdown",
   "metadata": {
    "deletable": true,
    "editable": true
   },
   "source": [
    "Avito é a maior página russa de classificados de produtos e serviços, aos moldes do Craigslist. Desde de 2015, a companhia lança desafios anuais no Kaggle, uma plataforma que promove competições envolvendo análise de dados. Nesses desafíos, a Avito disponibiliza parte de seus dados para que competidores extraiam conclusões e construam modelos capazes de aprimorar a plataforma."
   ]
  },
  {
   "cell_type": "markdown",
   "metadata": {
    "deletable": true,
    "editable": true
   },
   "source": [
    "No desafio desse ano, o objetivo proposto é desenvolver um modelo capaz de predizer quão efetivo um anúncio qualquer no site será. Para tal, são disponibilizados em formato tabular, uma série de dados pertinentes aos seus anúncios:"
   ]
  },
  {
   "cell_type": "markdown",
   "metadata": {
    "deletable": true,
    "editable": true
   },
   "source": [
    "- `item_id`: \n",
    "   <br>Identificação do anúncio;<br><br>\n",
    "- `user_id`: \n",
    "   <br>Identificação do vendedor;<br><br>\n",
    "- `region`: \n",
    "   <br>Região em que o produto é oferecido;<br><br>\n",
    "- `city`: \n",
    "   <br>Cidade em que o produto é oferecido;<br><br>\n",
    "- `parent_category_name`: \n",
    "   <br>Categoria do anúncio;<br><br>\n",
    "- `category_name`: \n",
    "   <br>Categoria detalhada do anúncio;<br><br>\n",
    "- `param_1`: \n",
    "   <br>Parâmetro opcional de categorização do anúncio;<br><br>\n",
    "- `param_2`:\n",
    "   <br>Parâmetro opcional de categorização do anúncio;<br><br>\n",
    "- `param_3`: \n",
    "   <br>Parâmetro opcional de categorização do anúncio;<br><br>\n",
    "- `title`:\n",
    "   <br>Título do anúncio;<br><br>\n",
    "- `description`:\n",
    "   <br>Descrição do anúncio;<br><br>\n",
    "- `price`: \n",
    "   <br>Preço do produto;<br><br>\n",
    "- `item_seq_number`: \n",
    "   <br>Número sequencial de anúncio para o usuário;<br><br>\n",
    "- `activation_date`: \n",
    "   <br>Data em que o anúncio foi anunciado;<br><br>\n",
    "- `user_type`:\n",
    "   <br>Tipo de vendedor;<br><br>\n",
    "- `image`:\n",
    "   <br>Identificador da imagem no anúncio;<br><br>\n",
    "- `image_top_1`:\n",
    "   <br>Classificação da imagem;<br><br>\n",
    "- `deal_probability`:\n",
    "   <br>Variável alvo. Essa é a probabilidade que um anúncio tenha vendido algo. Não é binário, pois a empresa não é capaz de verificar todas as vendas.\n"
   ]
  },
  {
   "cell_type": "markdown",
   "metadata": {
    "deletable": true,
    "editable": true
   },
   "source": [
    "Além desses dados, também são disponibilizados dados tabulares adicionais e imagens, mas nós iremos nos focar apenas nos atributos descritos previamente."
   ]
  },
  {
   "cell_type": "markdown",
   "metadata": {
    "deletable": true,
    "editable": true
   },
   "source": [
    "# 2. Carregando e explorando os dados"
   ]
  },
  {
   "cell_type": "markdown",
   "metadata": {
    "deletable": true,
    "editable": true
   },
   "source": [
    "Vamos começar carregando os dados:"
   ]
  },
  {
   "cell_type": "code",
   "execution_count": 32,
   "metadata": {
    "collapsed": true,
    "deletable": true,
    "editable": true
   },
   "outputs": [],
   "source": [
    "# Algumas categorias dos atributos param_X são númericos, mas não queremos que sejam interpretados como tal.\n",
    "# Para convertê-los para strings, mas não converter indevidamentes NaNs,  usamos um mapa de conversão\n",
    "converters = {key: lambda x: np.nan if not x else str(x) for key in ('param_1', 'param_2', 'param_3')}\n",
    "\n",
    "df_train = pd.read_csv(\n",
    "    './data/train.csv',\n",
    "    parse_dates=['activation_date'],\n",
    "    converters=converters                  \n",
    ")"
   ]
  },
  {
   "cell_type": "code",
   "execution_count": 69,
   "metadata": {
    "collapsed": true
   },
   "outputs": [],
   "source": [
    "df_test = pd.read_csv(\n",
    "    './data/test.csv',\n",
    "    parse_dates=['activation_date'],\n",
    "    converters=converters                  \n",
    ")"
   ]
  },
  {
   "cell_type": "code",
   "execution_count": 3,
   "metadata": {
    "collapsed": true,
    "deletable": true,
    "editable": true
   },
   "outputs": [
    {
     "data": {
      "text/html": [
       "<div>\n",
       "<style>\n",
       "    .dataframe thead tr:only-child th {\n",
       "        text-align: right;\n",
       "    }\n",
       "\n",
       "    .dataframe thead th {\n",
       "        text-align: left;\n",
       "    }\n",
       "\n",
       "    .dataframe tbody tr th {\n",
       "        vertical-align: top;\n",
       "    }\n",
       "</style>\n",
       "<table border=\"1\" class=\"dataframe\">\n",
       "  <thead>\n",
       "    <tr style=\"text-align: right;\">\n",
       "      <th></th>\n",
       "      <th>item_id</th>\n",
       "      <th>user_id</th>\n",
       "      <th>region</th>\n",
       "      <th>city</th>\n",
       "      <th>parent_category_name</th>\n",
       "      <th>category_name</th>\n",
       "      <th>param_1</th>\n",
       "      <th>param_2</th>\n",
       "      <th>param_3</th>\n",
       "      <th>title</th>\n",
       "      <th>description</th>\n",
       "      <th>price</th>\n",
       "      <th>item_seq_number</th>\n",
       "      <th>activation_date</th>\n",
       "      <th>user_type</th>\n",
       "      <th>image</th>\n",
       "      <th>image_top_1</th>\n",
       "      <th>deal_probability</th>\n",
       "    </tr>\n",
       "  </thead>\n",
       "  <tbody>\n",
       "    <tr>\n",
       "      <th>0</th>\n",
       "      <td>b912c3c6a6ad</td>\n",
       "      <td>e00f8ff2eaf9</td>\n",
       "      <td>Свердловская область</td>\n",
       "      <td>Екатеринбург</td>\n",
       "      <td>Личные вещи</td>\n",
       "      <td>Товары для детей и игрушки</td>\n",
       "      <td>Постельные принадлежности</td>\n",
       "      <td>NaN</td>\n",
       "      <td>NaN</td>\n",
       "      <td>Кокоби(кокон для сна)</td>\n",
       "      <td>Кокон для сна малыша,пользовались меньше месяц...</td>\n",
       "      <td>400.0</td>\n",
       "      <td>2</td>\n",
       "      <td>2017-03-28</td>\n",
       "      <td>Private</td>\n",
       "      <td>d10c7e016e03247a3bf2d13348fe959fe6f436c1caf64c...</td>\n",
       "      <td>1008.0</td>\n",
       "      <td>0.12789</td>\n",
       "    </tr>\n",
       "    <tr>\n",
       "      <th>1</th>\n",
       "      <td>2dac0150717d</td>\n",
       "      <td>39aeb48f0017</td>\n",
       "      <td>Самарская область</td>\n",
       "      <td>Самара</td>\n",
       "      <td>Для дома и дачи</td>\n",
       "      <td>Мебель и интерьер</td>\n",
       "      <td>Другое</td>\n",
       "      <td>NaN</td>\n",
       "      <td>NaN</td>\n",
       "      <td>Стойка для Одежды</td>\n",
       "      <td>Стойка для одежды, под вешалки. С бутика.</td>\n",
       "      <td>3000.0</td>\n",
       "      <td>19</td>\n",
       "      <td>2017-03-26</td>\n",
       "      <td>Private</td>\n",
       "      <td>79c9392cc51a9c81c6eb91eceb8e552171db39d7142700...</td>\n",
       "      <td>692.0</td>\n",
       "      <td>0.00000</td>\n",
       "    </tr>\n",
       "    <tr>\n",
       "      <th>2</th>\n",
       "      <td>ba83aefab5dc</td>\n",
       "      <td>91e2f88dd6e3</td>\n",
       "      <td>Ростовская область</td>\n",
       "      <td>Ростов-на-Дону</td>\n",
       "      <td>Бытовая электроника</td>\n",
       "      <td>Аудио и видео</td>\n",
       "      <td>Видео, DVD и Blu-ray плееры</td>\n",
       "      <td>NaN</td>\n",
       "      <td>NaN</td>\n",
       "      <td>Philips bluray</td>\n",
       "      <td>В хорошем состоянии, домашний кинотеатр с blu ...</td>\n",
       "      <td>4000.0</td>\n",
       "      <td>9</td>\n",
       "      <td>2017-03-20</td>\n",
       "      <td>Private</td>\n",
       "      <td>b7f250ee3f39e1fedd77c141f273703f4a9be59db4b48a...</td>\n",
       "      <td>3032.0</td>\n",
       "      <td>0.43177</td>\n",
       "    </tr>\n",
       "    <tr>\n",
       "      <th>3</th>\n",
       "      <td>02996f1dd2ea</td>\n",
       "      <td>bf5cccea572d</td>\n",
       "      <td>Татарстан</td>\n",
       "      <td>Набережные Челны</td>\n",
       "      <td>Личные вещи</td>\n",
       "      <td>Товары для детей и игрушки</td>\n",
       "      <td>Автомобильные кресла</td>\n",
       "      <td>NaN</td>\n",
       "      <td>NaN</td>\n",
       "      <td>Автокресло</td>\n",
       "      <td>Продам кресло от0-25кг</td>\n",
       "      <td>2200.0</td>\n",
       "      <td>286</td>\n",
       "      <td>2017-03-25</td>\n",
       "      <td>Company</td>\n",
       "      <td>e6ef97e0725637ea84e3d203e82dadb43ed3cc0a1c8413...</td>\n",
       "      <td>796.0</td>\n",
       "      <td>0.80323</td>\n",
       "    </tr>\n",
       "    <tr>\n",
       "      <th>4</th>\n",
       "      <td>7c90be56d2ab</td>\n",
       "      <td>ef50846afc0b</td>\n",
       "      <td>Волгоградская область</td>\n",
       "      <td>Волгоград</td>\n",
       "      <td>Транспорт</td>\n",
       "      <td>Автомобили</td>\n",
       "      <td>С пробегом</td>\n",
       "      <td>ВАЗ (LADA)</td>\n",
       "      <td>2110</td>\n",
       "      <td>ВАЗ 2110, 2003</td>\n",
       "      <td>Все вопросы по телефону.</td>\n",
       "      <td>40000.0</td>\n",
       "      <td>3</td>\n",
       "      <td>2017-03-16</td>\n",
       "      <td>Private</td>\n",
       "      <td>54a687a3a0fc1d68aed99bdaaf551c5c70b761b16fd0a2...</td>\n",
       "      <td>2264.0</td>\n",
       "      <td>0.20797</td>\n",
       "    </tr>\n",
       "    <tr>\n",
       "      <th>5</th>\n",
       "      <td>51e0962387f7</td>\n",
       "      <td>bbfad0b1ad0a</td>\n",
       "      <td>Татарстан</td>\n",
       "      <td>Чистополь</td>\n",
       "      <td>Личные вещи</td>\n",
       "      <td>Товары для детей и игрушки</td>\n",
       "      <td>Автомобильные кресла</td>\n",
       "      <td>NaN</td>\n",
       "      <td>NaN</td>\n",
       "      <td>Авто люлька</td>\n",
       "      <td>В хорошем состоянии</td>\n",
       "      <td>1300.0</td>\n",
       "      <td>9</td>\n",
       "      <td>2017-03-28</td>\n",
       "      <td>Private</td>\n",
       "      <td>eb6ad1231c59d3dc7e4020e724ffe8e4d302023ddcbb99...</td>\n",
       "      <td>796.0</td>\n",
       "      <td>0.80323</td>\n",
       "    </tr>\n",
       "    <tr>\n",
       "      <th>6</th>\n",
       "      <td>c4f260a2b48a</td>\n",
       "      <td>08f469d2e6f7</td>\n",
       "      <td>Нижегородская область</td>\n",
       "      <td>Нижний Новгород</td>\n",
       "      <td>Для дома и дачи</td>\n",
       "      <td>Ремонт и строительство</td>\n",
       "      <td>Сантехника и сауна</td>\n",
       "      <td>NaN</td>\n",
       "      <td>NaN</td>\n",
       "      <td>Водонагреватель 100 литров нержавейка плоский</td>\n",
       "      <td>Электро водонагреватель накопительный на 100 л...</td>\n",
       "      <td>11000.0</td>\n",
       "      <td>125</td>\n",
       "      <td>2017-03-23</td>\n",
       "      <td>Private</td>\n",
       "      <td>0330f6ac561f5db1fa8226dd5e7e127b5671d44d075a98...</td>\n",
       "      <td>2823.0</td>\n",
       "      <td>0.00000</td>\n",
       "    </tr>\n",
       "    <tr>\n",
       "      <th>7</th>\n",
       "      <td>6b71309d6a8a</td>\n",
       "      <td>fef86baa002c</td>\n",
       "      <td>Пермский край</td>\n",
       "      <td>Пермь</td>\n",
       "      <td>Личные вещи</td>\n",
       "      <td>Одежда, обувь, аксессуары</td>\n",
       "      <td>Женская одежда</td>\n",
       "      <td>Джинсы</td>\n",
       "      <td>26</td>\n",
       "      <td>Бойфренды colins</td>\n",
       "      <td>Бойфренды в хорошем состоянии.</td>\n",
       "      <td>500.0</td>\n",
       "      <td>61</td>\n",
       "      <td>2017-03-25</td>\n",
       "      <td>Private</td>\n",
       "      <td>9bab29a519e81c14f4582024adfebd4f11a4ac71d323a6...</td>\n",
       "      <td>567.0</td>\n",
       "      <td>0.80323</td>\n",
       "    </tr>\n",
       "    <tr>\n",
       "      <th>8</th>\n",
       "      <td>c5b969cb63a2</td>\n",
       "      <td>055825270190</td>\n",
       "      <td>Оренбургская область</td>\n",
       "      <td>Оренбург</td>\n",
       "      <td>Личные вещи</td>\n",
       "      <td>Одежда, обувь, аксессуары</td>\n",
       "      <td>Женская одежда</td>\n",
       "      <td>Платья и юбки</td>\n",
       "      <td>&gt; 50 (XXL)</td>\n",
       "      <td>Платье</td>\n",
       "      <td>54 раз мер очень удобное</td>\n",
       "      <td>500.0</td>\n",
       "      <td>85</td>\n",
       "      <td>2017-03-17</td>\n",
       "      <td>Private</td>\n",
       "      <td>75ce06d1f939a31dfb2af8ac55f08fa998fa336d13ee05...</td>\n",
       "      <td>415.0</td>\n",
       "      <td>0.00000</td>\n",
       "    </tr>\n",
       "    <tr>\n",
       "      <th>9</th>\n",
       "      <td>b1570962e68c</td>\n",
       "      <td>f9e8f831d94c</td>\n",
       "      <td>Нижегородская область</td>\n",
       "      <td>Нижний Новгород</td>\n",
       "      <td>Личные вещи</td>\n",
       "      <td>Детская одежда и обувь</td>\n",
       "      <td>Для девочек</td>\n",
       "      <td>Обувь</td>\n",
       "      <td>25</td>\n",
       "      <td>Полу ботиночки замш натур.Бамбини</td>\n",
       "      <td>По стельке 15.5см мерить приокский район. Цвет...</td>\n",
       "      <td>400.0</td>\n",
       "      <td>136</td>\n",
       "      <td>2017-03-22</td>\n",
       "      <td>Company</td>\n",
       "      <td>54fb8521135fda77a860bfd2fac6bf46867ab7c06796e3...</td>\n",
       "      <td>46.0</td>\n",
       "      <td>0.00000</td>\n",
       "    </tr>\n",
       "  </tbody>\n",
       "</table>\n",
       "</div>"
      ],
      "text/plain": [
       "        item_id       user_id                 region              city  \\\n",
       "0  b912c3c6a6ad  e00f8ff2eaf9   Свердловская область      Екатеринбург   \n",
       "1  2dac0150717d  39aeb48f0017      Самарская область            Самара   \n",
       "2  ba83aefab5dc  91e2f88dd6e3     Ростовская область    Ростов-на-Дону   \n",
       "3  02996f1dd2ea  bf5cccea572d              Татарстан  Набережные Челны   \n",
       "4  7c90be56d2ab  ef50846afc0b  Волгоградская область         Волгоград   \n",
       "5  51e0962387f7  bbfad0b1ad0a              Татарстан         Чистополь   \n",
       "6  c4f260a2b48a  08f469d2e6f7  Нижегородская область   Нижний Новгород   \n",
       "7  6b71309d6a8a  fef86baa002c          Пермский край             Пермь   \n",
       "8  c5b969cb63a2  055825270190   Оренбургская область          Оренбург   \n",
       "9  b1570962e68c  f9e8f831d94c  Нижегородская область   Нижний Новгород   \n",
       "\n",
       "  parent_category_name               category_name  \\\n",
       "0          Личные вещи  Товары для детей и игрушки   \n",
       "1      Для дома и дачи           Мебель и интерьер   \n",
       "2  Бытовая электроника               Аудио и видео   \n",
       "3          Личные вещи  Товары для детей и игрушки   \n",
       "4            Транспорт                  Автомобили   \n",
       "5          Личные вещи  Товары для детей и игрушки   \n",
       "6      Для дома и дачи      Ремонт и строительство   \n",
       "7          Личные вещи   Одежда, обувь, аксессуары   \n",
       "8          Личные вещи   Одежда, обувь, аксессуары   \n",
       "9          Личные вещи      Детская одежда и обувь   \n",
       "\n",
       "                       param_1        param_2     param_3  \\\n",
       "0    Постельные принадлежности            NaN         NaN   \n",
       "1                       Другое            NaN         NaN   \n",
       "2  Видео, DVD и Blu-ray плееры            NaN         NaN   \n",
       "3         Автомобильные кресла            NaN         NaN   \n",
       "4                   С пробегом     ВАЗ (LADA)        2110   \n",
       "5         Автомобильные кресла            NaN         NaN   \n",
       "6           Сантехника и сауна            NaN         NaN   \n",
       "7               Женская одежда         Джинсы          26   \n",
       "8               Женская одежда  Платья и юбки  > 50 (XXL)   \n",
       "9                  Для девочек          Обувь          25   \n",
       "\n",
       "                                           title  \\\n",
       "0                          Кокоби(кокон для сна)   \n",
       "1                              Стойка для Одежды   \n",
       "2                                 Philips bluray   \n",
       "3                                     Автокресло   \n",
       "4                                 ВАЗ 2110, 2003   \n",
       "5                                    Авто люлька   \n",
       "6  Водонагреватель 100 литров нержавейка плоский   \n",
       "7                               Бойфренды colins   \n",
       "8                                         Платье   \n",
       "9              Полу ботиночки замш натур.Бамбини   \n",
       "\n",
       "                                         description    price  \\\n",
       "0  Кокон для сна малыша,пользовались меньше месяц...    400.0   \n",
       "1          Стойка для одежды, под вешалки. С бутика.   3000.0   \n",
       "2  В хорошем состоянии, домашний кинотеатр с blu ...   4000.0   \n",
       "3                             Продам кресло от0-25кг   2200.0   \n",
       "4                           Все вопросы по телефону.  40000.0   \n",
       "5                                В хорошем состоянии   1300.0   \n",
       "6  Электро водонагреватель накопительный на 100 л...  11000.0   \n",
       "7                     Бойфренды в хорошем состоянии.    500.0   \n",
       "8                           54 раз мер очень удобное    500.0   \n",
       "9  По стельке 15.5см мерить приокский район. Цвет...    400.0   \n",
       "\n",
       "   item_seq_number activation_date user_type  \\\n",
       "0                2      2017-03-28   Private   \n",
       "1               19      2017-03-26   Private   \n",
       "2                9      2017-03-20   Private   \n",
       "3              286      2017-03-25   Company   \n",
       "4                3      2017-03-16   Private   \n",
       "5                9      2017-03-28   Private   \n",
       "6              125      2017-03-23   Private   \n",
       "7               61      2017-03-25   Private   \n",
       "8               85      2017-03-17   Private   \n",
       "9              136      2017-03-22   Company   \n",
       "\n",
       "                                               image  image_top_1  \\\n",
       "0  d10c7e016e03247a3bf2d13348fe959fe6f436c1caf64c...       1008.0   \n",
       "1  79c9392cc51a9c81c6eb91eceb8e552171db39d7142700...        692.0   \n",
       "2  b7f250ee3f39e1fedd77c141f273703f4a9be59db4b48a...       3032.0   \n",
       "3  e6ef97e0725637ea84e3d203e82dadb43ed3cc0a1c8413...        796.0   \n",
       "4  54a687a3a0fc1d68aed99bdaaf551c5c70b761b16fd0a2...       2264.0   \n",
       "5  eb6ad1231c59d3dc7e4020e724ffe8e4d302023ddcbb99...        796.0   \n",
       "6  0330f6ac561f5db1fa8226dd5e7e127b5671d44d075a98...       2823.0   \n",
       "7  9bab29a519e81c14f4582024adfebd4f11a4ac71d323a6...        567.0   \n",
       "8  75ce06d1f939a31dfb2af8ac55f08fa998fa336d13ee05...        415.0   \n",
       "9  54fb8521135fda77a860bfd2fac6bf46867ab7c06796e3...         46.0   \n",
       "\n",
       "   deal_probability  \n",
       "0           0.12789  \n",
       "1           0.00000  \n",
       "2           0.43177  \n",
       "3           0.80323  \n",
       "4           0.20797  \n",
       "5           0.80323  \n",
       "6           0.00000  \n",
       "7           0.80323  \n",
       "8           0.00000  \n",
       "9           0.00000  "
      ]
     },
     "execution_count": 3,
     "metadata": {},
     "output_type": "execute_result"
    }
   ],
   "source": [
    "df_train.head(10)"
   ]
  },
  {
   "cell_type": "markdown",
   "metadata": {
    "deletable": true,
    "editable": true
   },
   "source": [
    "Podemos ver que a maior parte dos atributos é não-numérico e categórico. Portanto, serão necessárias transformações para codificá-las. Vamos contar o número de classes por atributo categórico:"
   ]
  },
  {
   "cell_type": "code",
   "execution_count": 3,
   "metadata": {
    "collapsed": false,
    "deletable": true,
    "editable": true
   },
   "outputs": [
    {
     "name": "stdout",
     "output_type": "stream",
     "text": [
      "Regions: 28\n",
      "cities: 1733\n",
      "parent_category_names: 9\n",
      "category_names: 47\n",
      "param_1: 371\n",
      "param_1: 372\n",
      "param_2: 271\n",
      "param_3: 1219\n",
      "activation_dates: 21\n",
      "user_types: 3\n"
     ]
    }
   ],
   "source": [
    "print('Regions:', len(np.unique(df_train['region'])))\n",
    "print('cities:', len(np.unique(df_train['city'])))\n",
    "print('parent_category_names:', len(np.unique(df_train['parent_category_name'])))\n",
    "print('category_names:', len(np.unique(df_train['category_name'])))\n",
    "print('param_1:', len(np.unique(df_train['param_1'][~pd.isnull(df_train['param_1'].values)].values)))\n",
    "print('param_1:', len(np.unique(df_train['param_1'].astype(str).values)))\n",
    "print('param_2:', len(np.unique(df_train['param_2'][~pd.isnull(df_train['param_2'].values)].values)))\n",
    "print('param_3:', len(np.unique(df_train['param_3'][~pd.isnull(df_train['param_3'].values)].values)))\n",
    "print('activation_dates:', len(np.unique(df_train['activation_date'])))\n",
    "print('user_types:', len(np.unique(df_train['user_type'])))"
   ]
  },
  {
   "cell_type": "markdown",
   "metadata": {
    "deletable": true,
    "editable": true
   },
   "source": [
    "Há um grande número de classes. Efetuar One-hot Encoding aumentaria em muito o número de atributos e exigiria dos algoritmos de treino um tempo impraticável para gerarmos modelos. Portanto, teremos de nos limitar a uma codificação ordinal."
   ]
  },
  {
   "cell_type": "markdown",
   "metadata": {
    "deletable": true,
    "editable": true
   },
   "source": [
    "É possível ver também que temos várias instâncias com dados faltantes. Remoção dessas instâncias não parece ser uma opção, pelo grande número que teria de ser eliminado. Teremos de fazer, então, algumas imputações:"
   ]
  },
  {
   "cell_type": "code",
   "execution_count": 4,
   "metadata": {
    "collapsed": false,
    "deletable": true,
    "editable": true,
    "scrolled": true
   },
   "outputs": [
    {
     "name": "stdout",
     "output_type": "stream",
     "text": [
      "<class 'pandas.core.frame.DataFrame'>\n",
      "RangeIndex: 1503424 entries, 0 to 1503423\n",
      "Data columns (total 18 columns):\n",
      "item_id                 1503424 non-null object\n",
      "user_id                 1503424 non-null object\n",
      "region                  1503424 non-null object\n",
      "city                    1503424 non-null object\n",
      "parent_category_name    1503424 non-null object\n",
      "category_name           1503424 non-null object\n",
      "param_1                 1441848 non-null object\n",
      "param_2                 848882 non-null object\n",
      "param_3                 640859 non-null object\n",
      "title                   1503424 non-null object\n",
      "description             1387148 non-null object\n",
      "price                   1418062 non-null float64\n",
      "item_seq_number         1503424 non-null int64\n",
      "activation_date         1503424 non-null datetime64[ns]\n",
      "user_type               1503424 non-null object\n",
      "image                   1390836 non-null object\n",
      "image_top_1             1390836 non-null float64\n",
      "deal_probability        1503424 non-null float64\n",
      "dtypes: datetime64[ns](1), float64(3), int64(1), object(13)\n",
      "memory usage: 206.5+ MB\n"
     ]
    }
   ],
   "source": [
    "df_train.info()"
   ]
  },
  {
   "cell_type": "markdown",
   "metadata": {
    "deletable": true,
    "editable": true
   },
   "source": [
    "Para termos uma ideia de suas distribuições, vamos plotar os atributos numéricos:"
   ]
  },
  {
   "cell_type": "code",
   "execution_count": 10,
   "metadata": {
    "collapsed": false,
    "deletable": true,
    "editable": true
   },
   "outputs": [
    {
     "data": {
      "image/png": "[encoded data removed]",
      "text/plain": [
       "<matplotlib.figure.Figure at 0x213301d2160>"
      ]
     },
     "metadata": {},
     "output_type": "display_data"
    }
   ],
   "source": [
    "df_train.hist(bins=50, figsize=(20, 15))\n",
    "plt.show()"
   ]
  },
  {
   "cell_type": "markdown",
   "metadata": {
    "deletable": true,
    "editable": true
   },
   "source": [
    "Podemos ver a que a maioria das distribuições tendem para valores mais baixos (distribuições chamadas *tail heavy*)."
   ]
  },
  {
   "cell_type": "markdown",
   "metadata": {
    "deletable": true,
    "editable": true
   },
   "source": [
    "Por fim, vamos repartir o dataset em um DataFrame de treino e um vetor da função alvo:"
   ]
  },
  {
   "cell_type": "code",
   "execution_count": 35,
   "metadata": {
    "collapsed": true,
    "deletable": true,
    "editable": true
   },
   "outputs": [],
   "source": [
    "X, y = df_train[df_train.columns.difference(['deal_probability'])].copy(), df_train[['deal_probability']].copy()"
   ]
  },
  {
   "cell_type": "markdown",
   "metadata": {
    "deletable": true,
    "editable": true
   },
   "source": [
    "# 3. Processando dados"
   ]
  },
  {
   "cell_type": "markdown",
   "metadata": {
    "deletable": true,
    "editable": true
   },
   "source": [
    "Com base nessa primeira observação dos dados, podemos ver que algumas transformações terão de ser aplicadas antes de desenvolver qualquer modelo. Alguns atributos não parecem ter grande valor para nosso objetivo, como `user_id`. Além disso, várias entradas têm dados faltantes, o que exigirá uma série de imputações. Ainda, temos uma mistura de dados categóricos e textuais que exigirão diferentes transformações de codificação."
   ]
  },
  {
   "cell_type": "markdown",
   "metadata": {
    "deletable": true,
    "editable": true
   },
   "source": [
    "Iremos fazer uso de Pipelines do Scikit Learn para criar objetos que encadeiam todas as nossas trasformações e podem ser reutilizados mais facilmente nos dados de validação. Inicialmente, vamos definir transformadores auxiliares para selecionar atributos de um DataFrame e construir DataFrames, a serem utilizados pelos transformadores subsequentes:"
   ]
  },
  {
   "cell_type": "code",
   "execution_count": 44,
   "metadata": {
    "collapsed": true,
    "deletable": true,
    "editable": true
   },
   "outputs": [],
   "source": [
    "class DataFrameSelector(BaseEstimator, TransformerMixin):\n",
    "    def __init__(self, attribute_names, as_ndarray=False):\n",
    "        self.attribute_names = attribute_names\n",
    "        self.as_ndarray = as_ndarray\n",
    "        \n",
    "    def fit(self, X, y=None):\n",
    "        return self\n",
    "    \n",
    "    def transform(self, X):\n",
    "        return X[self.attribute_names] if not self.as_ndarray else X[self.attribute_names].values\n",
    "    \n",
    "class ToDataFrameTransformer(BaseEstimator, TransformerMixin):\n",
    "    def __init__(self, columns=None):\n",
    "        self.columns = columns\n",
    "        \n",
    "    def fit(self, X, y=None):\n",
    "        return self\n",
    "    \n",
    "    def transform(self, X):\n",
    "        return pd.DataFrame(X, columns=self.columns)"
   ]
  },
  {
   "cell_type": "markdown",
   "metadata": {
    "deletable": true,
    "editable": true
   },
   "source": [
    "## 3.1. Removendo atributos"
   ]
  },
  {
   "cell_type": "markdown",
   "metadata": {
    "deletable": true,
    "editable": true
   },
   "source": [
    "O dataset tem alguns atributos que não são exatamente úteis para nossa modelagem, como `item_id` e `user_id` Ainda, não faremos qualquer processamento de imagens. então, o atributo de identificadores de imagens, `image` não nos tem serventia.Vamos declarar um seletor inicial, responsável por produzir um DataFrame sem esses atributos. Esse DataFrame servirá de base para nossas transfomações posteriores:"
   ]
  },
  {
   "cell_type": "code",
   "execution_count": 45,
   "metadata": {
    "collapsed": true,
    "deletable": true,
    "editable": true
   },
   "outputs": [],
   "source": [
    "features_selector = DataFrameSelector(X.columns.difference(['item_id', 'user_id', 'image']))"
   ]
  },
  {
   "cell_type": "markdown",
   "metadata": {
    "deletable": true,
    "editable": true
   },
   "source": [
    "Quando aplicado ao dataset, temos:"
   ]
  },
  {
   "cell_type": "code",
   "execution_count": 6,
   "metadata": {
    "collapsed": true,
    "deletable": true,
    "editable": true
   },
   "outputs": [],
   "source": [
    "X_transf = features_selector.transform(X)"
   ]
  },
  {
   "cell_type": "code",
   "execution_count": 7,
   "metadata": {
    "collapsed": false,
    "deletable": true,
    "editable": true
   },
   "outputs": [
    {
     "data": {
      "text/html": [
       "<div>\n",
       "<style>\n",
       "    .dataframe thead tr:only-child th {\n",
       "        text-align: right;\n",
       "    }\n",
       "\n",
       "    .dataframe thead th {\n",
       "        text-align: left;\n",
       "    }\n",
       "\n",
       "    .dataframe tbody tr th {\n",
       "        vertical-align: top;\n",
       "    }\n",
       "</style>\n",
       "<table border=\"1\" class=\"dataframe\">\n",
       "  <thead>\n",
       "    <tr style=\"text-align: right;\">\n",
       "      <th></th>\n",
       "      <th>activation_date</th>\n",
       "      <th>category_name</th>\n",
       "      <th>city</th>\n",
       "      <th>description</th>\n",
       "      <th>image_top_1</th>\n",
       "      <th>item_seq_number</th>\n",
       "      <th>param_1</th>\n",
       "      <th>param_2</th>\n",
       "      <th>param_3</th>\n",
       "      <th>parent_category_name</th>\n",
       "      <th>price</th>\n",
       "      <th>region</th>\n",
       "      <th>title</th>\n",
       "      <th>user_type</th>\n",
       "    </tr>\n",
       "  </thead>\n",
       "  <tbody>\n",
       "    <tr>\n",
       "      <th>0</th>\n",
       "      <td>2017-03-28</td>\n",
       "      <td>Товары для детей и игрушки</td>\n",
       "      <td>Екатеринбург</td>\n",
       "      <td>Кокон для сна малыша,пользовались меньше месяц...</td>\n",
       "      <td>1008.0</td>\n",
       "      <td>2</td>\n",
       "      <td>Постельные принадлежности</td>\n",
       "      <td>NaN</td>\n",
       "      <td>NaN</td>\n",
       "      <td>Личные вещи</td>\n",
       "      <td>400.0</td>\n",
       "      <td>Свердловская область</td>\n",
       "      <td>Кокоби(кокон для сна)</td>\n",
       "      <td>Private</td>\n",
       "    </tr>\n",
       "    <tr>\n",
       "      <th>1</th>\n",
       "      <td>2017-03-26</td>\n",
       "      <td>Мебель и интерьер</td>\n",
       "      <td>Самара</td>\n",
       "      <td>Стойка для одежды, под вешалки. С бутика.</td>\n",
       "      <td>692.0</td>\n",
       "      <td>19</td>\n",
       "      <td>Другое</td>\n",
       "      <td>NaN</td>\n",
       "      <td>NaN</td>\n",
       "      <td>Для дома и дачи</td>\n",
       "      <td>3000.0</td>\n",
       "      <td>Самарская область</td>\n",
       "      <td>Стойка для Одежды</td>\n",
       "      <td>Private</td>\n",
       "    </tr>\n",
       "    <tr>\n",
       "      <th>2</th>\n",
       "      <td>2017-03-20</td>\n",
       "      <td>Аудио и видео</td>\n",
       "      <td>Ростов-на-Дону</td>\n",
       "      <td>В хорошем состоянии, домашний кинотеатр с blu ...</td>\n",
       "      <td>3032.0</td>\n",
       "      <td>9</td>\n",
       "      <td>Видео, DVD и Blu-ray плееры</td>\n",
       "      <td>NaN</td>\n",
       "      <td>NaN</td>\n",
       "      <td>Бытовая электроника</td>\n",
       "      <td>4000.0</td>\n",
       "      <td>Ростовская область</td>\n",
       "      <td>Philips bluray</td>\n",
       "      <td>Private</td>\n",
       "    </tr>\n",
       "    <tr>\n",
       "      <th>3</th>\n",
       "      <td>2017-03-25</td>\n",
       "      <td>Товары для детей и игрушки</td>\n",
       "      <td>Набережные Челны</td>\n",
       "      <td>Продам кресло от0-25кг</td>\n",
       "      <td>796.0</td>\n",
       "      <td>286</td>\n",
       "      <td>Автомобильные кресла</td>\n",
       "      <td>NaN</td>\n",
       "      <td>NaN</td>\n",
       "      <td>Личные вещи</td>\n",
       "      <td>2200.0</td>\n",
       "      <td>Татарстан</td>\n",
       "      <td>Автокресло</td>\n",
       "      <td>Company</td>\n",
       "    </tr>\n",
       "    <tr>\n",
       "      <th>4</th>\n",
       "      <td>2017-03-16</td>\n",
       "      <td>Автомобили</td>\n",
       "      <td>Волгоград</td>\n",
       "      <td>Все вопросы по телефону.</td>\n",
       "      <td>2264.0</td>\n",
       "      <td>3</td>\n",
       "      <td>С пробегом</td>\n",
       "      <td>ВАЗ (LADA)</td>\n",
       "      <td>2110</td>\n",
       "      <td>Транспорт</td>\n",
       "      <td>40000.0</td>\n",
       "      <td>Волгоградская область</td>\n",
       "      <td>ВАЗ 2110, 2003</td>\n",
       "      <td>Private</td>\n",
       "    </tr>\n",
       "  </tbody>\n",
       "</table>\n",
       "</div>"
      ],
      "text/plain": [
       "  activation_date               category_name              city  \\\n",
       "0      2017-03-28  Товары для детей и игрушки      Екатеринбург   \n",
       "1      2017-03-26           Мебель и интерьер            Самара   \n",
       "2      2017-03-20               Аудио и видео    Ростов-на-Дону   \n",
       "3      2017-03-25  Товары для детей и игрушки  Набережные Челны   \n",
       "4      2017-03-16                  Автомобили         Волгоград   \n",
       "\n",
       "                                         description  image_top_1  \\\n",
       "0  Кокон для сна малыша,пользовались меньше месяц...       1008.0   \n",
       "1          Стойка для одежды, под вешалки. С бутика.        692.0   \n",
       "2  В хорошем состоянии, домашний кинотеатр с blu ...       3032.0   \n",
       "3                             Продам кресло от0-25кг        796.0   \n",
       "4                           Все вопросы по телефону.       2264.0   \n",
       "\n",
       "   item_seq_number                      param_1     param_2 param_3  \\\n",
       "0                2    Постельные принадлежности         NaN     NaN   \n",
       "1               19                       Другое         NaN     NaN   \n",
       "2                9  Видео, DVD и Blu-ray плееры         NaN     NaN   \n",
       "3              286         Автомобильные кресла         NaN     NaN   \n",
       "4                3                   С пробегом  ВАЗ (LADA)    2110   \n",
       "\n",
       "  parent_category_name    price                 region                  title  \\\n",
       "0          Личные вещи    400.0   Свердловская область  Кокоби(кокон для сна)   \n",
       "1      Для дома и дачи   3000.0      Самарская область      Стойка для Одежды   \n",
       "2  Бытовая электроника   4000.0     Ростовская область         Philips bluray   \n",
       "3          Личные вещи   2200.0              Татарстан             Автокресло   \n",
       "4            Транспорт  40000.0  Волгоградская область         ВАЗ 2110, 2003   \n",
       "\n",
       "  user_type  \n",
       "0   Private  \n",
       "1   Private  \n",
       "2   Private  \n",
       "3   Company  \n",
       "4   Private  "
      ]
     },
     "execution_count": 7,
     "metadata": {},
     "output_type": "execute_result"
    }
   ],
   "source": [
    "X_transf.head()"
   ]
  },
  {
   "cell_type": "markdown",
   "metadata": {
    "deletable": true,
    "editable": true
   },
   "source": [
    "## 3.2. Tratando datas"
   ]
  },
  {
   "cell_type": "markdown",
   "metadata": {
    "deletable": true,
    "editable": true
   },
   "source": [
    "O atributo `activation_date`, em sua forma atual, não é muito útil. Identificar variações na probabilidade de sucesso de venda em relação à uma data específica dificilmente irá ser muito aplicável a dados desconhecidos. Por outro lado, se repartirmos esse atributo em vertentes mais gerais, possivelmente consiguiremos incorporar conhecimento mais geral em nossos modelos. Com isso em mente, criaremos três novos atributos a partir de `activation_date`: `month`, `day` e `weekday`:  "
   ]
  },
  {
   "cell_type": "code",
   "execution_count": 46,
   "metadata": {
    "collapsed": true,
    "deletable": true,
    "editable": true
   },
   "outputs": [],
   "source": [
    "# Essa transformação espera uma única série de timestamps e retorna um DataFrame\n",
    "class TimestampTransformer(BaseEstimator, TransformerMixin):\n",
    "    def fit(self, X, y=None):\n",
    "        return self\n",
    "    \n",
    "    def transform(self, X):\n",
    "        return pd.DataFrame(\n",
    "            np.c_[\n",
    "                X.dt.month,\n",
    "                X.dt.day,\n",
    "                X.dt.weekday\n",
    "            ],\n",
    "            columns=['month', 'day', 'weekday']\n",
    "        )"
   ]
  },
  {
   "cell_type": "markdown",
   "metadata": {
    "deletable": true,
    "editable": true
   },
   "source": [
    "Quando aplicamos esse transformador ao dataset, obtemos:"
   ]
  },
  {
   "cell_type": "code",
   "execution_count": 47,
   "metadata": {
    "collapsed": true,
    "deletable": true,
    "editable": true
   },
   "outputs": [],
   "source": [
    "process_date = Pipeline([\n",
    "    ('date_series_selector', DataFrameSelector('activation_date')),\n",
    "    ('date_features_transformer', TimestampTransformer())\n",
    "])\n",
    "\n",
    "X_test = process_date.transform(X)"
   ]
  },
  {
   "cell_type": "code",
   "execution_count": 9,
   "metadata": {
    "collapsed": false,
    "deletable": true,
    "editable": true
   },
   "outputs": [
    {
     "data": {
      "text/html": [
       "<div>\n",
       "<style>\n",
       "    .dataframe thead tr:only-child th {\n",
       "        text-align: right;\n",
       "    }\n",
       "\n",
       "    .dataframe thead th {\n",
       "        text-align: left;\n",
       "    }\n",
       "\n",
       "    .dataframe tbody tr th {\n",
       "        vertical-align: top;\n",
       "    }\n",
       "</style>\n",
       "<table border=\"1\" class=\"dataframe\">\n",
       "  <thead>\n",
       "    <tr style=\"text-align: right;\">\n",
       "      <th></th>\n",
       "      <th>month</th>\n",
       "      <th>day</th>\n",
       "      <th>weekday</th>\n",
       "    </tr>\n",
       "  </thead>\n",
       "  <tbody>\n",
       "    <tr>\n",
       "      <th>0</th>\n",
       "      <td>3</td>\n",
       "      <td>28</td>\n",
       "      <td>1</td>\n",
       "    </tr>\n",
       "    <tr>\n",
       "      <th>1</th>\n",
       "      <td>3</td>\n",
       "      <td>26</td>\n",
       "      <td>6</td>\n",
       "    </tr>\n",
       "    <tr>\n",
       "      <th>2</th>\n",
       "      <td>3</td>\n",
       "      <td>20</td>\n",
       "      <td>0</td>\n",
       "    </tr>\n",
       "    <tr>\n",
       "      <th>3</th>\n",
       "      <td>3</td>\n",
       "      <td>25</td>\n",
       "      <td>5</td>\n",
       "    </tr>\n",
       "    <tr>\n",
       "      <th>4</th>\n",
       "      <td>3</td>\n",
       "      <td>16</td>\n",
       "      <td>3</td>\n",
       "    </tr>\n",
       "  </tbody>\n",
       "</table>\n",
       "</div>"
      ],
      "text/plain": [
       "   month  day  weekday\n",
       "0      3   28        1\n",
       "1      3   26        6\n",
       "2      3   20        0\n",
       "3      3   25        5\n",
       "4      3   16        3"
      ]
     },
     "execution_count": 9,
     "metadata": {},
     "output_type": "execute_result"
    }
   ],
   "source": [
    "X_test.head()"
   ]
  },
  {
   "cell_type": "markdown",
   "metadata": {
    "deletable": true,
    "editable": true
   },
   "source": [
    "## 3.2. Imputando dados faltantes"
   ]
  },
  {
   "cell_type": "markdown",
   "metadata": {
    "deletable": true,
    "editable": true
   },
   "source": [
    "Para o atributo de preço, vamos imputar a média dos valores conhecidos:"
   ]
  },
  {
   "cell_type": "code",
   "execution_count": 48,
   "metadata": {
    "collapsed": true,
    "deletable": true,
    "editable": true
   },
   "outputs": [],
   "source": [
    "price_imputer = Imputer(strategy='mean')\n",
    "\n",
    "process_price = Pipeline([\n",
    "    ('price_selector', DataFrameSelector(['price'])),\n",
    "    ('price_imputer', price_imputer),\n",
    "    ('to_data_frame', ToDataFrameTransformer(['price']))\n",
    "])"
   ]
  },
  {
   "cell_type": "markdown",
   "metadata": {
    "deletable": true,
    "editable": true
   },
   "source": [
    "Quando aplicado ao dataset, obtemos:"
   ]
  },
  {
   "cell_type": "code",
   "execution_count": 12,
   "metadata": {
    "collapsed": true,
    "deletable": true,
    "editable": true
   },
   "outputs": [],
   "source": [
    "X_price = process_price.fit_transform(X)"
   ]
  },
  {
   "cell_type": "code",
   "execution_count": 13,
   "metadata": {
    "collapsed": false,
    "deletable": true,
    "editable": true
   },
   "outputs": [
    {
     "data": {
      "text/html": [
       "<div>\n",
       "<style>\n",
       "    .dataframe thead tr:only-child th {\n",
       "        text-align: right;\n",
       "    }\n",
       "\n",
       "    .dataframe thead th {\n",
       "        text-align: left;\n",
       "    }\n",
       "\n",
       "    .dataframe tbody tr th {\n",
       "        vertical-align: top;\n",
       "    }\n",
       "</style>\n",
       "<table border=\"1\" class=\"dataframe\">\n",
       "  <thead>\n",
       "    <tr style=\"text-align: right;\">\n",
       "      <th></th>\n",
       "      <th>price</th>\n",
       "    </tr>\n",
       "  </thead>\n",
       "  <tbody>\n",
       "    <tr>\n",
       "      <th>0</th>\n",
       "      <td>400.0</td>\n",
       "    </tr>\n",
       "    <tr>\n",
       "      <th>1</th>\n",
       "      <td>3000.0</td>\n",
       "    </tr>\n",
       "    <tr>\n",
       "      <th>2</th>\n",
       "      <td>4000.0</td>\n",
       "    </tr>\n",
       "    <tr>\n",
       "      <th>3</th>\n",
       "      <td>2200.0</td>\n",
       "    </tr>\n",
       "    <tr>\n",
       "      <th>4</th>\n",
       "      <td>40000.0</td>\n",
       "    </tr>\n",
       "  </tbody>\n",
       "</table>\n",
       "</div>"
      ],
      "text/plain": [
       "     price\n",
       "0    400.0\n",
       "1   3000.0\n",
       "2   4000.0\n",
       "3   2200.0\n",
       "4  40000.0"
      ]
     },
     "execution_count": 13,
     "metadata": {},
     "output_type": "execute_result"
    }
   ],
   "source": [
    "X_price.head()"
   ]
  },
  {
   "cell_type": "markdown",
   "metadata": {
    "deletable": true,
    "editable": true
   },
   "source": [
    "Para o atributo `image_top_1` vamos imputar o valor mais frequente:"
   ]
  },
  {
   "cell_type": "code",
   "execution_count": 49,
   "metadata": {
    "collapsed": true,
    "deletable": true,
    "editable": true
   },
   "outputs": [],
   "source": [
    "image_imputer = Imputer(strategy='most_frequent')\n",
    "\n",
    "process_image_class = Pipeline([\n",
    "    ('image_selector', DataFrameSelector(['image_top_1'])),\n",
    "    ('image_imputer', image_imputer),\n",
    "    ('to_data_frame', ToDataFrameTransformer(['image_top_1']))\n",
    "])"
   ]
  },
  {
   "cell_type": "code",
   "execution_count": 12,
   "metadata": {
    "collapsed": true,
    "deletable": true,
    "editable": true
   },
   "outputs": [],
   "source": [
    "X_image = process_image_class.fit_transform(X)"
   ]
  },
  {
   "cell_type": "code",
   "execution_count": 16,
   "metadata": {
    "collapsed": false,
    "deletable": true,
    "editable": true
   },
   "outputs": [
    {
     "data": {
      "text/html": [
       "<div>\n",
       "<style>\n",
       "    .dataframe thead tr:only-child th {\n",
       "        text-align: right;\n",
       "    }\n",
       "\n",
       "    .dataframe thead th {\n",
       "        text-align: left;\n",
       "    }\n",
       "\n",
       "    .dataframe tbody tr th {\n",
       "        vertical-align: top;\n",
       "    }\n",
       "</style>\n",
       "<table border=\"1\" class=\"dataframe\">\n",
       "  <thead>\n",
       "    <tr style=\"text-align: right;\">\n",
       "      <th></th>\n",
       "      <th>image_top_1</th>\n",
       "    </tr>\n",
       "  </thead>\n",
       "  <tbody>\n",
       "    <tr>\n",
       "      <th>0</th>\n",
       "      <td>1008.0</td>\n",
       "    </tr>\n",
       "    <tr>\n",
       "      <th>1</th>\n",
       "      <td>692.0</td>\n",
       "    </tr>\n",
       "    <tr>\n",
       "      <th>2</th>\n",
       "      <td>3032.0</td>\n",
       "    </tr>\n",
       "    <tr>\n",
       "      <th>3</th>\n",
       "      <td>796.0</td>\n",
       "    </tr>\n",
       "    <tr>\n",
       "      <th>4</th>\n",
       "      <td>2264.0</td>\n",
       "    </tr>\n",
       "  </tbody>\n",
       "</table>\n",
       "</div>"
      ],
      "text/plain": [
       "   image_top_1\n",
       "0       1008.0\n",
       "1        692.0\n",
       "2       3032.0\n",
       "3        796.0\n",
       "4       2264.0"
      ]
     },
     "execution_count": 16,
     "metadata": {},
     "output_type": "execute_result"
    }
   ],
   "source": [
    "X_image.head()"
   ]
  },
  {
   "cell_type": "markdown",
   "metadata": {
    "deletable": true,
    "editable": true
   },
   "source": [
    "Para atributos categóricos, vamos também adotar a estratégia de imputar a classe mais frequente para cada coluna. No entanto, o imputador do Scikit Learn não consegue lidar com colunas não numéricas. Vamos então declarar um imputador personalizado para essa operação:"
   ]
  },
  {
   "cell_type": "code",
   "execution_count": 50,
   "metadata": {
    "collapsed": true,
    "deletable": true,
    "editable": true
   },
   "outputs": [],
   "source": [
    "class CategoricalImputer(BaseEstimator, TransformerMixin):\n",
    "    def fit(self, X, y=None):\n",
    "        self.most_frequent = pd.Series(X.values.ravel()).value_counts().index[0]\n",
    "        return self\n",
    "        \n",
    "    def transform(self, X):\n",
    "        return pd.DataFrame(pd.Series(X.values.ravel()).fillna(self.most_frequent))"
   ]
  },
  {
   "cell_type": "code",
   "execution_count": 51,
   "metadata": {
    "collapsed": true,
    "deletable": true,
    "editable": true
   },
   "outputs": [],
   "source": [
    "impute_cat = Pipeline([\n",
    "    ('cat_imputer', FeatureUnion([\n",
    "        ('region_imputer', Pipeline([\n",
    "            ('region_selector', DataFrameSelector('region')),\n",
    "            ('region_imputer', CategoricalImputer())\n",
    "        ])),\n",
    "        ('city_imputer', Pipeline([\n",
    "            ('city_selector', DataFrameSelector('city')),\n",
    "            ('city_imputer', CategoricalImputer())\n",
    "        ])),\n",
    "        ('parent_category_name_imputer', Pipeline([\n",
    "            ('parent_category_name_selector', DataFrameSelector('parent_category_name')),\n",
    "            ('parent_category_name_imputer', CategoricalImputer())\n",
    "        ])),\n",
    "        ('category_name_imputer', Pipeline([\n",
    "            ('category_name_selector', DataFrameSelector('category_name')),\n",
    "            ('category_name_imputer', CategoricalImputer())\n",
    "        ])),\n",
    "        ('param_1_imputer', Pipeline([\n",
    "            ('param_1_selector', DataFrameSelector('param_1')),\n",
    "            ('param_1_imputer', CategoricalImputer())\n",
    "        ])),\n",
    "        ('param_2_imputer', Pipeline([\n",
    "            ('param_2_selector', DataFrameSelector('param_2')),\n",
    "            ('param_2_imputer', CategoricalImputer())\n",
    "        ])),\n",
    "        ('param_3_imputer', Pipeline([\n",
    "            ('param_3_selector', DataFrameSelector('param_3')),\n",
    "            ('param_3_imputer', CategoricalImputer())\n",
    "        ])),\n",
    "        ('user_type_imputer', Pipeline([\n",
    "            ('user_type_selector', DataFrameSelector('user_type')),\n",
    "            ('user_type_imputer', CategoricalImputer())\n",
    "        ])),   \n",
    "    ])),\n",
    "    ('to_data_frame', ToDataFrameTransformer([\n",
    "        'region',\n",
    "        'city',\n",
    "        'parent_category_name',\n",
    "        'category_name',\n",
    "        'param_1',\n",
    "        'param_2',\n",
    "        'param_3',\n",
    "        'user_type'\n",
    "    ]))\n",
    "])"
   ]
  },
  {
   "cell_type": "code",
   "execution_count": 19,
   "metadata": {
    "collapsed": true,
    "deletable": true,
    "editable": true
   },
   "outputs": [],
   "source": [
    "X = impute_cat.fit_transform(X)"
   ]
  },
  {
   "cell_type": "code",
   "execution_count": 20,
   "metadata": {
    "collapsed": false,
    "deletable": true,
    "editable": true
   },
   "outputs": [
    {
     "data": {
      "text/html": [
       "<div>\n",
       "<style>\n",
       "    .dataframe thead tr:only-child th {\n",
       "        text-align: right;\n",
       "    }\n",
       "\n",
       "    .dataframe thead th {\n",
       "        text-align: left;\n",
       "    }\n",
       "\n",
       "    .dataframe tbody tr th {\n",
       "        vertical-align: top;\n",
       "    }\n",
       "</style>\n",
       "<table border=\"1\" class=\"dataframe\">\n",
       "  <thead>\n",
       "    <tr style=\"text-align: right;\">\n",
       "      <th></th>\n",
       "      <th>region</th>\n",
       "      <th>city</th>\n",
       "      <th>parent_category_name</th>\n",
       "      <th>category_name</th>\n",
       "      <th>param_1</th>\n",
       "      <th>param_2</th>\n",
       "      <th>param_3</th>\n",
       "      <th>user_type</th>\n",
       "    </tr>\n",
       "  </thead>\n",
       "  <tbody>\n",
       "    <tr>\n",
       "      <th>0</th>\n",
       "      <td>Свердловская область</td>\n",
       "      <td>Екатеринбург</td>\n",
       "      <td>Личные вещи</td>\n",
       "      <td>Товары для детей и игрушки</td>\n",
       "      <td>Постельные принадлежности</td>\n",
       "      <td>Обувь</td>\n",
       "      <td>Вторичка</td>\n",
       "      <td>Private</td>\n",
       "    </tr>\n",
       "    <tr>\n",
       "      <th>1</th>\n",
       "      <td>Самарская область</td>\n",
       "      <td>Самара</td>\n",
       "      <td>Для дома и дачи</td>\n",
       "      <td>Мебель и интерьер</td>\n",
       "      <td>Другое</td>\n",
       "      <td>Обувь</td>\n",
       "      <td>Вторичка</td>\n",
       "      <td>Private</td>\n",
       "    </tr>\n",
       "    <tr>\n",
       "      <th>2</th>\n",
       "      <td>Ростовская область</td>\n",
       "      <td>Ростов-на-Дону</td>\n",
       "      <td>Бытовая электроника</td>\n",
       "      <td>Аудио и видео</td>\n",
       "      <td>Видео, DVD и Blu-ray плееры</td>\n",
       "      <td>Обувь</td>\n",
       "      <td>Вторичка</td>\n",
       "      <td>Private</td>\n",
       "    </tr>\n",
       "    <tr>\n",
       "      <th>3</th>\n",
       "      <td>Татарстан</td>\n",
       "      <td>Набережные Челны</td>\n",
       "      <td>Личные вещи</td>\n",
       "      <td>Товары для детей и игрушки</td>\n",
       "      <td>Автомобильные кресла</td>\n",
       "      <td>Обувь</td>\n",
       "      <td>Вторичка</td>\n",
       "      <td>Company</td>\n",
       "    </tr>\n",
       "    <tr>\n",
       "      <th>4</th>\n",
       "      <td>Волгоградская область</td>\n",
       "      <td>Волгоград</td>\n",
       "      <td>Транспорт</td>\n",
       "      <td>Автомобили</td>\n",
       "      <td>С пробегом</td>\n",
       "      <td>ВАЗ (LADA)</td>\n",
       "      <td>2110</td>\n",
       "      <td>Private</td>\n",
       "    </tr>\n",
       "  </tbody>\n",
       "</table>\n",
       "</div>"
      ],
      "text/plain": [
       "                  region              city parent_category_name  \\\n",
       "0   Свердловская область      Екатеринбург          Личные вещи   \n",
       "1      Самарская область            Самара      Для дома и дачи   \n",
       "2     Ростовская область    Ростов-на-Дону  Бытовая электроника   \n",
       "3              Татарстан  Набережные Челны          Личные вещи   \n",
       "4  Волгоградская область         Волгоград            Транспорт   \n",
       "\n",
       "                category_name                      param_1     param_2  \\\n",
       "0  Товары для детей и игрушки    Постельные принадлежности       Обувь   \n",
       "1           Мебель и интерьер                       Другое       Обувь   \n",
       "2               Аудио и видео  Видео, DVD и Blu-ray плееры       Обувь   \n",
       "3  Товары для детей и игрушки         Автомобильные кресла       Обувь   \n",
       "4                  Автомобили                   С пробегом  ВАЗ (LADA)   \n",
       "\n",
       "    param_3 user_type  \n",
       "0  Вторичка   Private  \n",
       "1  Вторичка   Private  \n",
       "2  Вторичка   Private  \n",
       "3  Вторичка   Company  \n",
       "4      2110   Private  "
      ]
     },
     "execution_count": 20,
     "metadata": {},
     "output_type": "execute_result"
    }
   ],
   "source": [
    "X.head()"
   ]
  },
  {
   "cell_type": "markdown",
   "metadata": {
    "deletable": true,
    "editable": true
   },
   "source": [
    "Finalmente, iremos preencher as células vazias da coluna *description* com strings vazias:"
   ]
  },
  {
   "cell_type": "code",
   "execution_count": 52,
   "metadata": {
    "collapsed": true,
    "deletable": true,
    "editable": true
   },
   "outputs": [],
   "source": [
    "class TextImputer(BaseEstimator, TransformerMixin):\n",
    "    def fit(self, X, y=None):\n",
    "        return self\n",
    "    \n",
    "    def transform(self, X):\n",
    "        return pd.DataFrame(X.fillna(''))"
   ]
  },
  {
   "cell_type": "code",
   "execution_count": 53,
   "metadata": {
    "collapsed": true,
    "deletable": true,
    "editable": true
   },
   "outputs": [],
   "source": [
    "process_description = Pipeline([\n",
    "    ('description_selector', DataFrameSelector('description')),\n",
    "    ('imputer', TextImputer())\n",
    "])"
   ]
  },
  {
   "cell_type": "code",
   "execution_count": 23,
   "metadata": {
    "collapsed": true,
    "deletable": true,
    "editable": true
   },
   "outputs": [],
   "source": [
    "X = process_description.transform(X)"
   ]
  },
  {
   "cell_type": "code",
   "execution_count": 24,
   "metadata": {
    "collapsed": false,
    "deletable": true,
    "editable": true
   },
   "outputs": [
    {
     "data": {
      "text/html": [
       "<div>\n",
       "<style>\n",
       "    .dataframe thead tr:only-child th {\n",
       "        text-align: right;\n",
       "    }\n",
       "\n",
       "    .dataframe thead th {\n",
       "        text-align: left;\n",
       "    }\n",
       "\n",
       "    .dataframe tbody tr th {\n",
       "        vertical-align: top;\n",
       "    }\n",
       "</style>\n",
       "<table border=\"1\" class=\"dataframe\">\n",
       "  <thead>\n",
       "    <tr style=\"text-align: right;\">\n",
       "      <th></th>\n",
       "      <th>description</th>\n",
       "    </tr>\n",
       "  </thead>\n",
       "  <tbody>\n",
       "    <tr>\n",
       "      <th>0</th>\n",
       "      <td>Кокон для сна малыша,пользовались меньше месяц...</td>\n",
       "    </tr>\n",
       "    <tr>\n",
       "      <th>1</th>\n",
       "      <td>Стойка для одежды, под вешалки. С бутика.</td>\n",
       "    </tr>\n",
       "    <tr>\n",
       "      <th>2</th>\n",
       "      <td>В хорошем состоянии, домашний кинотеатр с blu ...</td>\n",
       "    </tr>\n",
       "    <tr>\n",
       "      <th>3</th>\n",
       "      <td>Продам кресло от0-25кг</td>\n",
       "    </tr>\n",
       "    <tr>\n",
       "      <th>4</th>\n",
       "      <td>Все вопросы по телефону.</td>\n",
       "    </tr>\n",
       "  </tbody>\n",
       "</table>\n",
       "</div>"
      ],
      "text/plain": [
       "                                         description\n",
       "0  Кокон для сна малыша,пользовались меньше месяц...\n",
       "1          Стойка для одежды, под вешалки. С бутика.\n",
       "2  В хорошем состоянии, домашний кинотеатр с blu ...\n",
       "3                             Продам кресло от0-25кг\n",
       "4                           Все вопросы по телефону."
      ]
     },
     "execution_count": 24,
     "metadata": {},
     "output_type": "execute_result"
    }
   ],
   "source": [
    "X.head()"
   ]
  },
  {
   "cell_type": "markdown",
   "metadata": {
    "deletable": true,
    "editable": true
   },
   "source": [
    "## 3.3. Codificando atributos categóricos"
   ]
  },
  {
   "cell_type": "markdown",
   "metadata": {
    "deletable": true,
    "editable": true
   },
   "source": [
    "Por limitação do Scikit learn, não podemos treinar modelos com matrizes de treino com dados não numéricos. Portanto, teremos que codificar numericamente os atributos categóricos, associando a cada categoria, um número."
   ]
  },
  {
   "cell_type": "code",
   "execution_count": 54,
   "metadata": {
    "collapsed": true,
    "deletable": true,
    "editable": true
   },
   "outputs": [],
   "source": [
    "encode_cat = Pipeline([\n",
    "    ('cat_selector', DataFrameSelector([\n",
    "        'region',\n",
    "        'city',\n",
    "        'parent_category_name',\n",
    "        'category_name',\n",
    "        'param_1',\n",
    "        'param_2',\n",
    "        'param_3',\n",
    "        'user_type'\n",
    "    ])),\n",
    "    ('ordinal_encoder', OrdinalEncoder(dtype=np.int64)),\n",
    "    ('to_data_frame', ToDataFrameTransformer([\n",
    "        'region',\n",
    "        'city',\n",
    "        'parent_category_name',\n",
    "        'category_name',\n",
    "        'param_1',\n",
    "        'param_2',\n",
    "        'param_3',\n",
    "        'user_type'\n",
    "    ]))\n",
    "])"
   ]
  },
  {
   "cell_type": "code",
   "execution_count": 26,
   "metadata": {
    "collapsed": false,
    "deletable": true,
    "editable": true
   },
   "outputs": [
    {
     "name": "stdout",
     "output_type": "stream",
     "text": [
      "Elapsed time: 33.73176097869873\n"
     ]
    }
   ],
   "source": [
    "start = time.time()\n",
    "\n",
    "X_transf = Pipeline([('impute', impute_cat), ('encode', encode_cat)]).fit_transform(X)\n",
    "\n",
    "end = time.time()\n",
    "print('Elapsed time:', end-start)"
   ]
  },
  {
   "cell_type": "code",
   "execution_count": 27,
   "metadata": {
    "collapsed": false,
    "deletable": true,
    "editable": true
   },
   "outputs": [
    {
     "data": {
      "text/html": [
       "<div>\n",
       "<style>\n",
       "    .dataframe thead tr:only-child th {\n",
       "        text-align: right;\n",
       "    }\n",
       "\n",
       "    .dataframe thead th {\n",
       "        text-align: left;\n",
       "    }\n",
       "\n",
       "    .dataframe tbody tr th {\n",
       "        vertical-align: top;\n",
       "    }\n",
       "</style>\n",
       "<table border=\"1\" class=\"dataframe\">\n",
       "  <thead>\n",
       "    <tr style=\"text-align: right;\">\n",
       "      <th></th>\n",
       "      <th>region</th>\n",
       "      <th>city</th>\n",
       "      <th>parent_category_name</th>\n",
       "      <th>category_name</th>\n",
       "      <th>param_1</th>\n",
       "      <th>param_2</th>\n",
       "      <th>param_3</th>\n",
       "      <th>user_type</th>\n",
       "    </tr>\n",
       "  </thead>\n",
       "  <tbody>\n",
       "    <tr>\n",
       "      <th>0</th>\n",
       "      <td>19</td>\n",
       "      <td>460</td>\n",
       "      <td>4</td>\n",
       "      <td>42</td>\n",
       "      <td>248</td>\n",
       "      <td>192</td>\n",
       "      <td>1173</td>\n",
       "      <td>1</td>\n",
       "    </tr>\n",
       "    <tr>\n",
       "      <th>1</th>\n",
       "      <td>17</td>\n",
       "      <td>1300</td>\n",
       "      <td>2</td>\n",
       "      <td>22</td>\n",
       "      <td>121</td>\n",
       "      <td>192</td>\n",
       "      <td>1173</td>\n",
       "      <td>1</td>\n",
       "    </tr>\n",
       "    <tr>\n",
       "      <th>2</th>\n",
       "      <td>16</td>\n",
       "      <td>1276</td>\n",
       "      <td>0</td>\n",
       "      <td>2</td>\n",
       "      <td>83</td>\n",
       "      <td>192</td>\n",
       "      <td>1173</td>\n",
       "      <td>1</td>\n",
       "    </tr>\n",
       "    <tr>\n",
       "      <th>3</th>\n",
       "      <td>21</td>\n",
       "      <td>940</td>\n",
       "      <td>4</td>\n",
       "      <td>42</td>\n",
       "      <td>37</td>\n",
       "      <td>192</td>\n",
       "      <td>1173</td>\n",
       "      <td>0</td>\n",
       "    </tr>\n",
       "    <tr>\n",
       "      <th>4</th>\n",
       "      <td>4</td>\n",
       "      <td>317</td>\n",
       "      <td>6</td>\n",
       "      <td>0</td>\n",
       "      <td>277</td>\n",
       "      <td>118</td>\n",
       "      <td>44</td>\n",
       "      <td>1</td>\n",
       "    </tr>\n",
       "  </tbody>\n",
       "</table>\n",
       "</div>"
      ],
      "text/plain": [
       "   region  city  parent_category_name  category_name  param_1  param_2  \\\n",
       "0      19   460                     4             42      248      192   \n",
       "1      17  1300                     2             22      121      192   \n",
       "2      16  1276                     0              2       83      192   \n",
       "3      21   940                     4             42       37      192   \n",
       "4       4   317                     6              0      277      118   \n",
       "\n",
       "   param_3  user_type  \n",
       "0     1173          1  \n",
       "1     1173          1  \n",
       "2     1173          1  \n",
       "3     1173          0  \n",
       "4       44          1  "
      ]
     },
     "execution_count": 27,
     "metadata": {},
     "output_type": "execute_result"
    }
   ],
   "source": [
    "X_transf.head()"
   ]
  },
  {
   "cell_type": "markdown",
   "metadata": {
    "deletable": true,
    "editable": true
   },
   "source": [
    "## 3.4. Codificando atributos textuais "
   ]
  },
  {
   "cell_type": "markdown",
   "metadata": {
    "deletable": true,
    "editable": true
   },
   "source": [
    "Pelos mesmos motivos que os atributos categóricos, teremos de codificar os atributos textuais `title` e `description`. Iremos usar o modelo *Bag of words* para efeturar essa codificação, aplicando tf-idf para capturar a importância relativa dos termos. Por fim, aplicamos uma transformação SVD para reduzir a dimensão da codificação. Do contrário, nosso dataset ganharia milhares de novos atributos e dificultaria o treino dos modelos."
   ]
  },
  {
   "cell_type": "code",
   "execution_count": 88,
   "metadata": {
    "collapsed": true,
    "deletable": true,
    "editable": true
   },
   "outputs": [],
   "source": [
    "vect_title = TfidfVectorizer(sublinear_tf=True)\n",
    "vect_description = TfidfVectorizer(sublinear_tf=True)\n",
    "\n",
    "encode_title = Pipeline([\n",
    "    ('title_selector', DataFrameSelector(['title'])),\n",
    "    ('ravel_feature', FunctionTransformer(lambda f: f.values.ravel(), validate=False)),\n",
    "    ('text_vectorizer', vect_title),\n",
    "    ('dim_reduction', TruncatedSVD(random_state=1))\n",
    "])\n",
    "\n",
    "encode_description = Pipeline([\n",
    "    ('description_selector', DataFrameSelector('description')),\n",
    "    ('description_imputer', TextImputer()),\n",
    "    ('ravel_feature', FunctionTransformer(lambda f: f.values.ravel(), validate=False)),\n",
    "    ('text_vectorizer', vect_description),\n",
    "    ('dim_reduction', TruncatedSVD(random_state=1))\n",
    "])\n",
    "\n",
    "encode_text = Pipeline([\n",
    "    ('process_text', FeatureUnion([\n",
    "        ('process_title', encode_title),\n",
    "        ('process_description', encode_description)\n",
    "    ])),\n",
    "    ('to_data_frame', ToDataFrameTransformer(['title_svd_1', 'title_svd_2', 'description_svd_1', 'description_svd_2']))\n",
    "])"
   ]
  },
  {
   "cell_type": "code",
   "execution_count": 29,
   "metadata": {
    "collapsed": false,
    "deletable": true,
    "editable": true
   },
   "outputs": [
    {
     "name": "stdout",
     "output_type": "stream",
     "text": [
      "Elapsed time: 68.30051064491272\n"
     ]
    }
   ],
   "source": [
    "start = time.time()\n",
    "\n",
    "text_processed = encode_text.fit_transform(X)\n",
    "\n",
    "end = time.time()\n",
    "\n",
    "print('Elapsed time:', end - start)"
   ]
  },
  {
   "cell_type": "code",
   "execution_count": 30,
   "metadata": {
    "collapsed": false,
    "deletable": true,
    "editable": true
   },
   "outputs": [
    {
     "data": {
      "text/html": [
       "<div>\n",
       "<style>\n",
       "    .dataframe thead tr:only-child th {\n",
       "        text-align: right;\n",
       "    }\n",
       "\n",
       "    .dataframe thead th {\n",
       "        text-align: left;\n",
       "    }\n",
       "\n",
       "    .dataframe tbody tr th {\n",
       "        vertical-align: top;\n",
       "    }\n",
       "</style>\n",
       "<table border=\"1\" class=\"dataframe\">\n",
       "  <thead>\n",
       "    <tr style=\"text-align: right;\">\n",
       "      <th></th>\n",
       "      <th>title_svd_1</th>\n",
       "      <th>title_svd_2</th>\n",
       "      <th>description_svd_1</th>\n",
       "      <th>description_svd_2</th>\n",
       "    </tr>\n",
       "  </thead>\n",
       "  <tbody>\n",
       "    <tr>\n",
       "      <th>0</th>\n",
       "      <td>0.000258</td>\n",
       "      <td>0.006233</td>\n",
       "      <td>0.031400</td>\n",
       "      <td>0.034607</td>\n",
       "    </tr>\n",
       "    <tr>\n",
       "      <th>1</th>\n",
       "      <td>0.000457</td>\n",
       "      <td>0.010049</td>\n",
       "      <td>0.019601</td>\n",
       "      <td>0.024246</td>\n",
       "    </tr>\n",
       "    <tr>\n",
       "      <th>2</th>\n",
       "      <td>0.000021</td>\n",
       "      <td>0.000026</td>\n",
       "      <td>0.150786</td>\n",
       "      <td>-0.053959</td>\n",
       "    </tr>\n",
       "    <tr>\n",
       "      <th>3</th>\n",
       "      <td>0.000052</td>\n",
       "      <td>0.000226</td>\n",
       "      <td>0.036863</td>\n",
       "      <td>0.026788</td>\n",
       "    </tr>\n",
       "    <tr>\n",
       "      <th>4</th>\n",
       "      <td>0.000011</td>\n",
       "      <td>-0.000020</td>\n",
       "      <td>0.116715</td>\n",
       "      <td>0.134761</td>\n",
       "    </tr>\n",
       "  </tbody>\n",
       "</table>\n",
       "</div>"
      ],
      "text/plain": [
       "   title_svd_1  title_svd_2  description_svd_1  description_svd_2\n",
       "0     0.000258     0.006233           0.031400           0.034607\n",
       "1     0.000457     0.010049           0.019601           0.024246\n",
       "2     0.000021     0.000026           0.150786          -0.053959\n",
       "3     0.000052     0.000226           0.036863           0.026788\n",
       "4     0.000011    -0.000020           0.116715           0.134761"
      ]
     },
     "execution_count": 30,
     "metadata": {},
     "output_type": "execute_result"
    }
   ],
   "source": [
    "text_processed.head()"
   ]
  },
  {
   "cell_type": "markdown",
   "metadata": {
    "deletable": true,
    "editable": true
   },
   "source": [
    "## 3.5. Unindo os transformadores"
   ]
  },
  {
   "cell_type": "markdown",
   "metadata": {
    "deletable": true,
    "editable": true
   },
   "source": [
    "Por fim, vamos unir todos os transformadores em um único pipeline de preprocessamento, que pode ser reutilizado pelos dados de validação:"
   ]
  },
  {
   "cell_type": "code",
   "execution_count": 89,
   "metadata": {
    "collapsed": true,
    "deletable": true,
    "editable": true
   },
   "outputs": [],
   "source": [
    "preprocess_transformer = Pipeline([\n",
    "    ('working_feature_selector', features_selector),\n",
    "    ('date_transf', FeatureUnion([\n",
    "        ('other_features', DataFrameSelector(['category_name', 'city', 'description',\n",
    "       'image_top_1', 'item_seq_number', 'param_1', 'param_2', 'param_3',\n",
    "       'parent_category_name', 'price', 'region', 'title', 'user_type'])),\n",
    "        ('process_date', process_date),\n",
    "    ])),\n",
    "    ('to_data_frame_1', ToDataFrameTransformer([['category_name', 'city', 'description',\n",
    "       'image_top_1', 'item_seq_number', 'param_1', 'param_2', 'param_3',\n",
    "       'parent_category_name', 'price', 'region', 'title', 'user_type', 'month', 'day', 'weekday']])),\n",
    "    ('imputers', FeatureUnion([\n",
    "        ('other_features', DataFrameSelector(['item_seq_number', 'title', 'month', 'day', 'weekday'])),\n",
    "        ('impute_price', process_price),\n",
    "        ('impute_image', process_image_class),\n",
    "        ('impute_cat', impute_cat),\n",
    "        ('impute_description', process_description)\n",
    "    ])),\n",
    "    ('to_data_frame_2', ToDataFrameTransformer([\n",
    "        'item_seq_number',\n",
    "        'title',\n",
    "        'month',\n",
    "        'day',\n",
    "        'weekday',\n",
    "        'price',\n",
    "        'image_top_1',\n",
    "        'region',\n",
    "        'city',\n",
    "        'parent_category_name',\n",
    "        'category_name',\n",
    "        'param_1',\n",
    "        'param_2',\n",
    "        'param_3',\n",
    "        'user_type',\n",
    "        'description'\n",
    "    ])),\n",
    "    ('encoders', FeatureUnion([\n",
    "        ('other_features', DataFrameSelector(['item_seq_number', 'month', 'day', 'weekday', 'price', 'image_top_1'])),\n",
    "        ('encode_cat', encode_cat),\n",
    "        ('encode_text', encode_text)\n",
    "    ])),\n",
    "    ('to_data_frame_3', ToDataFrameTransformer([\n",
    "        'item_seq_number',\n",
    "        'month',\n",
    "        'day',\n",
    "        'weekday',\n",
    "        'price',\n",
    "        'image_top_1',\n",
    "        'region',\n",
    "        'city',\n",
    "        'parent_category_name',\n",
    "        'category_name',\n",
    "        'param_1',\n",
    "        'param_2',\n",
    "        'param_3',\n",
    "        'user_type',\n",
    "        'title_svd_1',\n",
    "        'title_svd_2',\n",
    "        'description_svd_1',\n",
    "        'description_svd_2'\n",
    "    ]))\n",
    "])"
   ]
  },
  {
   "cell_type": "markdown",
   "metadata": {},
   "source": [
    "Como o dataset de teste pode conter, para os atributos categóricos, categorias não vistas no dataset de treino e, para os atributos textuais, termos igualmente não presentes no dataset de testes, temos de treinar o preprocessador na união desses dois conjuntos:"
   ]
  },
  {
   "cell_type": "code",
   "execution_count": 90,
   "metadata": {
    "collapsed": false,
    "deletable": true,
    "editable": true
   },
   "outputs": [
    {
     "name": "stdout",
     "output_type": "stream",
     "text": [
      "Elapsed time: 243.42488408088684\n"
     ]
    }
   ],
   "source": [
    "start = time.time()\n",
    "preprocess_transformer.fit(pd.concat([X, df_test[df_train.columns.difference(['deal_probability'])]]))\n",
    "X_processed = preprocess_transformer.transform(pd.concat([X, df_test[df_train.columns.difference(['deal_probability'])]]))\n",
    "end = time.time()\n",
    "\n",
    "print('Elapsed time:', end - start)"
   ]
  },
  {
   "cell_type": "code",
   "execution_count": 119,
   "metadata": {
    "collapsed": true
   },
   "outputs": [],
   "source": [
    "X_fit, X_submit = X_processed[:X.shape[0]], X_processed[X.shape[0]:]"
   ]
  },
  {
   "cell_type": "code",
   "execution_count": 120,
   "metadata": {
    "collapsed": false,
    "deletable": true,
    "editable": true
   },
   "outputs": [
    {
     "data": {
      "text/html": [
       "<div>\n",
       "<style>\n",
       "    .dataframe thead tr:only-child th {\n",
       "        text-align: right;\n",
       "    }\n",
       "\n",
       "    .dataframe thead th {\n",
       "        text-align: left;\n",
       "    }\n",
       "\n",
       "    .dataframe tbody tr th {\n",
       "        vertical-align: top;\n",
       "    }\n",
       "</style>\n",
       "<table border=\"1\" class=\"dataframe\">\n",
       "  <thead>\n",
       "    <tr style=\"text-align: right;\">\n",
       "      <th></th>\n",
       "      <th>item_seq_number</th>\n",
       "      <th>month</th>\n",
       "      <th>day</th>\n",
       "      <th>weekday</th>\n",
       "      <th>price</th>\n",
       "      <th>image_top_1</th>\n",
       "      <th>region</th>\n",
       "      <th>city</th>\n",
       "      <th>parent_category_name</th>\n",
       "      <th>category_name</th>\n",
       "      <th>param_1</th>\n",
       "      <th>param_2</th>\n",
       "      <th>param_3</th>\n",
       "      <th>user_type</th>\n",
       "      <th>title_svd_1</th>\n",
       "      <th>title_svd_2</th>\n",
       "      <th>description_svd_1</th>\n",
       "      <th>description_svd_2</th>\n",
       "    </tr>\n",
       "  </thead>\n",
       "  <tbody>\n",
       "    <tr>\n",
       "      <th>0</th>\n",
       "      <td>2</td>\n",
       "      <td>3</td>\n",
       "      <td>28</td>\n",
       "      <td>1</td>\n",
       "      <td>400</td>\n",
       "      <td>1008</td>\n",
       "      <td>19</td>\n",
       "      <td>462</td>\n",
       "      <td>4</td>\n",
       "      <td>42</td>\n",
       "      <td>248</td>\n",
       "      <td>197</td>\n",
       "      <td>1228</td>\n",
       "      <td>1</td>\n",
       "      <td>0.000216267</td>\n",
       "      <td>0.00619864</td>\n",
       "      <td>0.0307004</td>\n",
       "      <td>0.034499</td>\n",
       "    </tr>\n",
       "    <tr>\n",
       "      <th>1</th>\n",
       "      <td>19</td>\n",
       "      <td>3</td>\n",
       "      <td>26</td>\n",
       "      <td>6</td>\n",
       "      <td>3000</td>\n",
       "      <td>692</td>\n",
       "      <td>17</td>\n",
       "      <td>1314</td>\n",
       "      <td>2</td>\n",
       "      <td>22</td>\n",
       "      <td>121</td>\n",
       "      <td>197</td>\n",
       "      <td>1228</td>\n",
       "      <td>1</td>\n",
       "      <td>0.000392368</td>\n",
       "      <td>0.0100318</td>\n",
       "      <td>0.019122</td>\n",
       "      <td>0.0240967</td>\n",
       "    </tr>\n",
       "    <tr>\n",
       "      <th>2</th>\n",
       "      <td>9</td>\n",
       "      <td>3</td>\n",
       "      <td>20</td>\n",
       "      <td>0</td>\n",
       "      <td>4000</td>\n",
       "      <td>3032</td>\n",
       "      <td>16</td>\n",
       "      <td>1290</td>\n",
       "      <td>0</td>\n",
       "      <td>2</td>\n",
       "      <td>83</td>\n",
       "      <td>197</td>\n",
       "      <td>1228</td>\n",
       "      <td>1</td>\n",
       "      <td>1.95053e-05</td>\n",
       "      <td>2.589e-05</td>\n",
       "      <td>0.151511</td>\n",
       "      <td>-0.0515689</td>\n",
       "    </tr>\n",
       "    <tr>\n",
       "      <th>3</th>\n",
       "      <td>286</td>\n",
       "      <td>3</td>\n",
       "      <td>25</td>\n",
       "      <td>5</td>\n",
       "      <td>2200</td>\n",
       "      <td>796</td>\n",
       "      <td>21</td>\n",
       "      <td>950</td>\n",
       "      <td>4</td>\n",
       "      <td>42</td>\n",
       "      <td>37</td>\n",
       "      <td>197</td>\n",
       "      <td>1228</td>\n",
       "      <td>0</td>\n",
       "      <td>5.02828e-05</td>\n",
       "      <td>0.000221426</td>\n",
       "      <td>0.0365522</td>\n",
       "      <td>0.0271495</td>\n",
       "    </tr>\n",
       "    <tr>\n",
       "      <th>4</th>\n",
       "      <td>3</td>\n",
       "      <td>3</td>\n",
       "      <td>16</td>\n",
       "      <td>3</td>\n",
       "      <td>40000</td>\n",
       "      <td>2264</td>\n",
       "      <td>4</td>\n",
       "      <td>318</td>\n",
       "      <td>6</td>\n",
       "      <td>0</td>\n",
       "      <td>277</td>\n",
       "      <td>123</td>\n",
       "      <td>46</td>\n",
       "      <td>1</td>\n",
       "      <td>2.62942e-06</td>\n",
       "      <td>-7.58662e-06</td>\n",
       "      <td>0.116135</td>\n",
       "      <td>0.137409</td>\n",
       "    </tr>\n",
       "  </tbody>\n",
       "</table>\n",
       "</div>"
      ],
      "text/plain": [
       "  item_seq_number month day weekday  price image_top_1 region  city  \\\n",
       "0               2     3  28       1    400        1008     19   462   \n",
       "1              19     3  26       6   3000         692     17  1314   \n",
       "2               9     3  20       0   4000        3032     16  1290   \n",
       "3             286     3  25       5   2200         796     21   950   \n",
       "4               3     3  16       3  40000        2264      4   318   \n",
       "\n",
       "  parent_category_name category_name param_1 param_2 param_3 user_type  \\\n",
       "0                    4            42     248     197    1228         1   \n",
       "1                    2            22     121     197    1228         1   \n",
       "2                    0             2      83     197    1228         1   \n",
       "3                    4            42      37     197    1228         0   \n",
       "4                    6             0     277     123      46         1   \n",
       "\n",
       "   title_svd_1  title_svd_2 description_svd_1 description_svd_2  \n",
       "0  0.000216267   0.00619864         0.0307004          0.034499  \n",
       "1  0.000392368    0.0100318          0.019122         0.0240967  \n",
       "2  1.95053e-05    2.589e-05          0.151511        -0.0515689  \n",
       "3  5.02828e-05  0.000221426         0.0365522         0.0271495  \n",
       "4  2.62942e-06 -7.58662e-06          0.116135          0.137409  "
      ]
     },
     "execution_count": 120,
     "metadata": {},
     "output_type": "execute_result"
    }
   ],
   "source": [
    "X_fit.head()"
   ]
  },
  {
   "cell_type": "markdown",
   "metadata": {
    "deletable": true,
    "editable": true
   },
   "source": [
    "Salvando os dados processados:"
   ]
  },
  {
   "cell_type": "code",
   "execution_count": 121,
   "metadata": {
    "collapsed": true,
    "deletable": true,
    "editable": true
   },
   "outputs": [],
   "source": [
    "joblib.dump(X_fit, open('data/X_train_processed.sav', 'wb'))"
   ]
  },
  {
   "cell_type": "markdown",
   "metadata": {
    "deletable": true,
    "editable": true
   },
   "source": [
    "Teste carregamento:"
   ]
  },
  {
   "cell_type": "code",
   "execution_count": 33,
   "metadata": {
    "collapsed": true,
    "deletable": true,
    "editable": true
   },
   "outputs": [],
   "source": [
    "X_fit = joblib.load('data/X_train_processed.sav')"
   ]
  },
  {
   "cell_type": "markdown",
   "metadata": {
    "deletable": true,
    "editable": true
   },
   "source": [
    "Finalmente, vamos repartir o modelo em um conjunto de treino e outro de testes:"
   ]
  },
  {
   "cell_type": "code",
   "execution_count": 122,
   "metadata": {
    "collapsed": false,
    "deletable": true,
    "editable": true
   },
   "outputs": [],
   "source": [
    "X_train, X_test, y_train, y_test = train_test_split(X_fit.values, y.values.ravel(), test_size=.2, random_state=1)"
   ]
  },
  {
   "cell_type": "markdown",
   "metadata": {
    "deletable": true,
    "editable": true
   },
   "source": [
    "# 4. Treinando modelos"
   ]
  },
  {
   "cell_type": "markdown",
   "metadata": {
    "deletable": true,
    "editable": true
   },
   "source": [
    "## 4.1 Árvore de decisão"
   ]
  },
  {
   "cell_type": "code",
   "execution_count": 13,
   "metadata": {
    "collapsed": true,
    "deletable": true,
    "editable": true
   },
   "outputs": [],
   "source": [
    "tree_regressor = DecisionTreeRegressor(random_state=1)"
   ]
  },
  {
   "cell_type": "code",
   "execution_count": 14,
   "metadata": {
    "collapsed": true,
    "deletable": true,
    "editable": true
   },
   "outputs": [],
   "source": [
    "grid_params = {\n",
    "    'max_depth': np.arange(11, 16),\n",
    "    'min_samples_split': np.linspace(0.0001, .01, 5, endpoint=True),\n",
    "}\n",
    "\n",
    "grid_search_tree = GridSearchCV(tree_regressor, param_grid=grid_params, cv=5, scoring='neg_mean_squared_error', n_jobs=4)"
   ]
  },
  {
   "cell_type": "code",
   "execution_count": 15,
   "metadata": {
    "collapsed": false,
    "deletable": true,
    "editable": true
   },
   "outputs": [
    {
     "name": "stdout",
     "output_type": "stream",
     "text": [
      "Elapsed time:  601.2647848129272\n"
     ]
    }
   ],
   "source": [
    "start = time.time()\n",
    "\n",
    "grid_search_tree.fit(X_train, y_train)\n",
    "\n",
    "end = time.time()\n",
    "print('Elapsed time: ', end - start)"
   ]
  },
  {
   "cell_type": "markdown",
   "metadata": {
    "deletable": true,
    "editable": true
   },
   "source": [
    "Vamos ver os melhores parâmetros obtidos:"
   ]
  },
  {
   "cell_type": "code",
   "execution_count": 16,
   "metadata": {
    "collapsed": false,
    "deletable": true,
    "editable": true
   },
   "outputs": [
    {
     "data": {
      "text/plain": [
       "{'max_depth': 15, 'min_samples_split': 0.002575}"
      ]
     },
     "execution_count": 16,
     "metadata": {},
     "output_type": "execute_result"
    }
   ],
   "source": [
    "grid_search_tree.best_params_"
   ]
  },
  {
   "cell_type": "markdown",
   "metadata": {
    "deletable": true,
    "editable": true
   },
   "source": [
    "E o menor erro obtido:"
   ]
  },
  {
   "cell_type": "code",
   "execution_count": 17,
   "metadata": {
    "collapsed": false,
    "deletable": true,
    "editable": true
   },
   "outputs": [
    {
     "name": "stdout",
     "output_type": "stream",
     "text": [
      "0.233924405371\n"
     ]
    }
   ],
   "source": [
    "tree_rmse = np.sqrt(-grid_search_tree.best_score_)\n",
    "print(tree_rmse)"
   ]
  },
  {
   "cell_type": "markdown",
   "metadata": {
    "deletable": true,
    "editable": true
   },
   "source": [
    "Agora, vamos avaliar no conjunto de testes:"
   ]
  },
  {
   "cell_type": "code",
   "execution_count": 27,
   "metadata": {
    "collapsed": false,
    "deletable": true,
    "editable": true
   },
   "outputs": [],
   "source": [
    "y_pred = grid_search_tree.best_estimator_.predict(X_test)"
   ]
  },
  {
   "cell_type": "code",
   "execution_count": 29,
   "metadata": {
    "collapsed": false,
    "deletable": true,
    "editable": true
   },
   "outputs": [
    {
     "name": "stdout",
     "output_type": "stream",
     "text": [
      "0.233723778099\n"
     ]
    }
   ],
   "source": [
    "tree_test_rmse = np.sqrt(mean_squared_error(y_test, y_pred))\n",
    "print(tree_test_rmse)"
   ]
  },
  {
   "cell_type": "markdown",
   "metadata": {
    "deletable": true,
    "editable": true
   },
   "source": [
    "Salvando o modelo:"
   ]
  },
  {
   "cell_type": "code",
   "execution_count": 34,
   "metadata": {
    "collapsed": true,
    "deletable": true,
    "editable": true
   },
   "outputs": [],
   "source": [
    "filename = 'models/decision_tree.sav'\n",
    "joblib.dump(grid_search_tree.best_estimator_, open(filename, 'wb'))"
   ]
  },
  {
   "cell_type": "markdown",
   "metadata": {},
   "source": [
    "Gerando arquivo de submissão:"
   ]
  },
  {
   "cell_type": "markdown",
   "metadata": {
    "deletable": true,
    "editable": true
   },
   "source": [
    "## 4.2. Random Forest"
   ]
  },
  {
   "cell_type": "code",
   "execution_count": 9,
   "metadata": {
    "collapsed": true,
    "deletable": true,
    "editable": true
   },
   "outputs": [],
   "source": [
    "rnd_forest_regressor = RandomForestRegressor()"
   ]
  },
  {
   "cell_type": "code",
   "execution_count": 16,
   "metadata": {
    "collapsed": true,
    "deletable": true,
    "editable": true
   },
   "outputs": [],
   "source": [
    "grid_params = {\n",
    "    'n_estimators': [100],\n",
    "    'max_depth': [20, ],\n",
    "}\n",
    "\n",
    "grid_search_rnd_forest = GridSearchCV(\n",
    "    rnd_forest_regressor,\n",
    "    param_grid=grid_params,\n",
    "    cv=5,\n",
    "    scoring='neg_mean_squared_error',\n",
    "    random_state=1\n",
    ")"
   ]
  },
  {
   "cell_type": "code",
   "execution_count": 17,
   "metadata": {
    "collapsed": false,
    "deletable": true,
    "editable": true
   },
   "outputs": [
    {
     "name": "stdout",
     "output_type": "stream",
     "text": [
      "Elapsed time:  12043.079990625381\n"
     ]
    }
   ],
   "source": [
    "start = time.time()\n",
    "\n",
    "grid_search_rnd_forest.fit(X_train_processed, y_train.values.ravel())\n",
    "\n",
    "end = time.time()\n",
    "print('Elapsed time: ', end - start)"
   ]
  },
  {
   "cell_type": "markdown",
   "metadata": {
    "deletable": true,
    "editable": true
   },
   "source": [
    "Melhores parâmetros obtidos:"
   ]
  },
  {
   "cell_type": "code",
   "execution_count": 18,
   "metadata": {
    "collapsed": false,
    "deletable": true,
    "editable": true
   },
   "outputs": [
    {
     "data": {
      "text/plain": [
       "{'max_depth': 20, 'n_estimators': 100}"
      ]
     },
     "execution_count": 18,
     "metadata": {},
     "output_type": "execute_result"
    }
   ],
   "source": [
    "grid_search_rnd_forest.best_params_"
   ]
  },
  {
   "cell_type": "markdown",
   "metadata": {
    "deletable": true,
    "editable": true
   },
   "source": [
    "E o menor erro:"
   ]
  },
  {
   "cell_type": "code",
   "execution_count": 19,
   "metadata": {
    "collapsed": false,
    "deletable": true,
    "editable": true
   },
   "outputs": [
    {
     "name": "stdout",
     "output_type": "stream",
     "text": [
      "0.2273286383342149\n"
     ]
    }
   ],
   "source": [
    "rnd_forest_rmse = np.sqrt(-grid_search_rnd_forest.best_score_)\n",
    "print(rnd_forest_rmse)"
   ]
  },
  {
   "cell_type": "markdown",
   "metadata": {
    "deletable": true,
    "editable": true
   },
   "source": [
    "Salvando o modelo:"
   ]
  },
  {
   "cell_type": "code",
   "execution_count": 20,
   "metadata": {
    "collapsed": true,
    "deletable": true,
    "editable": true
   },
   "outputs": [],
   "source": [
    "filename = 'models/random_forest.sav'\n",
    "joblib.dump(grid_search_rnd_forest.best_estimator_, open(filename, 'wb'))"
   ]
  },
  {
   "cell_type": "markdown",
   "metadata": {},
   "source": [
    "Gerando arquivo de submissão:"
   ]
  },
  {
   "cell_type": "code",
   "execution_count": null,
   "metadata": {
    "collapsed": true
   },
   "outputs": [],
   "source": [
    "df_submit = pd.DataFrame(np.column_stack((df_test['item_id'].values, y_pred)), columns=['item_id', 'deal_probability'])\n",
    "df_submit.to_csv('submit/decision_tree.csv', index=False)"
   ]
  },
  {
   "cell_type": "markdown",
   "metadata": {
    "deletable": true,
    "editable": true
   },
   "source": [
    "## 4.3. Gradient Boosting"
   ]
  },
  {
   "cell_type": "markdown",
   "metadata": {
    "collapsed": true,
    "deletable": true,
    "editable": true
   },
   "source": [
    "Carregando dados:"
   ]
  },
  {
   "cell_type": "code",
   "execution_count": 123,
   "metadata": {
    "collapsed": false,
    "deletable": true,
    "editable": true
   },
   "outputs": [],
   "source": [
    "dtrain = xgb.DMatrix(X_train, label=y_train)\n",
    "dtest = xgb.DMatrix(X_test, label=y_test)"
   ]
  },
  {
   "cell_type": "markdown",
   "metadata": {
    "deletable": true,
    "editable": true
   },
   "source": [
    "Salvando dados para uso posterior:"
   ]
  },
  {
   "cell_type": "code",
   "execution_count": 124,
   "metadata": {
    "collapsed": true,
    "deletable": true,
    "editable": true
   },
   "outputs": [],
   "source": [
    "dtrain.save_binary('data/xgb_train.buffer')\n",
    "dtest.save_binary('data/xgb_test.buffer')"
   ]
  },
  {
   "cell_type": "markdown",
   "metadata": {
    "deletable": true,
    "editable": true
   },
   "source": [
    "Carregando dos buffers:"
   ]
  },
  {
   "cell_type": "code",
   "execution_count": 2,
   "metadata": {
    "collapsed": true,
    "deletable": true,
    "editable": true
   },
   "outputs": [],
   "source": [
    "dtrain = xgb.DMatrix('data/xgb_train.buffer')\n",
    "dtest = xgb.DMatrix('data/xgb_test.buffer')"
   ]
  },
  {
   "cell_type": "markdown",
   "metadata": {
    "deletable": true,
    "editable": true
   },
   "source": [
    "Definindo parâmentros:"
   ]
  },
  {
   "cell_type": "code",
   "execution_count": 28,
   "metadata": {
    "collapsed": false,
    "deletable": true,
    "editable": true
   },
   "outputs": [],
   "source": [
    "param = {\n",
    "    'eta': .01,\n",
    "    'sub_sample': .8,\n",
    "    'objective': 'gpu:reg:logistic',\n",
    "    'tree_method': 'gpu_hist'\n",
    "}"
   ]
  },
  {
   "cell_type": "code",
   "execution_count": 20,
   "metadata": {
    "collapsed": true,
    "deletable": true,
    "editable": true
   },
   "outputs": [],
   "source": [
    "evallist = [(dtest, 'eval'), (dtrain, 'train')]"
   ]
  },
  {
   "cell_type": "markdown",
   "metadata": {
    "deletable": true,
    "editable": true
   },
   "source": [
    "Treinando:"
   ]
  },
  {
   "cell_type": "code",
   "execution_count": 125,
   "metadata": {
    "collapsed": false,
    "deletable": true,
    "editable": true
   },
   "outputs": [
    {
     "name": "stdout",
     "output_type": "stream",
     "text": [
      "[0]\teval-rmse:0.441544\ttrain-rmse:0.441407\n",
      "[1]\teval-rmse:0.438221\ttrain-rmse:0.438083\n",
      "[2]\teval-rmse:0.434916\ttrain-rmse:0.434777\n",
      "[3]\teval-rmse:0.431629\ttrain-rmse:0.431488\n",
      "[4]\teval-rmse:0.428442\ttrain-rmse:0.428299\n",
      "[5]\teval-rmse:0.425282\ttrain-rmse:0.425138\n",
      "[6]\teval-rmse:0.422145\ttrain-rmse:0.421999\n",
      "[7]\teval-rmse:0.41909\ttrain-rmse:0.418941\n",
      "[8]\teval-rmse:0.416067\ttrain-rmse:0.415917\n",
      "[9]\teval-rmse:0.413051\ttrain-rmse:0.412896\n",
      "[10]\teval-rmse:0.410081\ttrain-rmse:0.409924\n",
      "[11]\teval-rmse:0.407153\ttrain-rmse:0.406991\n",
      "[12]\teval-rmse:0.404271\ttrain-rmse:0.404105\n",
      "[13]\teval-rmse:0.401425\ttrain-rmse:0.401257\n",
      "[14]\teval-rmse:0.398641\ttrain-rmse:0.398468\n",
      "[15]\teval-rmse:0.395866\ttrain-rmse:0.39569\n",
      "[16]\teval-rmse:0.393155\ttrain-rmse:0.392973\n",
      "[17]\teval-rmse:0.390471\ttrain-rmse:0.390285\n",
      "[18]\teval-rmse:0.387823\ttrain-rmse:0.387634\n",
      "[19]\teval-rmse:0.385228\ttrain-rmse:0.385034\n",
      "[20]\teval-rmse:0.382652\ttrain-rmse:0.382455\n",
      "[21]\teval-rmse:0.380141\ttrain-rmse:0.379938\n",
      "[22]\teval-rmse:0.377694\ttrain-rmse:0.377486\n",
      "[23]\teval-rmse:0.375241\ttrain-rmse:0.375028\n",
      "[24]\teval-rmse:0.372813\ttrain-rmse:0.372595\n",
      "[25]\teval-rmse:0.370441\ttrain-rmse:0.370218\n",
      "[26]\teval-rmse:0.368149\ttrain-rmse:0.367921\n",
      "[27]\teval-rmse:0.365856\ttrain-rmse:0.365621\n",
      "[28]\teval-rmse:0.363585\ttrain-rmse:0.363347\n",
      "[29]\teval-rmse:0.361369\ttrain-rmse:0.361124\n",
      "[30]\teval-rmse:0.359211\ttrain-rmse:0.358961\n",
      "[31]\teval-rmse:0.357122\ttrain-rmse:0.356866\n",
      "[32]\teval-rmse:0.355025\ttrain-rmse:0.354763\n",
      "[33]\teval-rmse:0.352944\ttrain-rmse:0.352679\n",
      "[34]\teval-rmse:0.350872\ttrain-rmse:0.350601\n",
      "[35]\teval-rmse:0.348868\ttrain-rmse:0.348592\n",
      "[36]\teval-rmse:0.346946\ttrain-rmse:0.346663\n",
      "[37]\teval-rmse:0.344958\ttrain-rmse:0.344671\n",
      "[38]\teval-rmse:0.343088\ttrain-rmse:0.342794\n",
      "[39]\teval-rmse:0.341206\ttrain-rmse:0.340907\n",
      "[40]\teval-rmse:0.33937\ttrain-rmse:0.339066\n",
      "[41]\teval-rmse:0.337598\ttrain-rmse:0.337287\n",
      "[42]\teval-rmse:0.335766\ttrain-rmse:0.33545\n",
      "[43]\teval-rmse:0.334057\ttrain-rmse:0.333735\n",
      "[44]\teval-rmse:0.332339\ttrain-rmse:0.332011\n",
      "[45]\teval-rmse:0.330627\ttrain-rmse:0.330292\n",
      "[46]\teval-rmse:0.328955\ttrain-rmse:0.328614\n",
      "[47]\teval-rmse:0.327349\ttrain-rmse:0.327\n",
      "[48]\teval-rmse:0.325778\ttrain-rmse:0.325422\n",
      "[49]\teval-rmse:0.324226\ttrain-rmse:0.323863\n",
      "[50]\teval-rmse:0.322639\ttrain-rmse:0.322271\n",
      "[51]\teval-rmse:0.321091\ttrain-rmse:0.320717\n",
      "[52]\teval-rmse:0.319587\ttrain-rmse:0.319206\n",
      "[53]\teval-rmse:0.318099\ttrain-rmse:0.317711\n",
      "[54]\teval-rmse:0.316635\ttrain-rmse:0.31624\n",
      "[55]\teval-rmse:0.3152\ttrain-rmse:0.314798\n",
      "[56]\teval-rmse:0.313757\ttrain-rmse:0.313348\n",
      "[57]\teval-rmse:0.312364\ttrain-rmse:0.311947\n",
      "[58]\teval-rmse:0.311063\ttrain-rmse:0.310639\n",
      "[59]\teval-rmse:0.309687\ttrain-rmse:0.309255\n",
      "[60]\teval-rmse:0.308371\ttrain-rmse:0.307932\n",
      "[61]\teval-rmse:0.307107\ttrain-rmse:0.30666\n",
      "[62]\teval-rmse:0.305797\ttrain-rmse:0.305342\n",
      "[63]\teval-rmse:0.304536\ttrain-rmse:0.304075\n",
      "[64]\teval-rmse:0.303362\ttrain-rmse:0.302894\n",
      "[65]\teval-rmse:0.302123\ttrain-rmse:0.301647\n",
      "[66]\teval-rmse:0.300933\ttrain-rmse:0.30045\n",
      "[67]\teval-rmse:0.299735\ttrain-rmse:0.299244\n",
      "[68]\teval-rmse:0.298601\ttrain-rmse:0.298102\n",
      "[69]\teval-rmse:0.297448\ttrain-rmse:0.296943\n",
      "[70]\teval-rmse:0.296319\ttrain-rmse:0.295806\n",
      "[71]\teval-rmse:0.295203\ttrain-rmse:0.294683\n",
      "[72]\teval-rmse:0.294151\ttrain-rmse:0.293623\n",
      "[73]\teval-rmse:0.293075\ttrain-rmse:0.292537\n",
      "[74]\teval-rmse:0.292027\ttrain-rmse:0.291483\n",
      "[75]\teval-rmse:0.290993\ttrain-rmse:0.290441\n",
      "[76]\teval-rmse:0.289992\ttrain-rmse:0.289433\n",
      "[77]\teval-rmse:0.289001\ttrain-rmse:0.288434\n",
      "[78]\teval-rmse:0.288043\ttrain-rmse:0.287469\n",
      "[79]\teval-rmse:0.287069\ttrain-rmse:0.286489\n",
      "[80]\teval-rmse:0.286125\ttrain-rmse:0.285537\n",
      "[81]\teval-rmse:0.285189\ttrain-rmse:0.284593\n",
      "[82]\teval-rmse:0.284276\ttrain-rmse:0.283673\n",
      "[83]\teval-rmse:0.283379\ttrain-rmse:0.282771\n",
      "[84]\teval-rmse:0.282502\ttrain-rmse:0.281886\n",
      "[85]\teval-rmse:0.28164\ttrain-rmse:0.281017\n",
      "[86]\teval-rmse:0.280801\ttrain-rmse:0.28017\n",
      "[87]\teval-rmse:0.279994\ttrain-rmse:0.279353\n",
      "[88]\teval-rmse:0.279179\ttrain-rmse:0.278532\n",
      "[89]\teval-rmse:0.27841\ttrain-rmse:0.277758\n",
      "[90]\teval-rmse:0.277628\ttrain-rmse:0.276967\n",
      "[91]\teval-rmse:0.276885\ttrain-rmse:0.276214\n",
      "[92]\teval-rmse:0.276171\ttrain-rmse:0.275494\n",
      "[93]\teval-rmse:0.275444\ttrain-rmse:0.27476\n",
      "[94]\teval-rmse:0.274757\ttrain-rmse:0.274066\n",
      "[95]\teval-rmse:0.274077\ttrain-rmse:0.27338\n",
      "[96]\teval-rmse:0.273415\ttrain-rmse:0.272711\n",
      "[97]\teval-rmse:0.272767\ttrain-rmse:0.272057\n",
      "[98]\teval-rmse:0.272127\ttrain-rmse:0.271407\n",
      "[99]\teval-rmse:0.271483\ttrain-rmse:0.270758\n",
      "[100]\teval-rmse:0.270878\ttrain-rmse:0.270147\n",
      "[101]\teval-rmse:0.270253\ttrain-rmse:0.269516\n",
      "[102]\teval-rmse:0.269638\ttrain-rmse:0.268896\n",
      "[103]\teval-rmse:0.269054\ttrain-rmse:0.268306\n",
      "[104]\teval-rmse:0.26848\ttrain-rmse:0.267723\n",
      "[105]\teval-rmse:0.267889\ttrain-rmse:0.267126\n",
      "[106]\teval-rmse:0.267342\ttrain-rmse:0.266573\n",
      "[107]\teval-rmse:0.266769\ttrain-rmse:0.265995\n",
      "[108]\teval-rmse:0.266206\ttrain-rmse:0.265426\n",
      "[109]\teval-rmse:0.265658\ttrain-rmse:0.264873\n",
      "[110]\teval-rmse:0.265145\ttrain-rmse:0.26435\n",
      "[111]\teval-rmse:0.264617\ttrain-rmse:0.263818\n",
      "[112]\teval-rmse:0.264147\ttrain-rmse:0.26334\n",
      "[113]\teval-rmse:0.263649\ttrain-rmse:0.262836\n",
      "[114]\teval-rmse:0.263161\ttrain-rmse:0.26234\n",
      "[115]\teval-rmse:0.262671\ttrain-rmse:0.261843\n",
      "[116]\teval-rmse:0.26223\ttrain-rmse:0.261392\n",
      "[117]\teval-rmse:0.261797\ttrain-rmse:0.260951\n",
      "[118]\teval-rmse:0.261334\ttrain-rmse:0.260481\n",
      "[119]\teval-rmse:0.260917\ttrain-rmse:0.260056\n",
      "[120]\teval-rmse:0.260509\ttrain-rmse:0.259638\n",
      "[121]\teval-rmse:0.260102\ttrain-rmse:0.259223\n",
      "[122]\teval-rmse:0.259674\ttrain-rmse:0.258788\n",
      "[123]\teval-rmse:0.259258\ttrain-rmse:0.258365\n",
      "[124]\teval-rmse:0.258882\ttrain-rmse:0.257979\n",
      "[125]\teval-rmse:0.258514\ttrain-rmse:0.257601\n",
      "[126]\teval-rmse:0.258082\ttrain-rmse:0.257162\n",
      "[127]\teval-rmse:0.25766\ttrain-rmse:0.256732\n",
      "[128]\teval-rmse:0.257247\ttrain-rmse:0.25631\n",
      "[129]\teval-rmse:0.25684\ttrain-rmse:0.255896\n",
      "[130]\teval-rmse:0.256444\ttrain-rmse:0.255492\n",
      "[131]\teval-rmse:0.256052\ttrain-rmse:0.255092\n",
      "[132]\teval-rmse:0.255672\ttrain-rmse:0.254704\n",
      "[133]\teval-rmse:0.255296\ttrain-rmse:0.254321\n",
      "[134]\teval-rmse:0.254927\ttrain-rmse:0.253944\n",
      "[135]\teval-rmse:0.254566\ttrain-rmse:0.253575\n",
      "[136]\teval-rmse:0.254266\ttrain-rmse:0.253267\n",
      "[137]\teval-rmse:0.253975\ttrain-rmse:0.252967\n",
      "[138]\teval-rmse:0.253698\ttrain-rmse:0.252684\n",
      "[139]\teval-rmse:0.25342\ttrain-rmse:0.252397\n",
      "[140]\teval-rmse:0.253159\ttrain-rmse:0.252129\n",
      "[141]\teval-rmse:0.252894\ttrain-rmse:0.251856\n",
      "[142]\teval-rmse:0.252634\ttrain-rmse:0.251589\n",
      "[143]\teval-rmse:0.252392\ttrain-rmse:0.251341\n",
      "[144]\teval-rmse:0.252144\ttrain-rmse:0.251087\n",
      "[145]\teval-rmse:0.251915\ttrain-rmse:0.250852\n",
      "[146]\teval-rmse:0.251679\ttrain-rmse:0.250608\n",
      "[147]\teval-rmse:0.251461\ttrain-rmse:0.250384\n",
      "[148]\teval-rmse:0.251248\ttrain-rmse:0.250165\n",
      "[149]\teval-rmse:0.25103\ttrain-rmse:0.24994\n",
      "[150]\teval-rmse:0.250819\ttrain-rmse:0.249722\n",
      "[151]\teval-rmse:0.250623\ttrain-rmse:0.24952\n",
      "[152]\teval-rmse:0.250429\ttrain-rmse:0.249321\n",
      "[153]\teval-rmse:0.25023\ttrain-rmse:0.249115\n",
      "[154]\teval-rmse:0.250049\ttrain-rmse:0.24893\n",
      "[155]\teval-rmse:0.249861\ttrain-rmse:0.248736\n",
      "[156]\teval-rmse:0.249681\ttrain-rmse:0.248549\n",
      "[157]\teval-rmse:0.249513\ttrain-rmse:0.248375\n",
      "[158]\teval-rmse:0.249342\ttrain-rmse:0.248197\n",
      "[159]\teval-rmse:0.249184\ttrain-rmse:0.248033\n",
      "[160]\teval-rmse:0.249015\ttrain-rmse:0.247858\n",
      "[161]\teval-rmse:0.248862\ttrain-rmse:0.2477\n",
      "[162]\teval-rmse:0.248674\ttrain-rmse:0.247506\n",
      "[163]\teval-rmse:0.248534\ttrain-rmse:0.24736\n",
      "[164]\teval-rmse:0.248388\ttrain-rmse:0.24721\n",
      "[165]\teval-rmse:0.248226\ttrain-rmse:0.247043\n",
      "[166]\teval-rmse:0.248053\ttrain-rmse:0.246864\n",
      "[167]\teval-rmse:0.247931\ttrain-rmse:0.246737\n",
      "[168]\teval-rmse:0.247757\ttrain-rmse:0.246556\n",
      "[169]\teval-rmse:0.247598\ttrain-rmse:0.246392\n",
      "[170]\teval-rmse:0.247429\ttrain-rmse:0.246217\n",
      "[171]\teval-rmse:0.247278\ttrain-rmse:0.246062\n",
      "[172]\teval-rmse:0.247115\ttrain-rmse:0.245892\n",
      "[173]\teval-rmse:0.24697\ttrain-rmse:0.245742\n",
      "[174]\teval-rmse:0.246813\ttrain-rmse:0.24558\n",
      "[175]\teval-rmse:0.246714\ttrain-rmse:0.245475\n",
      "[176]\teval-rmse:0.246575\ttrain-rmse:0.245331\n",
      "[177]\teval-rmse:0.246428\ttrain-rmse:0.245179\n",
      "[178]\teval-rmse:0.246298\ttrain-rmse:0.245043\n",
      "[179]\teval-rmse:0.24617\ttrain-rmse:0.244909\n",
      "[180]\teval-rmse:0.246073\ttrain-rmse:0.244807\n",
      "[181]\teval-rmse:0.245946\ttrain-rmse:0.244675\n",
      "[182]\teval-rmse:0.245817\ttrain-rmse:0.24454\n",
      "[183]\teval-rmse:0.245693\ttrain-rmse:0.24441\n",
      "[184]\teval-rmse:0.245583\ttrain-rmse:0.244294\n",
      "[185]\teval-rmse:0.245462\ttrain-rmse:0.244168\n",
      "[186]\teval-rmse:0.245334\ttrain-rmse:0.244033\n",
      "[187]\teval-rmse:0.245228\ttrain-rmse:0.243922\n",
      "[188]\teval-rmse:0.245104\ttrain-rmse:0.243792\n",
      "[189]\teval-rmse:0.245001\ttrain-rmse:0.243683\n",
      "[190]\teval-rmse:0.244894\ttrain-rmse:0.243571\n",
      "[191]\teval-rmse:0.244783\ttrain-rmse:0.243456\n",
      "[192]\teval-rmse:0.244684\ttrain-rmse:0.243352\n",
      "[193]\teval-rmse:0.244574\ttrain-rmse:0.243236\n",
      "[194]\teval-rmse:0.244472\ttrain-rmse:0.243129\n",
      "[195]\teval-rmse:0.244377\ttrain-rmse:0.243029\n",
      "[196]\teval-rmse:0.244277\ttrain-rmse:0.242924\n",
      "[197]\teval-rmse:0.244233\ttrain-rmse:0.242874\n",
      "[198]\teval-rmse:0.244132\ttrain-rmse:0.242767\n",
      "[199]\teval-rmse:0.244048\ttrain-rmse:0.242679\n",
      "[200]\teval-rmse:0.244001\ttrain-rmse:0.242626\n",
      "[201]\teval-rmse:0.243965\ttrain-rmse:0.242585\n",
      "[202]\teval-rmse:0.243889\ttrain-rmse:0.242504\n",
      "[203]\teval-rmse:0.243796\ttrain-rmse:0.242405\n",
      "[204]\teval-rmse:0.243761\ttrain-rmse:0.242366\n",
      "[205]\teval-rmse:0.243689\ttrain-rmse:0.24229\n",
      "[206]\teval-rmse:0.2436\ttrain-rmse:0.242195\n",
      "[207]\teval-rmse:0.243532\ttrain-rmse:0.242123\n",
      "[208]\teval-rmse:0.243463\ttrain-rmse:0.24205\n",
      "[209]\teval-rmse:0.243425\ttrain-rmse:0.242007\n",
      "[210]\teval-rmse:0.243354\ttrain-rmse:0.24193\n",
      "[211]\teval-rmse:0.243282\ttrain-rmse:0.241854\n",
      "[212]\teval-rmse:0.243213\ttrain-rmse:0.241778\n",
      "[213]\teval-rmse:0.24314\ttrain-rmse:0.241701\n",
      "[214]\teval-rmse:0.243122\ttrain-rmse:0.241678\n",
      "[215]\teval-rmse:0.243061\ttrain-rmse:0.241613\n",
      "[216]\teval-rmse:0.242994\ttrain-rmse:0.241541\n",
      "[217]\teval-rmse:0.242981\ttrain-rmse:0.241524\n",
      "[218]\teval-rmse:0.24297\ttrain-rmse:0.24151\n",
      "[219]\teval-rmse:0.242907\ttrain-rmse:0.241441\n",
      "[220]\teval-rmse:0.2429\ttrain-rmse:0.241432\n",
      "[221]\teval-rmse:0.242849\ttrain-rmse:0.241376\n",
      "[222]\teval-rmse:0.242797\ttrain-rmse:0.241319\n",
      "[223]\teval-rmse:0.242738\ttrain-rmse:0.241255\n",
      "[224]\teval-rmse:0.242726\ttrain-rmse:0.241242\n",
      "[225]\teval-rmse:0.24267\ttrain-rmse:0.241181\n",
      "[226]\teval-rmse:0.242622\ttrain-rmse:0.24113\n",
      "[227]\teval-rmse:0.242574\ttrain-rmse:0.241078\n",
      "[228]\teval-rmse:0.242527\ttrain-rmse:0.241026\n",
      "[229]\teval-rmse:0.242528\ttrain-rmse:0.241024\n",
      "[230]\teval-rmse:0.24253\ttrain-rmse:0.24102\n",
      "[231]\teval-rmse:0.242479\ttrain-rmse:0.240965\n",
      "[232]\teval-rmse:0.242483\ttrain-rmse:0.240965\n",
      "[233]\teval-rmse:0.242439\ttrain-rmse:0.240915\n",
      "[234]\teval-rmse:0.2424\ttrain-rmse:0.240872\n",
      "[235]\teval-rmse:0.242356\ttrain-rmse:0.240824\n",
      "[236]\teval-rmse:0.242341\ttrain-rmse:0.240803\n",
      "[237]\teval-rmse:0.24231\ttrain-rmse:0.240769\n",
      "[238]\teval-rmse:0.242268\ttrain-rmse:0.240723\n",
      "[239]\teval-rmse:0.242267\ttrain-rmse:0.240717\n",
      "[240]\teval-rmse:0.242239\ttrain-rmse:0.240687\n",
      "[241]\teval-rmse:0.242206\ttrain-rmse:0.24065\n",
      "[242]\teval-rmse:0.242219\ttrain-rmse:0.240657\n",
      "[243]\teval-rmse:0.242184\ttrain-rmse:0.240618\n",
      "[244]\teval-rmse:0.242151\ttrain-rmse:0.240582\n",
      "[245]\teval-rmse:0.242147\ttrain-rmse:0.240573\n",
      "[246]\teval-rmse:0.242119\ttrain-rmse:0.240541\n",
      "[247]\teval-rmse:0.242118\ttrain-rmse:0.240535\n",
      "[248]\teval-rmse:0.242137\ttrain-rmse:0.240549\n",
      "[249]\teval-rmse:0.242115\ttrain-rmse:0.240523\n",
      "[250]\teval-rmse:0.242114\ttrain-rmse:0.240518\n",
      "[251]\teval-rmse:0.242085\ttrain-rmse:0.240485\n",
      "[252]\teval-rmse:0.242087\ttrain-rmse:0.240482\n",
      "[253]\teval-rmse:0.24206\ttrain-rmse:0.240451\n",
      "[254]\teval-rmse:0.242084\ttrain-rmse:0.240471\n",
      "[255]\teval-rmse:0.242064\ttrain-rmse:0.240447\n",
      "[256]\teval-rmse:0.24204\ttrain-rmse:0.240419\n",
      "[257]\teval-rmse:0.242008\ttrain-rmse:0.240382\n",
      "[258]\teval-rmse:0.241974\ttrain-rmse:0.240344\n",
      "[259]\teval-rmse:0.241994\ttrain-rmse:0.24036\n",
      "[260]\teval-rmse:0.241967\ttrain-rmse:0.240328\n",
      "[261]\teval-rmse:0.241937\ttrain-rmse:0.240293\n",
      "[262]\teval-rmse:0.24192\ttrain-rmse:0.240272\n",
      "[263]\teval-rmse:0.241926\ttrain-rmse:0.240274\n",
      "[264]\teval-rmse:0.241906\ttrain-rmse:0.240248\n",
      "[265]\teval-rmse:0.241881\ttrain-rmse:0.24022\n",
      "[266]\teval-rmse:0.24189\ttrain-rmse:0.240224\n",
      "[267]\teval-rmse:0.241901\ttrain-rmse:0.24023\n",
      "[268]\teval-rmse:0.241879\ttrain-rmse:0.240204\n",
      "[269]\teval-rmse:0.241856\ttrain-rmse:0.240176\n",
      "[270]\teval-rmse:0.241829\ttrain-rmse:0.240143\n",
      "[271]\teval-rmse:0.241812\ttrain-rmse:0.240122\n",
      "[272]\teval-rmse:0.241796\ttrain-rmse:0.240102\n",
      "[273]\teval-rmse:0.241785\ttrain-rmse:0.240088\n",
      "[274]\teval-rmse:0.241817\ttrain-rmse:0.240117\n",
      "[275]\teval-rmse:0.241805\ttrain-rmse:0.240101\n",
      "[276]\teval-rmse:0.241796\ttrain-rmse:0.240088\n",
      "[277]\teval-rmse:0.241772\ttrain-rmse:0.240059\n",
      "[278]\teval-rmse:0.241752\ttrain-rmse:0.240033\n",
      "[279]\teval-rmse:0.241736\ttrain-rmse:0.240014\n",
      "[280]\teval-rmse:0.241722\ttrain-rmse:0.239995\n",
      "[281]\teval-rmse:0.241712\ttrain-rmse:0.239981\n",
      "[282]\teval-rmse:0.241745\ttrain-rmse:0.240009\n",
      "[283]\teval-rmse:0.241735\ttrain-rmse:0.239994\n",
      "[284]\teval-rmse:0.241725\ttrain-rmse:0.23998\n",
      "[285]\teval-rmse:0.241702\ttrain-rmse:0.239953\n",
      "[286]\teval-rmse:0.241686\ttrain-rmse:0.239933\n",
      "[287]\teval-rmse:0.241679\ttrain-rmse:0.239923\n",
      "[288]\teval-rmse:0.241673\ttrain-rmse:0.23991\n",
      "[289]\teval-rmse:0.241704\ttrain-rmse:0.239937\n",
      "[290]\teval-rmse:0.24169\ttrain-rmse:0.239917\n",
      "[291]\teval-rmse:0.241675\ttrain-rmse:0.2399\n",
      "[292]\teval-rmse:0.241661\ttrain-rmse:0.239882\n",
      "[293]\teval-rmse:0.241648\ttrain-rmse:0.239865\n",
      "[294]\teval-rmse:0.241686\ttrain-rmse:0.239899\n",
      "[295]\teval-rmse:0.241683\ttrain-rmse:0.239892\n",
      "[296]\teval-rmse:0.241676\ttrain-rmse:0.239881\n",
      "[297]\teval-rmse:0.241664\ttrain-rmse:0.239864\n",
      "[298]\teval-rmse:0.241655\ttrain-rmse:0.23985\n",
      "[299]\teval-rmse:0.241693\ttrain-rmse:0.239884\n",
      "[300]\teval-rmse:0.24169\ttrain-rmse:0.239876\n",
      "[301]\teval-rmse:0.241676\ttrain-rmse:0.23986\n",
      "[302]\teval-rmse:0.241664\ttrain-rmse:0.239843\n",
      "[303]\teval-rmse:0.241703\ttrain-rmse:0.239879\n",
      "[304]\teval-rmse:0.241684\ttrain-rmse:0.239855\n",
      "[305]\teval-rmse:0.241681\ttrain-rmse:0.239847\n",
      "[306]\teval-rmse:0.241674\ttrain-rmse:0.239836\n",
      "[307]\teval-rmse:0.241659\ttrain-rmse:0.239817\n",
      "[308]\teval-rmse:0.241653\ttrain-rmse:0.239807\n",
      "[309]\teval-rmse:0.241639\ttrain-rmse:0.239789\n",
      "[310]\teval-rmse:0.241632\ttrain-rmse:0.239779\n",
      "[311]\teval-rmse:0.241633\ttrain-rmse:0.239778\n",
      "[312]\teval-rmse:0.241637\ttrain-rmse:0.239778\n",
      "[313]\teval-rmse:0.241625\ttrain-rmse:0.239762\n",
      "[314]\teval-rmse:0.24161\ttrain-rmse:0.239743\n",
      "[315]\teval-rmse:0.241605\ttrain-rmse:0.239734\n",
      "[316]\teval-rmse:0.241591\ttrain-rmse:0.239717\n",
      "[317]\teval-rmse:0.241594\ttrain-rmse:0.239717\n",
      "[318]\teval-rmse:0.241587\ttrain-rmse:0.239706\n",
      "[319]\teval-rmse:0.241586\ttrain-rmse:0.239701\n",
      "[320]\teval-rmse:0.241581\ttrain-rmse:0.239693\n",
      "[321]\teval-rmse:0.241571\ttrain-rmse:0.239679\n",
      "[322]\teval-rmse:0.241566\ttrain-rmse:0.239672\n",
      "[323]\teval-rmse:0.241559\ttrain-rmse:0.239663\n",
      "[324]\teval-rmse:0.241557\ttrain-rmse:0.239657\n",
      "[325]\teval-rmse:0.241543\ttrain-rmse:0.239639\n",
      "[326]\teval-rmse:0.241535\ttrain-rmse:0.239629\n",
      "[327]\teval-rmse:0.24153\ttrain-rmse:0.239619\n",
      "[328]\teval-rmse:0.241528\ttrain-rmse:0.239614\n",
      "[329]\teval-rmse:0.24152\ttrain-rmse:0.239603\n",
      "[330]\teval-rmse:0.241518\ttrain-rmse:0.239598\n",
      "[331]\teval-rmse:0.241508\ttrain-rmse:0.239582\n",
      "[332]\teval-rmse:0.241502\ttrain-rmse:0.239573\n",
      "[333]\teval-rmse:0.241497\ttrain-rmse:0.239564\n",
      "[334]\teval-rmse:0.241483\ttrain-rmse:0.239547\n",
      "[335]\teval-rmse:0.241483\ttrain-rmse:0.239543\n",
      "[336]\teval-rmse:0.241476\ttrain-rmse:0.239531\n",
      "[337]\teval-rmse:0.24147\ttrain-rmse:0.239522\n",
      "[338]\teval-rmse:0.241465\ttrain-rmse:0.239513\n",
      "[339]\teval-rmse:0.24146\ttrain-rmse:0.239506\n",
      "[340]\teval-rmse:0.24146\ttrain-rmse:0.239503\n",
      "[341]\teval-rmse:0.241444\ttrain-rmse:0.239482\n",
      "[342]\teval-rmse:0.241447\ttrain-rmse:0.239482\n",
      "[343]\teval-rmse:0.241447\ttrain-rmse:0.239479\n",
      "[344]\teval-rmse:0.24144\ttrain-rmse:0.23947\n",
      "[345]\teval-rmse:0.241431\ttrain-rmse:0.239456\n",
      "[346]\teval-rmse:0.241416\ttrain-rmse:0.239437\n",
      "[347]\teval-rmse:0.24141\ttrain-rmse:0.239428\n",
      "[348]\teval-rmse:0.241408\ttrain-rmse:0.239423\n",
      "[349]\teval-rmse:0.241404\ttrain-rmse:0.239415\n",
      "[350]\teval-rmse:0.241416\ttrain-rmse:0.239422\n",
      "[351]\teval-rmse:0.241414\ttrain-rmse:0.239419\n",
      "[352]\teval-rmse:0.241428\ttrain-rmse:0.239429\n",
      "[353]\teval-rmse:0.241421\ttrain-rmse:0.23942\n",
      "[354]\teval-rmse:0.241436\ttrain-rmse:0.23943\n",
      "[355]\teval-rmse:0.241436\ttrain-rmse:0.239426\n",
      "[356]\teval-rmse:0.241433\ttrain-rmse:0.23942\n",
      "[357]\teval-rmse:0.241429\ttrain-rmse:0.239412\n",
      "[358]\teval-rmse:0.241424\ttrain-rmse:0.239404\n",
      "[359]\teval-rmse:0.24142\ttrain-rmse:0.239397\n",
      "[360]\teval-rmse:0.241418\ttrain-rmse:0.239391\n",
      "[361]\teval-rmse:0.241434\ttrain-rmse:0.239403\n",
      "[362]\teval-rmse:0.241431\ttrain-rmse:0.239396\n",
      "[363]\teval-rmse:0.241428\ttrain-rmse:0.239389\n",
      "[364]\teval-rmse:0.241415\ttrain-rmse:0.239371\n",
      "[365]\teval-rmse:0.241412\ttrain-rmse:0.239366\n",
      "[366]\teval-rmse:0.241399\ttrain-rmse:0.239347\n",
      "[367]\teval-rmse:0.241387\ttrain-rmse:0.239331\n",
      "[368]\teval-rmse:0.241384\ttrain-rmse:0.239324\n",
      "[369]\teval-rmse:0.241381\ttrain-rmse:0.239316\n",
      "[370]\teval-rmse:0.241377\ttrain-rmse:0.239309\n",
      "[371]\teval-rmse:0.241365\ttrain-rmse:0.239293\n",
      "[372]\teval-rmse:0.241353\ttrain-rmse:0.239275\n",
      "[373]\teval-rmse:0.241346\ttrain-rmse:0.239265\n",
      "[374]\teval-rmse:0.241343\ttrain-rmse:0.239258\n",
      "[375]\teval-rmse:0.241341\ttrain-rmse:0.239253\n",
      "[376]\teval-rmse:0.24133\ttrain-rmse:0.239237\n",
      "[377]\teval-rmse:0.241327\ttrain-rmse:0.23923\n",
      "[378]\teval-rmse:0.241317\ttrain-rmse:0.239216\n",
      "[379]\teval-rmse:0.241311\ttrain-rmse:0.239206\n",
      "[380]\teval-rmse:0.2413\ttrain-rmse:0.23919\n",
      "[381]\teval-rmse:0.241292\ttrain-rmse:0.239179\n",
      "[382]\teval-rmse:0.24129\ttrain-rmse:0.239173\n",
      "[383]\teval-rmse:0.241301\ttrain-rmse:0.239181\n",
      "[384]\teval-rmse:0.241291\ttrain-rmse:0.239167\n",
      "[385]\teval-rmse:0.241284\ttrain-rmse:0.239156\n",
      "[386]\teval-rmse:0.241296\ttrain-rmse:0.239165\n",
      "[387]\teval-rmse:0.241291\ttrain-rmse:0.239158\n",
      "[388]\teval-rmse:0.241293\ttrain-rmse:0.239156\n",
      "[389]\teval-rmse:0.241282\ttrain-rmse:0.23914\n",
      "[390]\teval-rmse:0.241299\ttrain-rmse:0.239154\n",
      "[391]\teval-rmse:0.241293\ttrain-rmse:0.239145\n",
      "[392]\teval-rmse:0.241283\ttrain-rmse:0.239131\n",
      "[393]\teval-rmse:0.241277\ttrain-rmse:0.239121\n",
      "[394]\teval-rmse:0.241288\ttrain-rmse:0.23913\n",
      "[395]\teval-rmse:0.241285\ttrain-rmse:0.239124\n",
      "[396]\teval-rmse:0.241283\ttrain-rmse:0.239118\n",
      "[397]\teval-rmse:0.241268\ttrain-rmse:0.239097\n",
      "[398]\teval-rmse:0.241254\ttrain-rmse:0.239076\n",
      "[399]\teval-rmse:0.241251\ttrain-rmse:0.23907\n",
      "[400]\teval-rmse:0.241268\ttrain-rmse:0.239084\n",
      "[401]\teval-rmse:0.241306\ttrain-rmse:0.23912\n",
      "[402]\teval-rmse:0.241291\ttrain-rmse:0.239099\n",
      "[403]\teval-rmse:0.241289\ttrain-rmse:0.239094\n",
      "[404]\teval-rmse:0.241273\ttrain-rmse:0.239072\n",
      "[405]\teval-rmse:0.241269\ttrain-rmse:0.239062\n",
      "[406]\teval-rmse:0.241255\ttrain-rmse:0.239042\n",
      "[407]\teval-rmse:0.241251\ttrain-rmse:0.239036\n",
      "[408]\teval-rmse:0.241237\ttrain-rmse:0.239015\n",
      "[409]\teval-rmse:0.241233\ttrain-rmse:0.239007\n",
      "[410]\teval-rmse:0.241219\ttrain-rmse:0.238986\n",
      "[411]\teval-rmse:0.241215\ttrain-rmse:0.238978\n",
      "[412]\teval-rmse:0.24121\ttrain-rmse:0.23897\n",
      "[413]\teval-rmse:0.241199\ttrain-rmse:0.238955\n",
      "[414]\teval-rmse:0.24119\ttrain-rmse:0.238939\n",
      "[415]\teval-rmse:0.241182\ttrain-rmse:0.238924\n",
      "[416]\teval-rmse:0.24118\ttrain-rmse:0.23892\n",
      "[417]\teval-rmse:0.241164\ttrain-rmse:0.238897\n",
      "[418]\teval-rmse:0.241156\ttrain-rmse:0.238881\n",
      "[419]\teval-rmse:0.241156\ttrain-rmse:0.238879\n",
      "[420]\teval-rmse:0.241142\ttrain-rmse:0.238858\n",
      "[421]\teval-rmse:0.241134\ttrain-rmse:0.238842\n",
      "[422]\teval-rmse:0.24112\ttrain-rmse:0.238822\n",
      "[423]\teval-rmse:0.241121\ttrain-rmse:0.238819\n",
      "[424]\teval-rmse:0.24111\ttrain-rmse:0.238803\n",
      "[425]\teval-rmse:0.241098\ttrain-rmse:0.238783\n",
      "[426]\teval-rmse:0.241086\ttrain-rmse:0.238767\n",
      "[427]\teval-rmse:0.24108\ttrain-rmse:0.238756\n",
      "[428]\teval-rmse:0.24107\ttrain-rmse:0.23874\n",
      "[429]\teval-rmse:0.241058\ttrain-rmse:0.238723\n",
      "[430]\teval-rmse:0.241046\ttrain-rmse:0.238708\n",
      "[431]\teval-rmse:0.241034\ttrain-rmse:0.238688\n",
      "[432]\teval-rmse:0.241023\ttrain-rmse:0.238673\n",
      "[433]\teval-rmse:0.241012\ttrain-rmse:0.238657\n",
      "[434]\teval-rmse:0.241003\ttrain-rmse:0.238644\n",
      "[435]\teval-rmse:0.240998\ttrain-rmse:0.238633\n",
      "[436]\teval-rmse:0.240999\ttrain-rmse:0.238632\n",
      "[437]\teval-rmse:0.240986\ttrain-rmse:0.238612\n",
      "[438]\teval-rmse:0.240979\ttrain-rmse:0.238597\n",
      "[439]\teval-rmse:0.24097\ttrain-rmse:0.238584\n",
      "[440]\teval-rmse:0.240973\ttrain-rmse:0.238584\n",
      "[441]\teval-rmse:0.240975\ttrain-rmse:0.238584\n",
      "[442]\teval-rmse:0.240976\ttrain-rmse:0.238583\n",
      "[443]\teval-rmse:0.240965\ttrain-rmse:0.238564\n",
      "[444]\teval-rmse:0.240959\ttrain-rmse:0.238551\n",
      "[445]\teval-rmse:0.24095\ttrain-rmse:0.238537\n",
      "[446]\teval-rmse:0.240945\ttrain-rmse:0.238528\n",
      "[447]\teval-rmse:0.240937\ttrain-rmse:0.238515\n",
      "[448]\teval-rmse:0.240928\ttrain-rmse:0.238502\n",
      "[449]\teval-rmse:0.240923\ttrain-rmse:0.238492\n",
      "[450]\teval-rmse:0.240926\ttrain-rmse:0.238491\n",
      "[451]\teval-rmse:0.240928\ttrain-rmse:0.238491\n",
      "[452]\teval-rmse:0.240929\ttrain-rmse:0.238489\n",
      "[453]\teval-rmse:0.240917\ttrain-rmse:0.238471\n",
      "[454]\teval-rmse:0.240909\ttrain-rmse:0.238459\n",
      "[455]\teval-rmse:0.240904\ttrain-rmse:0.238447\n",
      "[456]\teval-rmse:0.2409\ttrain-rmse:0.238438\n",
      "[457]\teval-rmse:0.24089\ttrain-rmse:0.23842\n",
      "[458]\teval-rmse:0.240891\ttrain-rmse:0.238419\n",
      "[459]\teval-rmse:0.240884\ttrain-rmse:0.238408\n",
      "[460]\teval-rmse:0.240877\ttrain-rmse:0.238395\n",
      "[461]\teval-rmse:0.240873\ttrain-rmse:0.238386\n",
      "[462]\teval-rmse:0.240872\ttrain-rmse:0.238382\n",
      "[463]\teval-rmse:0.240862\ttrain-rmse:0.238365\n",
      "[464]\teval-rmse:0.240864\ttrain-rmse:0.238364\n",
      "[465]\teval-rmse:0.240855\ttrain-rmse:0.23835\n",
      "[466]\teval-rmse:0.24085\ttrain-rmse:0.238337\n",
      "[467]\teval-rmse:0.240845\ttrain-rmse:0.238329\n",
      "[468]\teval-rmse:0.240833\ttrain-rmse:0.238308\n",
      "[469]\teval-rmse:0.240829\ttrain-rmse:0.2383\n",
      "[470]\teval-rmse:0.240819\ttrain-rmse:0.238282\n",
      "[471]\teval-rmse:0.240814\ttrain-rmse:0.238272\n",
      "[472]\teval-rmse:0.240809\ttrain-rmse:0.238262\n",
      "[473]\teval-rmse:0.240812\ttrain-rmse:0.238263\n",
      "[474]\teval-rmse:0.240808\ttrain-rmse:0.238254\n",
      "[475]\teval-rmse:0.240811\ttrain-rmse:0.238256\n",
      "[476]\teval-rmse:0.240804\ttrain-rmse:0.238243\n",
      "[477]\teval-rmse:0.2408\ttrain-rmse:0.238235\n",
      "[478]\teval-rmse:0.24079\ttrain-rmse:0.238216\n",
      "[479]\teval-rmse:0.240785\ttrain-rmse:0.238205\n",
      "[480]\teval-rmse:0.240792\ttrain-rmse:0.238209\n",
      "[481]\teval-rmse:0.24079\ttrain-rmse:0.238203\n",
      "[482]\teval-rmse:0.240799\ttrain-rmse:0.238207\n",
      "[483]\teval-rmse:0.240796\ttrain-rmse:0.238199\n",
      "[484]\teval-rmse:0.240822\ttrain-rmse:0.238222\n",
      "[485]\teval-rmse:0.240857\ttrain-rmse:0.238256\n",
      "[486]\teval-rmse:0.240853\ttrain-rmse:0.238248\n",
      "[487]\teval-rmse:0.240866\ttrain-rmse:0.238257\n",
      "[488]\teval-rmse:0.240904\ttrain-rmse:0.238295\n",
      "[489]\teval-rmse:0.240941\ttrain-rmse:0.238333\n",
      "[490]\teval-rmse:0.240937\ttrain-rmse:0.238322\n",
      "[491]\teval-rmse:0.240971\ttrain-rmse:0.238355\n",
      "[492]\teval-rmse:0.241006\ttrain-rmse:0.238389\n",
      "[493]\teval-rmse:0.240996\ttrain-rmse:0.238375\n",
      "[494]\teval-rmse:0.240988\ttrain-rmse:0.238362\n",
      "[495]\teval-rmse:0.240984\ttrain-rmse:0.238351\n",
      "[496]\teval-rmse:0.240981\ttrain-rmse:0.238345\n",
      "[497]\teval-rmse:0.240976\ttrain-rmse:0.238334\n",
      "[498]\teval-rmse:0.240974\ttrain-rmse:0.238325\n",
      "[499]\teval-rmse:0.240968\ttrain-rmse:0.238314\n",
      "Elapsed time: 150.56257963180542\n"
     ]
    }
   ],
   "source": [
    "num_round = 500\n",
    "\n",
    "start = time.time()\n",
    "bst = xgb.train(param, dtrain, num_round, evallist)\n",
    "end = time.time()\n",
    "\n",
    "print('Elapsed time:', end - start)"
   ]
  },
  {
   "cell_type": "code",
   "execution_count": 27,
   "metadata": {
    "collapsed": true
   },
   "outputs": [],
   "source": [
    "bst.dump_model('models/xgboost.model')"
   ]
  },
  {
   "cell_type": "markdown",
   "metadata": {},
   "source": [
    "Aplicando o modelo ao conjunto de testes:"
   ]
  },
  {
   "cell_type": "code",
   "execution_count": 102,
   "metadata": {
    "collapsed": false
   },
   "outputs": [],
   "source": [
    "dtest_submit = xgb.DMatrix(X_submit.values)"
   ]
  },
  {
   "cell_type": "code",
   "execution_count": 104,
   "metadata": {
    "collapsed": false
   },
   "outputs": [],
   "source": [
    "y_pred = bst.predict(dtest_submit)"
   ]
  },
  {
   "cell_type": "code",
   "execution_count": 105,
   "metadata": {
    "collapsed": false
   },
   "outputs": [
    {
     "data": {
      "text/plain": [
       "array([ 0.20227824,  0.73465848,  0.22674762, ...,  0.15490668,\n",
       "        0.61257041,  0.33462408], dtype=float32)"
      ]
     },
     "execution_count": 105,
     "metadata": {},
     "output_type": "execute_result"
    }
   ],
   "source": [
    "y_pred"
   ]
  },
  {
   "cell_type": "markdown",
   "metadata": {},
   "source": [
    "Gerando arquivo de submissão:"
   ]
  },
  {
   "cell_type": "code",
   "execution_count": 111,
   "metadata": {
    "collapsed": true
   },
   "outputs": [],
   "source": [
    "df_submit = pd.DataFrame(np.column_stack((df_test['item_id'].values, y_pred)), columns=['item_id', 'deal_probability'])"
   ]
  },
  {
   "cell_type": "code",
   "execution_count": 112,
   "metadata": {
    "collapsed": false
   },
   "outputs": [
    {
     "data": {
      "text/html": [
       "<div>\n",
       "<style>\n",
       "    .dataframe thead tr:only-child th {\n",
       "        text-align: right;\n",
       "    }\n",
       "\n",
       "    .dataframe thead th {\n",
       "        text-align: left;\n",
       "    }\n",
       "\n",
       "    .dataframe tbody tr th {\n",
       "        vertical-align: top;\n",
       "    }\n",
       "</style>\n",
       "<table border=\"1\" class=\"dataframe\">\n",
       "  <thead>\n",
       "    <tr style=\"text-align: right;\">\n",
       "      <th></th>\n",
       "      <th>item_id</th>\n",
       "      <th>deal_probability</th>\n",
       "    </tr>\n",
       "  </thead>\n",
       "  <tbody>\n",
       "    <tr>\n",
       "      <th>0</th>\n",
       "      <td>6544e41a8817</td>\n",
       "      <td>0.202278</td>\n",
       "    </tr>\n",
       "    <tr>\n",
       "      <th>1</th>\n",
       "      <td>65b9484d670f</td>\n",
       "      <td>0.734658</td>\n",
       "    </tr>\n",
       "    <tr>\n",
       "      <th>2</th>\n",
       "      <td>8bab230b2ecd</td>\n",
       "      <td>0.226748</td>\n",
       "    </tr>\n",
       "    <tr>\n",
       "      <th>3</th>\n",
       "      <td>8e348601fefc</td>\n",
       "      <td>0.388775</td>\n",
       "    </tr>\n",
       "    <tr>\n",
       "      <th>4</th>\n",
       "      <td>8bd2fe400b89</td>\n",
       "      <td>0.793206</td>\n",
       "    </tr>\n",
       "  </tbody>\n",
       "</table>\n",
       "</div>"
      ],
      "text/plain": [
       "        item_id deal_probability\n",
       "0  6544e41a8817         0.202278\n",
       "1  65b9484d670f         0.734658\n",
       "2  8bab230b2ecd         0.226748\n",
       "3  8e348601fefc         0.388775\n",
       "4  8bd2fe400b89         0.793206"
      ]
     },
     "execution_count": 112,
     "metadata": {},
     "output_type": "execute_result"
    }
   ],
   "source": [
    "df_submit.head()"
   ]
  },
  {
   "cell_type": "code",
   "execution_count": 114,
   "metadata": {
    "collapsed": true
   },
   "outputs": [],
   "source": [
    "df_submit.to_csv('submit/xgboost.csv', index=False)"
   ]
  },
  {
   "cell_type": "markdown",
   "metadata": {},
   "source": [
    "## 5. Realizando submissões"
   ]
  },
  {
   "cell_type": "markdown",
   "metadata": {},
   "source": [
    "As submissões são avaliadas pelo Root Mean Squared Error (RMSE), definido como:\n",
    "\n"
   ]
  },
  {
   "cell_type": "markdown",
   "metadata": {},
   "source": [
    "![RMSE formula](./rmse.png)"
   ]
  },
  {
   "cell_type": "markdown",
   "metadata": {},
   "source": [
    "onde **y** são os valores previstos, **ˆy** o valor original (conhecido apenas pela organização da competição) e **n** o número de elementos com previsões.\n",
    "\n",
    "Cada arquivo de submissão deve serguir um formato previsto pelas regras da competição:\n",
    "Ser um arquivo do tipo CSV contendo duas colunas `item_id`, com valores da base de testes da competição e `deal_probability`, as respectivas probabilidades em um intervalo entre 0 e 1 como as previsões geradas."
   ]
  },
  {
   "cell_type": "markdown",
   "metadata": {},
   "source": [
    "Com os arquivos de submissão dos modelos já prontos, foram realizadas submissões à competição no Kaggle. "
   ]
  },
  {
   "cell_type": "markdown",
   "metadata": {},
   "source": [
    "Para a abordagem com a árvore de decisão foi obtido erro médio quadrático igual à 0.2446, nos garantingo a posição de 1398 no ranking geral da competição"
   ]
  },
  {
   "cell_type": "markdown",
   "metadata": {},
   "source": [
    "Para as predições realizadas com a técnica de Gradient Boosting o erro quadrático médio foi de 0.3447."
   ]
  }
 ],
 "metadata": {
  "anaconda-cloud": {},
  "kernelspec": {
   "display_name": "Python [Root]",
   "language": "python",
   "name": "Python [Root]"
  },
  "language_info": {
   "codemirror_mode": {
    "name": "ipython",
    "version": 3
   },
   "file_extension": ".py",
   "mimetype": "text/x-python",
   "name": "python",
   "nbconvert_exporter": "python",
   "pygments_lexer": "ipython3",
   "version": "3.5.2"
  }
 },
 "nbformat": 4,
 "nbformat_minor": 2
}
